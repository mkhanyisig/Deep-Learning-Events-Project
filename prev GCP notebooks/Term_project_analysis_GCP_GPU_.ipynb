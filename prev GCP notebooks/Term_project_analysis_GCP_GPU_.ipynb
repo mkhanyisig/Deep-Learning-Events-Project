{
  "cells": [
    {
      "cell_type": "markdown",
      "metadata": {
        "id": "Q81Qd7FNJapD"
      },
      "source": [
        "### Mkhanyisi Gamedze\n",
        "#### COSI 165B Deep Learning\n",
        "#### Term Project Analysis - Google Cloud\n",
        "#### 10 May 2022\n",
        "\n",
        "\n",
        "\n",
        "DataSet link: https://competitions.codalab.org/competitions/4081#participate-get-data or https://chalearnlap.cvc.uab.cat/dataset/17/description/"
      ]
    },
    {
      "cell_type": "code",
      "execution_count": 82,
      "metadata": {
        "id": "UE5Pndy7JapH"
      },
      "outputs": [],
      "source": [
        "import os\n",
        "import pandas as pd\n",
        "import numpy as np\n",
        "from PIL import Image\n",
        "from matplotlib import pyplot as plt\n",
        "from scipy import ndimage, misc\n",
        "import imageio\n",
        "import cv2\n",
        "\n",
        "import torch\n",
        "import torch.nn as nn\n",
        "import torch.nn.functional as F\n",
        "import torch.optim as optim\n",
        "from torch.utils.data import TensorDataset, DataLoader\n",
        "\n",
        "from tqdm import tqdm"
      ]
    },
    {
      "cell_type": "code",
      "source": [
        ""
      ],
      "metadata": {
        "id": "FnqNS6kjJgP0"
      },
      "execution_count": 82,
      "outputs": []
    },
    {
      "cell_type": "markdown",
      "metadata": {
        "id": "_Z09w-EIJapJ"
      },
      "source": [
        "### Load Data\n",
        "\n",
        "Build labels Dataframe\n",
        "\n",
        "<b>Train Labels</b>"
      ]
    },
    {
      "cell_type": "code",
      "source": [
        "from google.colab import drive\n",
        "drive.mount('/content/drive')"
      ],
      "metadata": {
        "id": "06-NGCHhJiKr",
        "colab": {
          "base_uri": "https://localhost:8080/",
          "height": 0
        },
        "outputId": "6ef7c175-6ea5-4295-fc91-737ee370f6ed"
      },
      "execution_count": 83,
      "outputs": [
        {
          "output_type": "stream",
          "name": "stdout",
          "text": [
            "Drive already mounted at /content/drive; to attempt to forcibly remount, call drive.mount(\"/content/drive\", force_remount=True).\n"
          ]
        }
      ]
    },
    {
      "cell_type": "code",
      "source": [
        "r=\"/content/drive/MyDrive/COSI 165B Deep Learning/Term project\"\n",
        "os.chdir(r)\n",
        "print(os.getcwd())"
      ],
      "metadata": {
        "colab": {
          "base_uri": "https://localhost:8080/",
          "height": 0
        },
        "id": "ptly9SlHOWVM",
        "outputId": "274a6fd9-fd38-418e-d1bf-b90ff4b777b1"
      },
      "execution_count": 84,
      "outputs": [
        {
          "output_type": "stream",
          "name": "stdout",
          "text": [
            "/content/drive/MyDrive/COSI 165B Deep Learning/Term project\n"
          ]
        }
      ]
    },
    {
      "cell_type": "markdown",
      "source": [
        "### Load saved data"
      ],
      "metadata": {
        "id": "hDib8DAsNC5n"
      }
    },
    {
      "cell_type": "code",
      "source": [
        "os.chdir(r)\n",
        "print(os.getcwd())\n",
        "os.listdir()"
      ],
      "metadata": {
        "colab": {
          "base_uri": "https://localhost:8080/",
          "height": 0
        },
        "id": "MV8mwEGPNHH1",
        "outputId": "4f0f8f41-aba7-4dcd-c9d8-d60b6e68a20c"
      },
      "execution_count": 85,
      "outputs": [
        {
          "output_type": "stream",
          "name": "stdout",
          "text": [
            "/content/drive/MyDrive/COSI 165B Deep Learning/Term project\n"
          ]
        },
        {
          "output_type": "execute_result",
          "data": {
            "text/plain": [
              "['dataset', 'Numpy Clean Dataset']"
            ]
          },
          "metadata": {},
          "execution_count": 85
        }
      ]
    },
    {
      "cell_type": "code",
      "source": [
        "os.chdir('./Numpy Clean Dataset')"
      ],
      "metadata": {
        "id": "bSN995_lNN21"
      },
      "execution_count": 86,
      "outputs": []
    },
    {
      "cell_type": "code",
      "source": [
        "fulldataX=np.load('smallerdataX.npy')\n",
        "\n",
        "fulldataX.shape"
      ],
      "metadata": {
        "colab": {
          "base_uri": "https://localhost:8080/",
          "height": 0
        },
        "id": "3mc5f-3QNi7F",
        "outputId": "61384944-2228-4533-a48a-f945bb21974d"
      },
      "execution_count": 87,
      "outputs": [
        {
          "output_type": "execute_result",
          "data": {
            "text/plain": [
              "(2254, 256, 256, 3)"
            ]
          },
          "metadata": {},
          "execution_count": 87
        }
      ]
    },
    {
      "cell_type": "code",
      "source": [
        "fulldataY=np.load('reencoded_smallerdataY.npy')\n",
        "fulldataY.shape"
      ],
      "metadata": {
        "colab": {
          "base_uri": "https://localhost:8080/",
          "height": 0
        },
        "id": "F4arhN9INosm",
        "outputId": "2c901341-9e71-4448-bb8c-a8773603862d"
      },
      "execution_count": 88,
      "outputs": [
        {
          "output_type": "execute_result",
          "data": {
            "text/plain": [
              "(2254, 1)"
            ]
          },
          "metadata": {},
          "execution_count": 88
        }
      ]
    },
    {
      "cell_type": "markdown",
      "metadata": {
        "id": "4dSxTWicJapX"
      },
      "source": [
        "<b>Test Transform</b>"
      ]
    },
    {
      "cell_type": "code",
      "execution_count": 89,
      "metadata": {
        "id": "wcy9feLWJapX",
        "outputId": "3381237b-69d0-4698-d452-604068be890e",
        "colab": {
          "base_uri": "https://localhost:8080/",
          "height": 269
        }
      },
      "outputs": [
        {
          "output_type": "display_data",
          "data": {
            "text/plain": [
              "<Figure size 432x288 with 1 Axes>"
            ],
            "image/png": "[encoded data removed]"
          },
          "metadata": {
            "needs_background": "light"
          }
        }
      ],
      "source": [
        "plt.imshow(fulldataX[1])\n",
        "plt.show()"
      ]
    },
    {
      "cell_type": "code",
      "execution_count": 90,
      "metadata": {
        "id": "xoDTyEHfJapX",
        "outputId": "59af1ef5-5bf3-47b4-8203-a54f01a2c2b8",
        "colab": {
          "base_uri": "https://localhost:8080/",
          "height": 0
        }
      },
      "outputs": [
        {
          "output_type": "execute_result",
          "data": {
            "text/plain": [
              "(2254, 1)"
            ]
          },
          "metadata": {},
          "execution_count": 90
        }
      ],
      "source": [
        "fulldataY.shape"
      ]
    },
    {
      "cell_type": "markdown",
      "metadata": {
        "id": "bVn4giQ3JapX"
      },
      "source": [
        "#### To Tensor"
      ]
    },
    {
      "cell_type": "code",
      "execution_count": 91,
      "metadata": {
        "id": "4gykmhcVJapX",
        "outputId": "c649836c-c99e-43c7-f10d-c817c5e7ae08",
        "colab": {
          "base_uri": "https://localhost:8080/",
          "height": 0
        }
      },
      "outputs": [
        {
          "output_type": "execute_result",
          "data": {
            "text/plain": [
              "(torch.Size([2254, 256, 256, 3]), torch.Size([2254, 1]))"
            ]
          },
          "metadata": {},
          "execution_count": 91
        }
      ],
      "source": [
        "tensordataX = torch.FloatTensor(fulldataX)\n",
        "\n",
        "tensordataY = torch.FloatTensor(fulldataY.astype(int))\n",
        "\n",
        "\n",
        "tensordataX.shape, tensordataY.shape"
      ]
    },
    {
      "cell_type": "markdown",
      "metadata": {
        "id": "MS63QmcPJapY"
      },
      "source": [
        "<b>Permute Images so input channel is color for convolution</b>"
      ]
    },
    {
      "cell_type": "code",
      "execution_count": 92,
      "metadata": {
        "id": "q0DYyg-7JapY",
        "outputId": "fade0b90-9108-43d8-8b0c-85477e944ae2",
        "colab": {
          "base_uri": "https://localhost:8080/",
          "height": 0
        }
      },
      "outputs": [
        {
          "output_type": "execute_result",
          "data": {
            "text/plain": [
              "torch.Size([2254, 3, 256, 256])"
            ]
          },
          "metadata": {},
          "execution_count": 92
        }
      ],
      "source": [
        "tensordataX=tensordataX.permute(0,3,1,2)\n",
        "tensordataX.shape"
      ]
    },
    {
      "cell_type": "markdown",
      "metadata": {
        "id": "DkrMtQHrJapY"
      },
      "source": [
        "### Train-Test split (80 : 20)"
      ]
    },
    {
      "cell_type": "code",
      "execution_count": 122,
      "metadata": {
        "id": "zav9qvxnJapY",
        "outputId": "b5135e42-f4e1-4007-f232-2c9753bb3826",
        "colab": {
          "base_uri": "https://localhost:8080/",
          "height": 0
        }
      },
      "outputs": [
        {
          "output_type": "execute_result",
          "data": {
            "text/plain": [
              "(torch.Size([1803, 3, 256, 256]),\n",
              " torch.Size([1803, 1]),\n",
              " torch.Size([451, 3, 256, 256]),\n",
              " torch.Size([451, 1]))"
            ]
          },
          "metadata": {},
          "execution_count": 122
        }
      ],
      "source": [
        "p=int(0.8*(tensordataX.shape[0]))\n",
        "\n",
        "trainX=tensordataX[:p]\n",
        "testX=tensordataX[p:]\n",
        "trainY=tensordataY[:p]\n",
        "testY=tensordataY[p:]\n",
        "\n",
        "trainX.shape, trainY.shape, testX.shape, testY.shape"
      ]
    },
    {
      "cell_type": "markdown",
      "metadata": {
        "id": "wtnctCwBJapY"
      },
      "source": [
        "### Vanilla CNN model"
      ]
    },
    {
      "cell_type": "code",
      "execution_count": 214,
      "metadata": {
        "id": "KcC8R8_sJapZ"
      },
      "outputs": [],
      "source": [
        "# CNN model\n",
        "class Net(nn.Module):\n",
        "\n",
        "    def __init__(self):\n",
        "        super().__init__()\n",
        "        \n",
        "        # define convolution layers\n",
        "        \"\"\"\n",
        "        self.conv1 = nn.Conv2d(3, 96, kernel_size=(7,7), stride=2)\n",
        "        self.conv2 = nn.Conv2d(96, 512, kernel_size=(3,3), stride=1)\n",
        "        \"\"\"\n",
        "        self.conv1 = nn.Conv2d(3, 6, kernel_size=(5,5), stride=1)\n",
        "        self.conv2 = nn.Conv2d(6, 16, kernel_size=(5,5), stride=1)\n",
        "        \n",
        "        \n",
        "        # figure out output conv flat length\n",
        "        x = torch.randn(1,3,256,256)\n",
        "        self._to_linear = None\n",
        "        self.convs(x)\n",
        "        \n",
        "        # fully connected layers\n",
        "        self.fc1 = nn.Linear(self._to_linear, 500)\n",
        "        self.fc2 = nn.Linear(500,250)\n",
        "        self.fc3 = nn.Linear(250, 11)\n",
        "        self.softmax = nn.Softmax(dim=1)\n",
        "\n",
        "        \n",
        "    def convs(self, x):\n",
        "        # max pooling over 2x2 both Conv layers\n",
        "        x=self.conv1(x)\n",
        "        x=F.relu(x)\n",
        "        x =F.max_pool2d(x, (2, 2))\n",
        "        \n",
        "        x = F.max_pool2d(F.relu(self.conv2(x)), (2, 2))\n",
        "        \n",
        "        \n",
        "        #print(x.shape)\n",
        "        # first pass, figure flat length\n",
        "        if self._to_linear is None:\n",
        "            print(\"x[0] : \",x[0].shape)\n",
        "            self._to_linear = x[0].shape[0]*x[0].shape[1]*x[0].shape[2]\n",
        "        return x\n",
        "    \n",
        "    def forward(self, x):\n",
        "        x = self.convs(x) # first two convolutional layers\n",
        "        x = x.reshape(-1, self._to_linear) # flatten x\n",
        "        x = F.relu(self.fc1(x))\n",
        "        x = F.relu(self.fc2(x))\n",
        "        #x = F.sigmoid(self.fc3(x)) # Sigmoidal activation for output layer since two class problem\n",
        "        x=F.log_softmax(self.fc3(x), dim=1)\n",
        "        \n",
        "        #x=self.softmax(self.fc3(x))\n",
        "        #print(\"x:\",x.shape)\n",
        "        #print(\"x:\",x)\n",
        "        return x"
      ]
    },
    {
      "cell_type": "code",
      "execution_count": 215,
      "metadata": {
        "id": "FbVEtcaRJapZ",
        "outputId": "4b80eb63-fc22-4e99-b673-eafe7385116d",
        "colab": {
          "base_uri": "https://localhost:8080/"
        }
      },
      "outputs": [
        {
          "output_type": "stream",
          "name": "stdout",
          "text": [
            "x[0] :  torch.Size([16, 61, 61])\n"
          ]
        }
      ],
      "source": [
        "vanillaCNN=Net()"
      ]
    },
    {
      "cell_type": "code",
      "source": [
        "dev = torch.device('cuda' if torch.cuda.is_available() else 'cpu')\n",
        "print('Using device \"%s\" for training' % dev)\n",
        "vanillaCNN.to(dev)"
      ],
      "metadata": {
        "colab": {
          "base_uri": "https://localhost:8080/"
        },
        "id": "RRCtAiIue6sH",
        "outputId": "0e65a989-f4ec-40e7-8e4a-1ce3972f7f99"
      },
      "execution_count": 216,
      "outputs": [
        {
          "output_type": "stream",
          "name": "stdout",
          "text": [
            "Using device \"cuda\" for training\n"
          ]
        },
        {
          "output_type": "execute_result",
          "data": {
            "text/plain": [
              "Net(\n",
              "  (conv1): Conv2d(3, 6, kernel_size=(5, 5), stride=(1, 1))\n",
              "  (conv2): Conv2d(6, 16, kernel_size=(5, 5), stride=(1, 1))\n",
              "  (fc1): Linear(in_features=59536, out_features=500, bias=True)\n",
              "  (fc2): Linear(in_features=500, out_features=250, bias=True)\n",
              "  (fc3): Linear(in_features=250, out_features=11, bias=True)\n",
              "  (softmax): Softmax(dim=1)\n",
              ")"
            ]
          },
          "metadata": {},
          "execution_count": 216
        }
      ]
    },
    {
      "cell_type": "code",
      "execution_count": 217,
      "metadata": {
        "id": "qNA-JlhBJapZ",
        "outputId": "20f5e99a-e299-48c4-cc4b-e424088aef2d",
        "colab": {
          "base_uri": "https://localhost:8080/"
        }
      },
      "outputs": [
        {
          "output_type": "stream",
          "name": "stdout",
          "text": [
            "image shape:  torch.Size([19, 3, 256, 256])\n",
            "reshaped img:  torch.Size([19, 3, 256, 256])\n",
            "v shape:  torch.Size([1, 3, 256, 256])\n",
            "squezzed img:  torch.Size([19, 3, 256, 256])\n",
            "rand tensor shape:  torch.Size([10, 3, 256, 256])\n",
            "output:  tensor([[-2.3014, -2.4221, -2.4900, -2.3688, -2.3860, -2.4351, -2.3457, -2.4537,\n",
            "         -2.4456, -2.3443, -2.4000]], device='cuda:0',\n",
            "       grad_fn=<LogSoftmaxBackward0>)\n",
            "rand img output:  torch.Size([10, 11])\n"
          ]
        }
      ],
      "source": [
        "#transform = torchvision.transforms.ToTensor()\n",
        "img=trainX[:19].cuda()\n",
        "print(\"image shape: \",img.shape)\n",
        "print(\"reshaped img: \",img.view(-1,3,256,256).shape)\n",
        "\n",
        "v=torch.randn(1,3,256,256).cuda()\n",
        "print(\"v shape: \",v.shape)\n",
        "r=vanillaCNN.forward(v)\n",
        "simg=torch.squeeze(img.view(-1,3,256,256))\n",
        "print(\"squezzed img: \",simg.shape)\n",
        "\n",
        "\n",
        "im= torch.rand(10, 3, 256,256).cuda()\n",
        "print(\"rand tensor shape: \",im.shape)\n",
        "c=vanillaCNN.forward(im)\n",
        "\n",
        "print(\"output: \",r)\n",
        "print(\"rand img output: \",c.shape)"
      ]
    },
    {
      "cell_type": "code",
      "execution_count": 218,
      "metadata": {
        "id": "qUiarE8DJapZ",
        "outputId": "3afa5652-d748-40ab-ea2f-14accc65943e",
        "colab": {
          "base_uri": "https://localhost:8080/"
        }
      },
      "outputs": [
        {
          "output_type": "stream",
          "name": "stdout",
          "text": [
            "batch result:  torch.Size([19, 11])\n"
          ]
        }
      ],
      "source": [
        "b=vanillaCNN.forward(img)\n",
        "print(\"batch result: \",b.shape)"
      ]
    },
    {
      "cell_type": "code",
      "execution_count": 219,
      "metadata": {
        "id": "dbSBBP8fJapa",
        "outputId": "0b143523-44c3-4dec-c5a3-05ae018668da",
        "colab": {
          "base_uri": "https://localhost:8080/"
        }
      },
      "outputs": [
        {
          "output_type": "stream",
          "name": "stdout",
          "text": [
            "CNN Model:\n",
            " Net(\n",
            "  (conv1): Conv2d(3, 6, kernel_size=(5, 5), stride=(1, 1))\n",
            "  (conv2): Conv2d(6, 16, kernel_size=(5, 5), stride=(1, 1))\n",
            "  (fc1): Linear(in_features=59536, out_features=500, bias=True)\n",
            "  (fc2): Linear(in_features=500, out_features=250, bias=True)\n",
            "  (fc3): Linear(in_features=250, out_features=11, bias=True)\n",
            "  (softmax): Softmax(dim=1)\n",
            ")\n"
          ]
        }
      ],
      "source": [
        "print(\"CNN Model:\\n\",vanillaCNN)"
      ]
    },
    {
      "cell_type": "markdown",
      "metadata": {
        "id": "rnSMmQtdJapa"
      },
      "source": [
        "#### Train model"
      ]
    },
    {
      "cell_type": "code",
      "execution_count": 219,
      "metadata": {
        "id": "f_tr8BVUJapa"
      },
      "outputs": [],
      "source": [
        ""
      ]
    },
    {
      "cell_type": "code",
      "execution_count": 220,
      "metadata": {
        "id": "4n2GBn1jJapa"
      },
      "outputs": [],
      "source": [
        "EPOCHS = 40\n",
        "BATCH_SIZE = 100"
      ]
    },
    {
      "cell_type": "code",
      "execution_count": 221,
      "metadata": {
        "id": "1-WoxZmVJapa",
        "outputId": "e190c783-648a-42d7-ce71-c30f2762d946",
        "colab": {
          "base_uri": "https://localhost:8080/"
        }
      },
      "outputs": [
        {
          "output_type": "stream",
          "name": "stderr",
          "text": [
            "100%|██████████| 19/19 [00:02<00:00,  8.79it/s]\n"
          ]
        },
        {
          "output_type": "stream",
          "name": "stdout",
          "text": [
            "Epoch: 0, Train Loss: 0.1531, Current Min Loss: inf\n",
            "\n",
            "0.15310643734752002\n"
          ]
        },
        {
          "output_type": "stream",
          "name": "stderr",
          "text": [
            "100%|██████████| 19/19 [00:02<00:00,  9.21it/s]\n"
          ]
        },
        {
          "output_type": "stream",
          "name": "stdout",
          "text": [
            "0.05557212840168595\n"
          ]
        },
        {
          "output_type": "stream",
          "name": "stderr",
          "text": [
            "100%|██████████| 19/19 [00:02<00:00,  9.17it/s]\n"
          ]
        },
        {
          "output_type": "stream",
          "name": "stdout",
          "text": [
            "0.05647302123486037\n"
          ]
        },
        {
          "output_type": "stream",
          "name": "stderr",
          "text": [
            "100%|██████████| 19/19 [00:02<00:00,  9.16it/s]\n"
          ]
        },
        {
          "output_type": "stream",
          "name": "stdout",
          "text": [
            "0.046029018615261416\n"
          ]
        },
        {
          "output_type": "stream",
          "name": "stderr",
          "text": [
            "100%|██████████| 19/19 [00:02<00:00,  9.14it/s]\n"
          ]
        },
        {
          "output_type": "stream",
          "name": "stdout",
          "text": [
            "0.037532489381098315\n"
          ]
        },
        {
          "output_type": "stream",
          "name": "stderr",
          "text": [
            "100%|██████████| 19/19 [00:02<00:00,  9.10it/s]\n"
          ]
        },
        {
          "output_type": "stream",
          "name": "stdout",
          "text": [
            "Epoch: 5, Train Loss: 0.0374, Current Min Loss: 0.0375\n",
            "\n",
            "0.03737207419066977\n"
          ]
        },
        {
          "output_type": "stream",
          "name": "stderr",
          "text": [
            "100%|██████████| 19/19 [00:02<00:00,  9.12it/s]\n"
          ]
        },
        {
          "output_type": "stream",
          "name": "stdout",
          "text": [
            "0.035582625545267914\n"
          ]
        },
        {
          "output_type": "stream",
          "name": "stderr",
          "text": [
            "100%|██████████| 19/19 [00:02<00:00,  9.07it/s]\n"
          ]
        },
        {
          "output_type": "stream",
          "name": "stdout",
          "text": [
            "0.033004763337287114\n"
          ]
        },
        {
          "output_type": "stream",
          "name": "stderr",
          "text": [
            "100%|██████████| 19/19 [00:02<00:00,  9.06it/s]\n"
          ]
        },
        {
          "output_type": "stream",
          "name": "stdout",
          "text": [
            "0.031848970298560805\n"
          ]
        },
        {
          "output_type": "stream",
          "name": "stderr",
          "text": [
            "100%|██████████| 19/19 [00:02<00:00,  9.00it/s]\n"
          ]
        },
        {
          "output_type": "stream",
          "name": "stdout",
          "text": [
            "0.031053754417881725\n"
          ]
        },
        {
          "output_type": "stream",
          "name": "stderr",
          "text": [
            "100%|██████████| 19/19 [00:02<00:00,  9.00it/s]\n"
          ]
        },
        {
          "output_type": "stream",
          "name": "stdout",
          "text": [
            "Epoch: 10, Train Loss: 0.0299, Current Min Loss: 0.0311\n",
            "\n",
            "0.029912130738785715\n"
          ]
        },
        {
          "output_type": "stream",
          "name": "stderr",
          "text": [
            "100%|██████████| 19/19 [00:02<00:00,  9.00it/s]\n"
          ]
        },
        {
          "output_type": "stream",
          "name": "stdout",
          "text": [
            "0.02902105931632729\n"
          ]
        },
        {
          "output_type": "stream",
          "name": "stderr",
          "text": [
            "100%|██████████| 19/19 [00:02<00:00,  8.95it/s]\n"
          ]
        },
        {
          "output_type": "stream",
          "name": "stdout",
          "text": [
            "0.028613738025550506\n"
          ]
        },
        {
          "output_type": "stream",
          "name": "stderr",
          "text": [
            "100%|██████████| 19/19 [00:02<00:00,  8.91it/s]\n"
          ]
        },
        {
          "output_type": "stream",
          "name": "stdout",
          "text": [
            "0.028053064752603593\n"
          ]
        },
        {
          "output_type": "stream",
          "name": "stderr",
          "text": [
            "100%|██████████| 19/19 [00:02<00:00,  8.94it/s]\n"
          ]
        },
        {
          "output_type": "stream",
          "name": "stdout",
          "text": [
            "0.027092027229464063\n"
          ]
        },
        {
          "output_type": "stream",
          "name": "stderr",
          "text": [
            "100%|██████████| 19/19 [00:02<00:00,  8.93it/s]\n"
          ]
        },
        {
          "output_type": "stream",
          "name": "stdout",
          "text": [
            "Epoch: 15, Train Loss: 0.0274, Current Min Loss: 0.0271\n",
            "\n",
            "0.027370407995553528\n"
          ]
        },
        {
          "output_type": "stream",
          "name": "stderr",
          "text": [
            "100%|██████████| 19/19 [00:02<00:00,  8.87it/s]\n"
          ]
        },
        {
          "output_type": "stream",
          "name": "stdout",
          "text": [
            "0.026455632594315395\n"
          ]
        },
        {
          "output_type": "stream",
          "name": "stderr",
          "text": [
            "100%|██████████| 19/19 [00:02<00:00,  8.88it/s]\n"
          ]
        },
        {
          "output_type": "stream",
          "name": "stdout",
          "text": [
            "0.025267514407932262\n"
          ]
        },
        {
          "output_type": "stream",
          "name": "stderr",
          "text": [
            "100%|██████████| 19/19 [00:02<00:00,  8.87it/s]\n"
          ]
        },
        {
          "output_type": "stream",
          "name": "stdout",
          "text": [
            "0.025012443041510537\n"
          ]
        },
        {
          "output_type": "stream",
          "name": "stderr",
          "text": [
            "100%|██████████| 19/19 [00:02<00:00,  8.88it/s]\n"
          ]
        },
        {
          "output_type": "stream",
          "name": "stdout",
          "text": [
            "0.024435587863722446\n"
          ]
        },
        {
          "output_type": "stream",
          "name": "stderr",
          "text": [
            "100%|██████████| 19/19 [00:02<00:00,  8.88it/s]\n"
          ]
        },
        {
          "output_type": "stream",
          "name": "stdout",
          "text": [
            "Epoch: 20, Train Loss: 0.0239, Current Min Loss: 0.0244\n",
            "\n",
            "0.023886436531428686\n"
          ]
        },
        {
          "output_type": "stream",
          "name": "stderr",
          "text": [
            "100%|██████████| 19/19 [00:02<00:00,  8.89it/s]\n"
          ]
        },
        {
          "output_type": "stream",
          "name": "stdout",
          "text": [
            "0.02327601768229316\n"
          ]
        },
        {
          "output_type": "stream",
          "name": "stderr",
          "text": [
            "100%|██████████| 19/19 [00:02<00:00,  8.91it/s]\n"
          ]
        },
        {
          "output_type": "stream",
          "name": "stdout",
          "text": [
            "0.022902505465070867\n"
          ]
        },
        {
          "output_type": "stream",
          "name": "stderr",
          "text": [
            "100%|██████████| 19/19 [00:02<00:00,  8.91it/s]\n"
          ]
        },
        {
          "output_type": "stream",
          "name": "stdout",
          "text": [
            "0.022315639211149\n"
          ]
        },
        {
          "output_type": "stream",
          "name": "stderr",
          "text": [
            "100%|██████████| 19/19 [00:02<00:00,  8.93it/s]\n"
          ]
        },
        {
          "output_type": "stream",
          "name": "stdout",
          "text": [
            "0.021952053022695393\n"
          ]
        },
        {
          "output_type": "stream",
          "name": "stderr",
          "text": [
            "100%|██████████| 19/19 [00:02<00:00,  8.91it/s]\n"
          ]
        },
        {
          "output_type": "stream",
          "name": "stdout",
          "text": [
            "Epoch: 25, Train Loss: 0.0214, Current Min Loss: 0.0220\n",
            "\n",
            "0.021405599610513273\n"
          ]
        },
        {
          "output_type": "stream",
          "name": "stderr",
          "text": [
            "100%|██████████| 19/19 [00:02<00:00,  8.01it/s]\n"
          ]
        },
        {
          "output_type": "stream",
          "name": "stdout",
          "text": [
            "0.021091092805596637\n"
          ]
        },
        {
          "output_type": "stream",
          "name": "stderr",
          "text": [
            "100%|██████████| 19/19 [00:02<00:00,  8.98it/s]\n"
          ]
        },
        {
          "output_type": "stream",
          "name": "stdout",
          "text": [
            "0.020491887146376665\n"
          ]
        },
        {
          "output_type": "stream",
          "name": "stderr",
          "text": [
            "100%|██████████| 19/19 [00:02<00:00,  9.00it/s]\n"
          ]
        },
        {
          "output_type": "stream",
          "name": "stdout",
          "text": [
            "0.02143340915672923\n"
          ]
        },
        {
          "output_type": "stream",
          "name": "stderr",
          "text": [
            "100%|██████████| 19/19 [00:02<00:00,  8.99it/s]\n"
          ]
        },
        {
          "output_type": "stream",
          "name": "stdout",
          "text": [
            "0.020090714444138246\n"
          ]
        },
        {
          "output_type": "stream",
          "name": "stderr",
          "text": [
            "100%|██████████| 19/19 [00:02<00:00,  9.04it/s]\n"
          ]
        },
        {
          "output_type": "stream",
          "name": "stdout",
          "text": [
            "Epoch: 30, Train Loss: 0.0193, Current Min Loss: 0.0201\n",
            "\n",
            "0.01932665420550475\n"
          ]
        },
        {
          "output_type": "stream",
          "name": "stderr",
          "text": [
            "100%|██████████| 19/19 [00:02<00:00,  9.03it/s]\n"
          ]
        },
        {
          "output_type": "stream",
          "name": "stdout",
          "text": [
            "0.01908842855222478\n"
          ]
        },
        {
          "output_type": "stream",
          "name": "stderr",
          "text": [
            "100%|██████████| 19/19 [00:02<00:00,  9.05it/s]\n"
          ]
        },
        {
          "output_type": "stream",
          "name": "stdout",
          "text": [
            "0.018182107931828406\n"
          ]
        },
        {
          "output_type": "stream",
          "name": "stderr",
          "text": [
            "100%|██████████| 19/19 [00:02<00:00,  9.06it/s]\n"
          ]
        },
        {
          "output_type": "stream",
          "name": "stdout",
          "text": [
            "0.018095842607554896\n"
          ]
        },
        {
          "output_type": "stream",
          "name": "stderr",
          "text": [
            "100%|██████████| 19/19 [00:02<00:00,  9.08it/s]\n"
          ]
        },
        {
          "output_type": "stream",
          "name": "stdout",
          "text": [
            "0.01767461952927439\n"
          ]
        },
        {
          "output_type": "stream",
          "name": "stderr",
          "text": [
            "100%|██████████| 19/19 [00:02<00:00,  9.07it/s]\n"
          ]
        },
        {
          "output_type": "stream",
          "name": "stdout",
          "text": [
            "Epoch: 35, Train Loss: 0.0173, Current Min Loss: 0.0177\n",
            "\n",
            "0.017336246591108877\n"
          ]
        },
        {
          "output_type": "stream",
          "name": "stderr",
          "text": [
            "100%|██████████| 19/19 [00:02<00:00,  9.09it/s]\n"
          ]
        },
        {
          "output_type": "stream",
          "name": "stdout",
          "text": [
            "0.01694891896435637\n"
          ]
        },
        {
          "output_type": "stream",
          "name": "stderr",
          "text": [
            "100%|██████████| 19/19 [00:02<00:00,  9.09it/s]\n"
          ]
        },
        {
          "output_type": "stream",
          "name": "stdout",
          "text": [
            "0.016567597933283\n"
          ]
        },
        {
          "output_type": "stream",
          "name": "stderr",
          "text": [
            "100%|██████████| 19/19 [00:02<00:00,  9.07it/s]\n"
          ]
        },
        {
          "output_type": "stream",
          "name": "stdout",
          "text": [
            "0.016365194130178562\n"
          ]
        },
        {
          "output_type": "stream",
          "name": "stderr",
          "text": [
            "100%|██████████| 19/19 [00:02<00:00,  9.06it/s]"
          ]
        },
        {
          "output_type": "stream",
          "name": "stdout",
          "text": [
            "0.0159052337188722\n"
          ]
        },
        {
          "output_type": "stream",
          "name": "stderr",
          "text": [
            "\n"
          ]
        }
      ],
      "source": [
        "min_loss = np.Inf #lowest loss will be the loaded model\n",
        "\n",
        "loss_function = nn.CrossEntropyLoss().to(dev) \n",
        "\n",
        "optimizer = optim.Adam(vanillaCNN.parameters(),lr=0.00001)\n",
        "\n",
        "epoch_num=[]\n",
        "loss_arr=[]\n",
        "\n",
        "enum=0\n",
        "for epoch in range(EPOCHS):\n",
        "    train_loss = 0\n",
        "    vanillaCNN.train()\n",
        "    for i in tqdm(range(0, len(trainX), BATCH_SIZE)): \n",
        "        #print(f\"{i}:{i+BATCH_SIZE}\")\n",
        "        \n",
        "        batch_X = trainX[i:i+BATCH_SIZE].to(dev)\n",
        "        batch_y = trainY[i:i+BATCH_SIZE].to(dev)\n",
        "        batch_y=batch_y.view(len(batch_y)).type(torch.LongTensor)\n",
        "        \n",
        "        vanillaCNN.zero_grad()\n",
        "        #print(\"batch shape: \",batch_X.shape)\n",
        "        batch_X=batch_X.cuda()\n",
        "        batch_y=batch_y.cuda()\n",
        "\n",
        "        outputs = vanillaCNN(batch_X)\n",
        "        outputs.to(dev)\n",
        "        #print(\"result shape: \",outputs.shape,batch_y.shape)\n",
        "        \n",
        "        #print(outputs.dtype)\n",
        "        #print(batch_y.dtype)\n",
        "        #print(outputs.shape,\" <=> \",batch_y.shape)\n",
        "        \n",
        "        loss = loss_function(outputs, batch_y)\n",
        "        loss.backward()\n",
        "        optimizer.step()    #update weights\n",
        "        \n",
        "        #print(loss.item())\n",
        "        #print(loss.item(),\" - \",len(train_x))\n",
        "        train_loss += loss.item()/len(trainX)\n",
        "    #print(\"train loss: \",train_loss)\n",
        "    if epoch % 5 == 0:\n",
        "        print('Epoch: {}, Train Loss: {:.4f}, Current Min Loss: {:.4f}\\n'.format(   #print training loss at each step\n",
        "            epoch,\n",
        "            train_loss,\n",
        "            min_loss\n",
        "        )) \n",
        "    if train_loss < min_loss:   \n",
        "        min_loss = train_loss\n",
        "    print(train_loss)\n",
        "    epoch_num.append(enum)\n",
        "    loss_arr.append(train_loss)\n",
        "    enum+=1"
      ]
    },
    {
      "cell_type": "code",
      "execution_count": 222,
      "metadata": {
        "id": "H9ysHzvoJapb",
        "colab": {
          "base_uri": "https://localhost:8080/",
          "height": 295
        },
        "outputId": "4392b832-5609-4a6c-9ce7-70dc2b5e67c4"
      },
      "outputs": [
        {
          "output_type": "display_data",
          "data": {
            "text/plain": [
              "<Figure size 432x288 with 1 Axes>"
            ],
            "image/png": "[encoded data removed]"
          },
          "metadata": {
            "needs_background": "light"
          }
        }
      ],
      "source": [
        "plt.plot(epoch_num, loss_arr)\n",
        "plt.title('Vannilla CNN - Train Loss vs Epoch number')\n",
        "plt.xlabel('Epoch number')\n",
        "plt.ylabel('Train Loss')\n",
        "plt.show()"
      ]
    },
    {
      "cell_type": "markdown",
      "metadata": {
        "id": "dtE3oPnfJapb"
      },
      "source": [
        "#### Test"
      ]
    },
    {
      "cell_type": "code",
      "execution_count": 223,
      "metadata": {
        "id": "7JogFD4eJapb"
      },
      "outputs": [],
      "source": [
        "#def test(model,test_x,test_y):\n",
        "def model_test(test_x,test_y, model, epoch_num=EPOCHS):\n",
        "    model.train(False)\n",
        "    correct = 0\n",
        "    total = 0\n",
        "\n",
        "    #print(test_y)\n",
        "    with torch.no_grad():\n",
        "        for i in tqdm(range(len(test_x))):\n",
        "            real_class = test_y[i].to(dev)\n",
        "            images=test_x[i].view(-1,3,64,64).to(dev)\n",
        "            net_out = model(images) # returns a list, \n",
        "\n",
        "            predicted_class = torch.argmax(net_out,dim=1)\n",
        "            #print(net_out,\" =>\",predicted_class,\" : \",real_class)\n",
        "            if predicted_class == real_class:\n",
        "                correct += 1\n",
        "                #print(net_out,\" =>\",predicted_class,\" : \",real_class)\n",
        "            total += 1\n",
        "    print(\"Accuracy: \", round((correct/total)*100, 3),\" % \")"
      ]
    },
    {
      "cell_type": "code",
      "execution_count": 224,
      "metadata": {
        "id": "-v4CNqZWJapc",
        "colab": {
          "base_uri": "https://localhost:8080/"
        },
        "outputId": "3c08c3c7-fbbc-4a38-c083-f399cd6a6958"
      },
      "outputs": [
        {
          "output_type": "stream",
          "name": "stderr",
          "text": [
            "100%|██████████| 451/451 [00:00<00:00, 722.69it/s]"
          ]
        },
        {
          "output_type": "stream",
          "name": "stdout",
          "text": [
            "Initial Model Accuracy:  37.029  % \n"
          ]
        },
        {
          "output_type": "stream",
          "name": "stderr",
          "text": [
            "\n"
          ]
        }
      ],
      "source": [
        "vanillaCNN.train(False)\n",
        "correct = 0\n",
        "total = 0\n",
        "\n",
        "#print(test_y)\n",
        "\n",
        "with torch.no_grad():\n",
        "    for i in tqdm(range(len(testX))):\n",
        "        real_class = testY[i].to(dev)\n",
        "        images=testX[i].view(-1,3,256,256).to(dev)\n",
        "        net_out = vanillaCNN(images) # returns a list, \n",
        "        \n",
        "        predicted_class = torch.argmax(net_out,dim=1)\n",
        "        #print(net_out,\" =>\",predicted_class,\" : \",real_class)\n",
        "        #print(predicted_class.shape,\" : \",real_class.shape)\n",
        "        if predicted_class == real_class:\n",
        "            correct += 1\n",
        "            #print(net_out,\" =>\",predicted_class,\" : \",real_class)\n",
        "        total += 1\n",
        "print(\"Initial Model Accuracy: \", round((correct/total)*100, 3),\" % \")"
      ]
    },
    {
      "cell_type": "code",
      "execution_count": 224,
      "metadata": {
        "id": "rLjc9LPiJapc"
      },
      "outputs": [],
      "source": [
        ""
      ]
    },
    {
      "cell_type": "code",
      "execution_count": 224,
      "metadata": {
        "id": "ytMbm4xZJapc"
      },
      "outputs": [],
      "source": [
        ""
      ]
    },
    {
      "cell_type": "code",
      "execution_count": 224,
      "metadata": {
        "id": "32fZsbvIJapc"
      },
      "outputs": [],
      "source": [
        ""
      ]
    },
    {
      "cell_type": "markdown",
      "metadata": {
        "id": "lyVOjkMfJapc"
      },
      "source": [
        "### Resources\n",
        "\n",
        "- https://competitions.codalab.org/competitions/4081#participate-get-data\n",
        "- \n",
        "\n",
        "\n",
        "- https://blog.keras.io/running-jupyter-notebooks-on-gpu-on-aws-a-starter-guide.html"
      ]
    },
    {
      "cell_type": "markdown",
      "metadata": {
        "id": "eKzG105CJapc"
      },
      "source": [
        "##### "
      ]
    }
  ],
  "metadata": {
    "kernelspec": {
      "display_name": "Python 3",
      "language": "python",
      "name": "python3"
    },
    "language_info": {
      "codemirror_mode": {
        "name": "ipython",
        "version": 3
      },
      "file_extension": ".py",
      "mimetype": "text/x-python",
      "name": "python",
      "nbconvert_exporter": "python",
      "pygments_lexer": "ipython3",
      "version": "3.8.5"
    },
    "colab": {
      "name": "Term project analysis GCP GPU .ipynb",
      "provenance": [],
      "toc_visible": true
    },
    "accelerator": "GPU"
  },
  "nbformat": 4,
  "nbformat_minor": 0
}