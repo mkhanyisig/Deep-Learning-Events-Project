{
  "cells": [
    {
      "cell_type": "markdown",
      "metadata": {
        "id": "Q81Qd7FNJapD"
      },
      "source": [
        "### Mkhanyisi Gamedze\n",
        "#### COSI 165B Deep Learning\n",
        "#### Term Project Analysis - Google Cloud\n",
        "#### 10 May 2022\n",
        "\n",
        "\n",
        "\n",
        "DataSet link: https://competitions.codalab.org/competitions/4081#participate-get-data or https://chalearnlap.cvc.uab.cat/dataset/17/description/"
      ]
    },
    {
      "cell_type": "code",
      "execution_count": 11,
      "metadata": {
        "id": "UE5Pndy7JapH"
      },
      "outputs": [],
      "source": [
        "import os\n",
        "import pandas as pd\n",
        "import numpy as np\n",
        "from PIL import Image\n",
        "from matplotlib import pyplot as plt\n",
        "from scipy import ndimage, misc\n",
        "import imageio\n",
        "import cv2\n",
        "\n",
        "import torch\n",
        "import torch.nn as nn\n",
        "import torch.nn.functional as F\n",
        "import torch.optim as optim\n",
        "from torch.utils.data import TensorDataset, DataLoader\n",
        "import torchvision.models as models\n",
        "\n",
        "from tqdm import tqdm"
      ]
    },
    {
      "cell_type": "code",
      "source": [
        ""
      ],
      "metadata": {
        "id": "FnqNS6kjJgP0"
      },
      "execution_count": 11,
      "outputs": []
    },
    {
      "cell_type": "markdown",
      "metadata": {
        "id": "_Z09w-EIJapJ"
      },
      "source": [
        "### Load Data\n",
        "\n",
        "Build labels Dataframe\n",
        "\n",
        "<b>Train Labels</b>"
      ]
    },
    {
      "cell_type": "code",
      "source": [
        "from google.colab import drive\n",
        "drive.mount('/content/drive')"
      ],
      "metadata": {
        "id": "06-NGCHhJiKr",
        "colab": {
          "base_uri": "https://localhost:8080/"
        },
        "outputId": "70275821-b451-49ea-fd13-dcbb89428dc5"
      },
      "execution_count": 12,
      "outputs": [
        {
          "output_type": "stream",
          "name": "stdout",
          "text": [
            "Drive already mounted at /content/drive; to attempt to forcibly remount, call drive.mount(\"/content/drive\", force_remount=True).\n"
          ]
        }
      ]
    },
    {
      "cell_type": "code",
      "source": [
        "r=\"/content/drive/MyDrive/COSI 165B data\"\n",
        "os.chdir(r)\n",
        "print(os.getcwd())"
      ],
      "metadata": {
        "colab": {
          "base_uri": "https://localhost:8080/"
        },
        "id": "ptly9SlHOWVM",
        "outputId": "1e0400cb-e901-4de0-a8b7-ba672be15214"
      },
      "execution_count": 13,
      "outputs": [
        {
          "output_type": "stream",
          "name": "stdout",
          "text": [
            "/content/drive/MyDrive/COSI 165B data\n"
          ]
        }
      ]
    },
    {
      "cell_type": "markdown",
      "source": [
        "### Load saved data"
      ],
      "metadata": {
        "id": "hDib8DAsNC5n"
      }
    },
    {
      "cell_type": "code",
      "source": [
        "os.chdir(r)\n",
        "print(os.getcwd())\n",
        "os.listdir()"
      ],
      "metadata": {
        "id": "MV8mwEGPNHH1",
        "colab": {
          "base_uri": "https://localhost:8080/"
        },
        "outputId": "4649127b-9aa5-4640-81c6-8ab3f970d5f7"
      },
      "execution_count": 14,
      "outputs": [
        {
          "output_type": "stream",
          "name": "stdout",
          "text": [
            "/content/drive/MyDrive/COSI 165B data\n"
          ]
        },
        {
          "output_type": "execute_result",
          "data": {
            "text/plain": [
              "['reencoded_smallerdataY.npy', 'smallerdataX.npy']"
            ]
          },
          "metadata": {},
          "execution_count": 14
        }
      ]
    },
    {
      "cell_type": "code",
      "source": [
        "#os.chdir('./Numpy Clean Dataset')"
      ],
      "metadata": {
        "id": "bSN995_lNN21"
      },
      "execution_count": 15,
      "outputs": []
    },
    {
      "cell_type": "code",
      "source": [
        "fulldataX=np.load('smallerdataX.npy')\n",
        "\n",
        "fulldataX.shape"
      ],
      "metadata": {
        "id": "3mc5f-3QNi7F",
        "colab": {
          "base_uri": "https://localhost:8080/"
        },
        "outputId": "622e76a1-2267-4aaa-b930-06501ab41bad"
      },
      "execution_count": 16,
      "outputs": [
        {
          "output_type": "execute_result",
          "data": {
            "text/plain": [
              "(2254, 256, 256, 3)"
            ]
          },
          "metadata": {},
          "execution_count": 16
        }
      ]
    },
    {
      "cell_type": "code",
      "source": [
        "fulldataY=np.load('reencoded_smallerdataY.npy')\n",
        "fulldataY.shape"
      ],
      "metadata": {
        "id": "F4arhN9INosm",
        "colab": {
          "base_uri": "https://localhost:8080/"
        },
        "outputId": "3aa1bf9d-720e-46be-dd89-ce651e37368b"
      },
      "execution_count": 17,
      "outputs": [
        {
          "output_type": "execute_result",
          "data": {
            "text/plain": [
              "(2254, 1)"
            ]
          },
          "metadata": {},
          "execution_count": 17
        }
      ]
    },
    {
      "cell_type": "markdown",
      "metadata": {
        "id": "4dSxTWicJapX"
      },
      "source": [
        "<b>Test Transform</b>"
      ]
    },
    {
      "cell_type": "code",
      "execution_count": 18,
      "metadata": {
        "id": "wcy9feLWJapX",
        "colab": {
          "base_uri": "https://localhost:8080/",
          "height": 269
        },
        "outputId": "098f3224-2732-477c-b19a-c0ca5f836341"
      },
      "outputs": [
        {
          "output_type": "display_data",
          "data": {
            "text/plain": [
              "<Figure size 432x288 with 1 Axes>"
            ],
            "image/png": "[encoded data removed]"
          },
          "metadata": {
            "needs_background": "light"
          }
        }
      ],
      "source": [
        "plt.imshow(fulldataX[1])\n",
        "plt.show()"
      ]
    },
    {
      "cell_type": "code",
      "execution_count": 19,
      "metadata": {
        "id": "xoDTyEHfJapX",
        "colab": {
          "base_uri": "https://localhost:8080/"
        },
        "outputId": "bd9a2d0d-a79b-4019-aca8-a12bb6ccd702"
      },
      "outputs": [
        {
          "output_type": "execute_result",
          "data": {
            "text/plain": [
              "(2254, 1)"
            ]
          },
          "metadata": {},
          "execution_count": 19
        }
      ],
      "source": [
        "fulldataY.shape"
      ]
    },
    {
      "cell_type": "markdown",
      "metadata": {
        "id": "bVn4giQ3JapX"
      },
      "source": [
        "#### To Tensor"
      ]
    },
    {
      "cell_type": "code",
      "execution_count": 20,
      "metadata": {
        "id": "4gykmhcVJapX",
        "colab": {
          "base_uri": "https://localhost:8080/"
        },
        "outputId": "c5d0f5d3-de51-45a1-9bd8-8c72954258f1"
      },
      "outputs": [
        {
          "output_type": "execute_result",
          "data": {
            "text/plain": [
              "(torch.Size([2254, 256, 256, 3]), torch.Size([2254, 1]))"
            ]
          },
          "metadata": {},
          "execution_count": 20
        }
      ],
      "source": [
        "tensordataX = torch.FloatTensor(fulldataX)\n",
        "\n",
        "tensordataY = torch.FloatTensor(fulldataY.astype(int))\n",
        "\n",
        "\n",
        "tensordataX.shape, tensordataY.shape"
      ]
    },
    {
      "cell_type": "markdown",
      "metadata": {
        "id": "MS63QmcPJapY"
      },
      "source": [
        "<b>Permute Images so input channel is color for convolution</b>"
      ]
    },
    {
      "cell_type": "code",
      "execution_count": 21,
      "metadata": {
        "id": "q0DYyg-7JapY",
        "colab": {
          "base_uri": "https://localhost:8080/"
        },
        "outputId": "350e8873-c9ee-4749-9b8e-bdaf1554123b"
      },
      "outputs": [
        {
          "output_type": "execute_result",
          "data": {
            "text/plain": [
              "torch.Size([2254, 3, 256, 256])"
            ]
          },
          "metadata": {},
          "execution_count": 21
        }
      ],
      "source": [
        "tensordataX=tensordataX.permute(0,3,1,2)\n",
        "tensordataX.shape"
      ]
    },
    {
      "cell_type": "markdown",
      "metadata": {
        "id": "DkrMtQHrJapY"
      },
      "source": [
        "### Train-Test split (80 : 20)"
      ]
    },
    {
      "cell_type": "code",
      "execution_count": 22,
      "metadata": {
        "id": "zav9qvxnJapY",
        "colab": {
          "base_uri": "https://localhost:8080/"
        },
        "outputId": "274d325b-1096-4a36-acb2-95e624006220"
      },
      "outputs": [
        {
          "output_type": "execute_result",
          "data": {
            "text/plain": [
              "(torch.Size([1803, 3, 256, 256]),\n",
              " torch.Size([1803, 1]),\n",
              " torch.Size([451, 3, 256, 256]),\n",
              " torch.Size([451, 1]))"
            ]
          },
          "metadata": {},
          "execution_count": 22
        }
      ],
      "source": [
        "p=int(0.8*(tensordataX.shape[0]))\n",
        "\n",
        "trainX=tensordataX[:p]\n",
        "testX=tensordataX[p:]\n",
        "trainY=tensordataY[:p]\n",
        "testY=tensordataY[p:]\n",
        "\n",
        "trainX.shape, trainY.shape, testX.shape, testY.shape"
      ]
    },
    {
      "cell_type": "markdown",
      "metadata": {
        "id": "wtnctCwBJapY"
      },
      "source": [
        "### Vanilla CNN model"
      ]
    },
    {
      "cell_type": "code",
      "execution_count": 23,
      "metadata": {
        "id": "KcC8R8_sJapZ"
      },
      "outputs": [],
      "source": [
        "# CNN model\n",
        "class Net(nn.Module):\n",
        "\n",
        "    def __init__(self):\n",
        "        super().__init__()\n",
        "        \n",
        "        # define convolution layers\n",
        "        \"\"\"\n",
        "        self.conv1 = nn.Conv2d(3, 96, kernel_size=(7,7), stride=2)\n",
        "        self.conv2 = nn.Conv2d(96, 512, kernel_size=(3,3), stride=1)\n",
        "        \"\"\"\n",
        "        self.conv1 = nn.Conv2d(3, 6, kernel_size=(5,5), stride=1)\n",
        "        self.conv2 = nn.Conv2d(6, 16, kernel_size=(5,5), stride=1)\n",
        "        \n",
        "        \n",
        "        # figure out output conv flat length\n",
        "        x = torch.randn(1,3,256,256)\n",
        "        self._to_linear = None\n",
        "        self.convs(x)\n",
        "        \n",
        "        # fully connected layers\n",
        "        self.fc1 = nn.Linear(self._to_linear, 500)\n",
        "        self.fc2 = nn.Linear(500,250)\n",
        "        self.fc3 = nn.Linear(250, 11)\n",
        "        self.softmax = nn.Softmax(dim=1)\n",
        "\n",
        "        \n",
        "    def convs(self, x):\n",
        "        # max pooling over 2x2 both Conv layers\n",
        "        x=self.conv1(x)\n",
        "        x=F.relu(x)\n",
        "        x =F.max_pool2d(x, (2, 2))\n",
        "        \n",
        "        x = F.max_pool2d(F.relu(self.conv2(x)), (2, 2))\n",
        "        \n",
        "        \n",
        "        #print(x.shape)\n",
        "        # first pass, figure flat length\n",
        "        if self._to_linear is None:\n",
        "            print(\"x[0] : \",x[0].shape)\n",
        "            self._to_linear = x[0].shape[0]*x[0].shape[1]*x[0].shape[2]\n",
        "        return x\n",
        "    \n",
        "    def forward(self, x):\n",
        "        x = self.convs(x) # first two convolutional layers\n",
        "        x = x.reshape(-1, self._to_linear) # flatten x\n",
        "        x = F.relu(self.fc1(x))\n",
        "        x = F.relu(self.fc2(x))\n",
        "        #x = F.sigmoid(self.fc3(x)) # Sigmoidal activation for output layer since two class problem\n",
        "        x=F.log_softmax(self.fc3(x), dim=1)\n",
        "        \n",
        "        #x=self.softmax(self.fc3(x))\n",
        "        #print(\"x:\",x.shape)\n",
        "        #print(\"x:\",x)\n",
        "        return x"
      ]
    },
    {
      "cell_type": "code",
      "execution_count": 24,
      "metadata": {
        "id": "FbVEtcaRJapZ",
        "colab": {
          "base_uri": "https://localhost:8080/"
        },
        "outputId": "59de91a0-20af-4cb2-ee33-e8792b7be16e"
      },
      "outputs": [
        {
          "output_type": "stream",
          "name": "stdout",
          "text": [
            "x[0] :  torch.Size([16, 61, 61])\n"
          ]
        }
      ],
      "source": [
        "vanillaCNN=Net()"
      ]
    },
    {
      "cell_type": "code",
      "source": [
        "dev = torch.device('cuda' if torch.cuda.is_available() else 'cpu')\n",
        "print('Using device \"%s\" for training' % dev)"
      ],
      "metadata": {
        "id": "RRCtAiIue6sH",
        "colab": {
          "base_uri": "https://localhost:8080/"
        },
        "outputId": "5c67fdbf-d473-42e2-b4c6-cd12b91abf85"
      },
      "execution_count": 25,
      "outputs": [
        {
          "output_type": "stream",
          "name": "stdout",
          "text": [
            "Using device \"cuda\" for training\n"
          ]
        }
      ]
    },
    {
      "cell_type": "code",
      "source": [
        "vanillaCNN.to(dev)"
      ],
      "metadata": {
        "id": "O0OGfoJovhHs",
        "colab": {
          "base_uri": "https://localhost:8080/"
        },
        "outputId": "e4596f30-4538-4a83-c2d7-bbe1024271e1"
      },
      "execution_count": 26,
      "outputs": [
        {
          "output_type": "execute_result",
          "data": {
            "text/plain": [
              "Net(\n",
              "  (conv1): Conv2d(3, 6, kernel_size=(5, 5), stride=(1, 1))\n",
              "  (conv2): Conv2d(6, 16, kernel_size=(5, 5), stride=(1, 1))\n",
              "  (fc1): Linear(in_features=59536, out_features=500, bias=True)\n",
              "  (fc2): Linear(in_features=500, out_features=250, bias=True)\n",
              "  (fc3): Linear(in_features=250, out_features=11, bias=True)\n",
              "  (softmax): Softmax(dim=1)\n",
              ")"
            ]
          },
          "metadata": {},
          "execution_count": 26
        }
      ]
    },
    {
      "cell_type": "code",
      "execution_count": 27,
      "metadata": {
        "id": "qNA-JlhBJapZ",
        "colab": {
          "base_uri": "https://localhost:8080/"
        },
        "outputId": "ec545793-9b6b-4c0d-a3d6-63f80e26feec"
      },
      "outputs": [
        {
          "output_type": "stream",
          "name": "stdout",
          "text": [
            "image shape:  torch.Size([19, 3, 256, 256])\n",
            "reshaped img:  torch.Size([19, 3, 256, 256])\n",
            "v shape:  torch.Size([1, 3, 256, 256])\n",
            "squezzed img:  torch.Size([19, 3, 256, 256])\n",
            "rand tensor shape:  torch.Size([10, 3, 256, 256])\n",
            "output:  tensor([[-2.3425, -2.3265, -2.4320, -2.3626, -2.4112, -2.4393, -2.4382, -2.3140,\n",
            "         -2.4259, -2.4598, -2.4386]], device='cuda:0',\n",
            "       grad_fn=<LogSoftmaxBackward0>)\n",
            "rand img output:  torch.Size([10, 11])\n"
          ]
        }
      ],
      "source": [
        "#transform = torchvision.transforms.ToTensor()\n",
        "img=trainX[:19].cuda()\n",
        "print(\"image shape: \",img.shape)\n",
        "print(\"reshaped img: \",img.view(-1,3,256,256).shape)\n",
        "\n",
        "v=torch.randn(1,3,256,256).cuda()\n",
        "print(\"v shape: \",v.shape)\n",
        "r=vanillaCNN.forward(v)\n",
        "simg=torch.squeeze(img.view(-1,3,256,256))\n",
        "print(\"squezzed img: \",simg.shape)\n",
        "\n",
        "\n",
        "im= torch.rand(10, 3, 256,256).cuda()\n",
        "print(\"rand tensor shape: \",im.shape)\n",
        "c=vanillaCNN.forward(im)\n",
        "\n",
        "print(\"output: \",r)\n",
        "print(\"rand img output: \",c.shape)"
      ]
    },
    {
      "cell_type": "code",
      "execution_count": 28,
      "metadata": {
        "id": "qUiarE8DJapZ",
        "colab": {
          "base_uri": "https://localhost:8080/"
        },
        "outputId": "8f225412-3186-4494-8341-6dbcd6736697"
      },
      "outputs": [
        {
          "output_type": "stream",
          "name": "stdout",
          "text": [
            "batch result:  torch.Size([19, 11])\n"
          ]
        }
      ],
      "source": [
        "b=vanillaCNN.forward(img)\n",
        "print(\"batch result: \",b.shape)"
      ]
    },
    {
      "cell_type": "code",
      "execution_count": 29,
      "metadata": {
        "id": "dbSBBP8fJapa",
        "colab": {
          "base_uri": "https://localhost:8080/"
        },
        "outputId": "b0c05ae0-5a08-476a-eb06-206c3ee27ceb"
      },
      "outputs": [
        {
          "output_type": "stream",
          "name": "stdout",
          "text": [
            "CNN Model:\n",
            " Net(\n",
            "  (conv1): Conv2d(3, 6, kernel_size=(5, 5), stride=(1, 1))\n",
            "  (conv2): Conv2d(6, 16, kernel_size=(5, 5), stride=(1, 1))\n",
            "  (fc1): Linear(in_features=59536, out_features=500, bias=True)\n",
            "  (fc2): Linear(in_features=500, out_features=250, bias=True)\n",
            "  (fc3): Linear(in_features=250, out_features=11, bias=True)\n",
            "  (softmax): Softmax(dim=1)\n",
            ")\n"
          ]
        }
      ],
      "source": [
        "print(\"CNN Model:\\n\",vanillaCNN)"
      ]
    },
    {
      "cell_type": "markdown",
      "metadata": {
        "id": "rnSMmQtdJapa"
      },
      "source": [
        "#### Train model"
      ]
    },
    {
      "cell_type": "code",
      "execution_count": 29,
      "metadata": {
        "id": "f_tr8BVUJapa"
      },
      "outputs": [],
      "source": [
        ""
      ]
    },
    {
      "cell_type": "code",
      "execution_count": 30,
      "metadata": {
        "id": "4n2GBn1jJapa"
      },
      "outputs": [],
      "source": [
        "EPOCHS = 40\n",
        "BATCH_SIZE = 100"
      ]
    },
    {
      "cell_type": "code",
      "execution_count": 31,
      "metadata": {
        "id": "1-WoxZmVJapa",
        "colab": {
          "base_uri": "https://localhost:8080/"
        },
        "outputId": "19b6d46b-fbe1-446f-da65-2e882dcea2b0"
      },
      "outputs": [
        {
          "output_type": "stream",
          "name": "stderr",
          "text": [
            "100%|██████████| 19/19 [00:02<00:00,  8.93it/s]\n"
          ]
        },
        {
          "output_type": "stream",
          "name": "stdout",
          "text": [
            "Epoch: 0, Train Loss: 0.0808, Current Min Loss: inf\n",
            "\n",
            "0.0807884853207756\n"
          ]
        },
        {
          "output_type": "stream",
          "name": "stderr",
          "text": [
            "100%|██████████| 19/19 [00:01<00:00,  9.54it/s]\n"
          ]
        },
        {
          "output_type": "stream",
          "name": "stdout",
          "text": [
            "0.05540062610268659\n"
          ]
        },
        {
          "output_type": "stream",
          "name": "stderr",
          "text": [
            "100%|██████████| 19/19 [00:01<00:00,  9.52it/s]\n"
          ]
        },
        {
          "output_type": "stream",
          "name": "stdout",
          "text": [
            "0.03778126401102549\n"
          ]
        },
        {
          "output_type": "stream",
          "name": "stderr",
          "text": [
            "100%|██████████| 19/19 [00:02<00:00,  9.49it/s]\n"
          ]
        },
        {
          "output_type": "stream",
          "name": "stdout",
          "text": [
            "0.03293203547208493\n"
          ]
        },
        {
          "output_type": "stream",
          "name": "stderr",
          "text": [
            "100%|██████████| 19/19 [00:01<00:00,  9.53it/s]\n"
          ]
        },
        {
          "output_type": "stream",
          "name": "stdout",
          "text": [
            "0.02762694770074592\n"
          ]
        },
        {
          "output_type": "stream",
          "name": "stderr",
          "text": [
            "100%|██████████| 19/19 [00:02<00:00,  9.49it/s]\n"
          ]
        },
        {
          "output_type": "stream",
          "name": "stdout",
          "text": [
            "Epoch: 5, Train Loss: 0.0274, Current Min Loss: 0.0276\n",
            "\n",
            "0.0274355157970126\n"
          ]
        },
        {
          "output_type": "stream",
          "name": "stderr",
          "text": [
            "100%|██████████| 19/19 [00:02<00:00,  9.50it/s]\n"
          ]
        },
        {
          "output_type": "stream",
          "name": "stdout",
          "text": [
            "0.025983725811333642\n"
          ]
        },
        {
          "output_type": "stream",
          "name": "stderr",
          "text": [
            "100%|██████████| 19/19 [00:01<00:00,  9.51it/s]\n"
          ]
        },
        {
          "output_type": "stream",
          "name": "stdout",
          "text": [
            "0.024450765431952088\n"
          ]
        },
        {
          "output_type": "stream",
          "name": "stderr",
          "text": [
            "100%|██████████| 19/19 [00:02<00:00,  9.44it/s]\n"
          ]
        },
        {
          "output_type": "stream",
          "name": "stdout",
          "text": [
            "0.023292258497548648\n"
          ]
        },
        {
          "output_type": "stream",
          "name": "stderr",
          "text": [
            "100%|██████████| 19/19 [00:02<00:00,  9.44it/s]\n"
          ]
        },
        {
          "output_type": "stream",
          "name": "stdout",
          "text": [
            "0.022828897906553063\n"
          ]
        },
        {
          "output_type": "stream",
          "name": "stderr",
          "text": [
            "100%|██████████| 19/19 [00:02<00:00,  9.13it/s]\n"
          ]
        },
        {
          "output_type": "stream",
          "name": "stdout",
          "text": [
            "Epoch: 10, Train Loss: 0.0229, Current Min Loss: 0.0228\n",
            "\n",
            "0.02294407956017036\n"
          ]
        },
        {
          "output_type": "stream",
          "name": "stderr",
          "text": [
            "100%|██████████| 19/19 [00:02<00:00,  8.05it/s]\n"
          ]
        },
        {
          "output_type": "stream",
          "name": "stdout",
          "text": [
            "0.021977973076051562\n"
          ]
        },
        {
          "output_type": "stream",
          "name": "stderr",
          "text": [
            "100%|██████████| 19/19 [00:02<00:00,  8.40it/s]\n"
          ]
        },
        {
          "output_type": "stream",
          "name": "stdout",
          "text": [
            "0.021579460057528633\n"
          ]
        },
        {
          "output_type": "stream",
          "name": "stderr",
          "text": [
            "100%|██████████| 19/19 [00:02<00:00,  9.42it/s]\n"
          ]
        },
        {
          "output_type": "stream",
          "name": "stdout",
          "text": [
            "0.020453869391499263\n"
          ]
        },
        {
          "output_type": "stream",
          "name": "stderr",
          "text": [
            "100%|██████████| 19/19 [00:02<00:00,  9.43it/s]\n"
          ]
        },
        {
          "output_type": "stream",
          "name": "stdout",
          "text": [
            "0.019661627172663416\n"
          ]
        },
        {
          "output_type": "stream",
          "name": "stderr",
          "text": [
            "100%|██████████| 19/19 [00:02<00:00,  9.42it/s]\n"
          ]
        },
        {
          "output_type": "stream",
          "name": "stdout",
          "text": [
            "Epoch: 15, Train Loss: 0.0193, Current Min Loss: 0.0197\n",
            "\n",
            "0.019301635788105887\n"
          ]
        },
        {
          "output_type": "stream",
          "name": "stderr",
          "text": [
            "100%|██████████| 19/19 [00:02<00:00,  9.45it/s]\n"
          ]
        },
        {
          "output_type": "stream",
          "name": "stdout",
          "text": [
            "0.018697290753101677\n"
          ]
        },
        {
          "output_type": "stream",
          "name": "stderr",
          "text": [
            "100%|██████████| 19/19 [00:02<00:00,  9.46it/s]\n"
          ]
        },
        {
          "output_type": "stream",
          "name": "stdout",
          "text": [
            "0.018056976614613966\n"
          ]
        },
        {
          "output_type": "stream",
          "name": "stderr",
          "text": [
            "100%|██████████| 19/19 [00:02<00:00,  9.42it/s]\n"
          ]
        },
        {
          "output_type": "stream",
          "name": "stdout",
          "text": [
            "0.0178355240054879\n"
          ]
        },
        {
          "output_type": "stream",
          "name": "stderr",
          "text": [
            "100%|██████████| 19/19 [00:02<00:00,  9.45it/s]\n"
          ]
        },
        {
          "output_type": "stream",
          "name": "stdout",
          "text": [
            "0.017221717574053583\n"
          ]
        },
        {
          "output_type": "stream",
          "name": "stderr",
          "text": [
            "100%|██████████| 19/19 [00:02<00:00,  9.47it/s]\n"
          ]
        },
        {
          "output_type": "stream",
          "name": "stdout",
          "text": [
            "Epoch: 20, Train Loss: 0.0169, Current Min Loss: 0.0172\n",
            "\n",
            "0.016911979078734114\n"
          ]
        },
        {
          "output_type": "stream",
          "name": "stderr",
          "text": [
            "100%|██████████| 19/19 [00:02<00:00,  9.42it/s]\n"
          ]
        },
        {
          "output_type": "stream",
          "name": "stdout",
          "text": [
            "0.016238271859508057\n"
          ]
        },
        {
          "output_type": "stream",
          "name": "stderr",
          "text": [
            "100%|██████████| 19/19 [00:02<00:00,  9.37it/s]\n"
          ]
        },
        {
          "output_type": "stream",
          "name": "stdout",
          "text": [
            "0.015946001301019048\n"
          ]
        },
        {
          "output_type": "stream",
          "name": "stderr",
          "text": [
            "100%|██████████| 19/19 [00:02<00:00,  9.40it/s]\n"
          ]
        },
        {
          "output_type": "stream",
          "name": "stdout",
          "text": [
            "0.015548982038160061\n"
          ]
        },
        {
          "output_type": "stream",
          "name": "stderr",
          "text": [
            "100%|██████████| 19/19 [00:02<00:00,  9.36it/s]\n"
          ]
        },
        {
          "output_type": "stream",
          "name": "stdout",
          "text": [
            "0.015119118605654106\n"
          ]
        },
        {
          "output_type": "stream",
          "name": "stderr",
          "text": [
            "100%|██████████| 19/19 [00:02<00:00,  9.38it/s]\n"
          ]
        },
        {
          "output_type": "stream",
          "name": "stdout",
          "text": [
            "Epoch: 25, Train Loss: 0.0145, Current Min Loss: 0.0151\n",
            "\n",
            "0.014456809274707643\n"
          ]
        },
        {
          "output_type": "stream",
          "name": "stderr",
          "text": [
            "100%|██████████| 19/19 [00:02<00:00,  9.36it/s]\n"
          ]
        },
        {
          "output_type": "stream",
          "name": "stdout",
          "text": [
            "0.014317952249358248\n"
          ]
        },
        {
          "output_type": "stream",
          "name": "stderr",
          "text": [
            "100%|██████████| 19/19 [00:02<00:00,  9.40it/s]\n"
          ]
        },
        {
          "output_type": "stream",
          "name": "stdout",
          "text": [
            "0.013505967152090586\n"
          ]
        },
        {
          "output_type": "stream",
          "name": "stderr",
          "text": [
            "100%|██████████| 19/19 [00:02<00:00,  7.89it/s]\n"
          ]
        },
        {
          "output_type": "stream",
          "name": "stdout",
          "text": [
            "0.01349009768505329\n"
          ]
        },
        {
          "output_type": "stream",
          "name": "stderr",
          "text": [
            "100%|██████████| 19/19 [00:02<00:00,  8.77it/s]\n"
          ]
        },
        {
          "output_type": "stream",
          "name": "stdout",
          "text": [
            "0.012754611767047454\n"
          ]
        },
        {
          "output_type": "stream",
          "name": "stderr",
          "text": [
            "100%|██████████| 19/19 [00:02<00:00,  9.40it/s]\n"
          ]
        },
        {
          "output_type": "stream",
          "name": "stdout",
          "text": [
            "Epoch: 30, Train Loss: 0.0127, Current Min Loss: 0.0128\n",
            "\n",
            "0.012728525858725762\n"
          ]
        },
        {
          "output_type": "stream",
          "name": "stderr",
          "text": [
            "100%|██████████| 19/19 [00:02<00:00,  9.39it/s]\n"
          ]
        },
        {
          "output_type": "stream",
          "name": "stdout",
          "text": [
            "0.012351124801043334\n"
          ]
        },
        {
          "output_type": "stream",
          "name": "stderr",
          "text": [
            "100%|██████████| 19/19 [00:02<00:00,  9.35it/s]\n"
          ]
        },
        {
          "output_type": "stream",
          "name": "stdout",
          "text": [
            "0.011987843271293246\n"
          ]
        },
        {
          "output_type": "stream",
          "name": "stderr",
          "text": [
            "100%|██████████| 19/19 [00:02<00:00,  9.33it/s]\n"
          ]
        },
        {
          "output_type": "stream",
          "name": "stdout",
          "text": [
            "0.011441432041360384\n"
          ]
        },
        {
          "output_type": "stream",
          "name": "stderr",
          "text": [
            "100%|██████████| 19/19 [00:02<00:00,  9.40it/s]\n"
          ]
        },
        {
          "output_type": "stream",
          "name": "stdout",
          "text": [
            "0.01114846137055277\n"
          ]
        },
        {
          "output_type": "stream",
          "name": "stderr",
          "text": [
            "100%|██████████| 19/19 [00:02<00:00,  9.39it/s]\n"
          ]
        },
        {
          "output_type": "stream",
          "name": "stdout",
          "text": [
            "Epoch: 35, Train Loss: 0.0107, Current Min Loss: 0.0111\n",
            "\n",
            "0.010665852720609026\n"
          ]
        },
        {
          "output_type": "stream",
          "name": "stderr",
          "text": [
            "100%|██████████| 19/19 [00:02<00:00,  9.33it/s]\n"
          ]
        },
        {
          "output_type": "stream",
          "name": "stdout",
          "text": [
            "0.01047131899409554\n"
          ]
        },
        {
          "output_type": "stream",
          "name": "stderr",
          "text": [
            "100%|██████████| 19/19 [00:02<00:00,  9.32it/s]\n"
          ]
        },
        {
          "output_type": "stream",
          "name": "stdout",
          "text": [
            "0.01027485220866093\n"
          ]
        },
        {
          "output_type": "stream",
          "name": "stderr",
          "text": [
            "100%|██████████| 19/19 [00:02<00:00,  9.35it/s]\n"
          ]
        },
        {
          "output_type": "stream",
          "name": "stdout",
          "text": [
            "0.009967518419221548\n"
          ]
        },
        {
          "output_type": "stream",
          "name": "stderr",
          "text": [
            "100%|██████████| 19/19 [00:02<00:00,  9.35it/s]"
          ]
        },
        {
          "output_type": "stream",
          "name": "stdout",
          "text": [
            "0.009360191955670706\n"
          ]
        },
        {
          "output_type": "stream",
          "name": "stderr",
          "text": [
            "\n"
          ]
        }
      ],
      "source": [
        "min_loss = np.Inf #lowest loss will be the loaded model\n",
        "\n",
        "loss_function = nn.CrossEntropyLoss().to(dev) \n",
        "\n",
        "optimizer = optim.Adam(vanillaCNN.parameters(),lr=0.00001)\n",
        "\n",
        "epoch_num=[]\n",
        "loss_arr=[]\n",
        "\n",
        "enum=0\n",
        "for epoch in range(EPOCHS):\n",
        "    train_loss = 0\n",
        "    vanillaCNN.train()\n",
        "    for i in tqdm(range(0, len(trainX), BATCH_SIZE)): \n",
        "        #print(f\"{i}:{i+BATCH_SIZE}\")\n",
        "        \n",
        "        batch_X = trainX[i:i+BATCH_SIZE].to(dev)\n",
        "        batch_y = trainY[i:i+BATCH_SIZE].to(dev)\n",
        "        batch_y=batch_y.view(len(batch_y)).type(torch.LongTensor)\n",
        "        \n",
        "        vanillaCNN.zero_grad()\n",
        "        #print(\"batch shape: \",batch_X.shape)\n",
        "        batch_X=batch_X.cuda()\n",
        "        batch_y=batch_y.cuda()\n",
        "\n",
        "        outputs = vanillaCNN(batch_X)\n",
        "        outputs.to(dev)\n",
        "        #print(\"result shape: \",outputs.shape,batch_y.shape)\n",
        "        \n",
        "        #print(outputs.dtype)\n",
        "        #print(batch_y.dtype)\n",
        "        #print(outputs.shape,\" <=> \",batch_y.shape)\n",
        "        \n",
        "        loss = loss_function(outputs, batch_y)\n",
        "        loss.backward()\n",
        "        optimizer.step()    #update weights\n",
        "        \n",
        "        #print(loss.item())\n",
        "        #print(loss.item(),\" - \",len(train_x))\n",
        "        train_loss += loss.item()/len(trainX)\n",
        "    #print(\"train loss: \",train_loss)\n",
        "    if epoch % 5 == 0:\n",
        "        print('Epoch: {}, Train Loss: {:.4f}, Current Min Loss: {:.4f}\\n'.format(   #print training loss at each step\n",
        "            epoch,\n",
        "            train_loss,\n",
        "            min_loss\n",
        "        )) \n",
        "    if train_loss < min_loss:   \n",
        "        min_loss = train_loss\n",
        "    print(train_loss)\n",
        "    epoch_num.append(enum)\n",
        "    loss_arr.append(train_loss)\n",
        "    enum+=1"
      ]
    },
    {
      "cell_type": "code",
      "execution_count": 32,
      "metadata": {
        "id": "H9ysHzvoJapb",
        "colab": {
          "base_uri": "https://localhost:8080/",
          "height": 295
        },
        "outputId": "a3379799-9756-4d4d-a231-9067d6d10100"
      },
      "outputs": [
        {
          "output_type": "display_data",
          "data": {
            "text/plain": [
              "<Figure size 432x288 with 1 Axes>"
            ],
            "image/png": "[encoded data removed]"
          },
          "metadata": {
            "needs_background": "light"
          }
        }
      ],
      "source": [
        "plt.plot(epoch_num, loss_arr)\n",
        "plt.title('Vannilla CNN - Train Loss vs Epoch number')\n",
        "plt.xlabel('Epoch number')\n",
        "plt.ylabel('Train Loss')\n",
        "plt.show()"
      ]
    },
    {
      "cell_type": "markdown",
      "metadata": {
        "id": "dtE3oPnfJapb"
      },
      "source": [
        "#### Test"
      ]
    },
    {
      "cell_type": "code",
      "execution_count": 39,
      "metadata": {
        "id": "7JogFD4eJapb"
      },
      "outputs": [],
      "source": [
        "#def test(model,test_x,test_y):\n",
        "def model_test(test_x,test_y, model, epoch_num=EPOCHS):\n",
        "    model.train(False)\n",
        "    correct = 0\n",
        "    total = 0\n",
        "\n",
        "    #print(test_y)\n",
        "    with torch.no_grad():\n",
        "        for i in tqdm(range(len(test_x))):\n",
        "            real_class = test_y[i].to(dev)\n",
        "            images=test_x[i].view(-1,3,256,256).to(dev)\n",
        "            net_out = model(images) # returns a list, \n",
        "\n",
        "            predicted_class = torch.argmax(net_out,dim=1)\n",
        "            #print(net_out,\" =>\",predicted_class,\" : \",real_class)\n",
        "            if predicted_class == real_class:\n",
        "                correct += 1\n",
        "                #print(net_out,\" =>\",predicted_class,\" : \",real_class)\n",
        "            total += 1\n",
        "    print(\"Accuracy: \", round((correct/total)*100, 3),\" % \")"
      ]
    },
    {
      "cell_type": "code",
      "execution_count": 40,
      "metadata": {
        "id": "-v4CNqZWJapc",
        "colab": {
          "base_uri": "https://localhost:8080/"
        },
        "outputId": "2c765691-04ab-4408-bfbc-aefdc7ffbfe8"
      },
      "outputs": [
        {
          "output_type": "stream",
          "name": "stderr",
          "text": [
            "100%|██████████| 451/451 [00:00<00:00, 697.57it/s]"
          ]
        },
        {
          "output_type": "stream",
          "name": "stdout",
          "text": [
            "Initial Model Accuracy:  34.59  % \n"
          ]
        },
        {
          "output_type": "stream",
          "name": "stderr",
          "text": [
            "\n"
          ]
        }
      ],
      "source": [
        "vanillaCNN.train(False)\n",
        "correct = 0\n",
        "total = 0\n",
        "\n",
        "#print(test_y)\n",
        "\n",
        "with torch.no_grad():\n",
        "    for i in tqdm(range(len(testX))):\n",
        "        real_class = testY[i].to(dev)\n",
        "        images=testX[i].view(-1,3,256,256).to(dev)\n",
        "        net_out = vanillaCNN(images) # returns a list, \n",
        "        \n",
        "        predicted_class = torch.argmax(net_out,dim=1)\n",
        "        #print(net_out,\" =>\",predicted_class,\" : \",real_class)\n",
        "        #print(predicted_class.shape,\" : \",real_class.shape)\n",
        "        if predicted_class == real_class:\n",
        "            correct += 1\n",
        "            #print(net_out,\" =>\",predicted_class,\" : \",real_class)\n",
        "        total += 1\n",
        "print(\"Initial Model Accuracy: \", round((correct/total)*100, 3),\" % \")"
      ]
    },
    {
      "cell_type": "markdown",
      "source": [
        "### Model Train function"
      ],
      "metadata": {
        "id": "qckcc3bk8ZZw"
      }
    },
    {
      "cell_type": "code",
      "execution_count": 41,
      "metadata": {
        "id": "rLjc9LPiJapc"
      },
      "outputs": [],
      "source": [
        "def model_train(model,trainX,trainY,testX,testY):\n",
        "    trainX.to(dev)\n",
        "    testX.to(dev)\n",
        "    trainY.to(dev)\n",
        "    testY.to(dev)\n",
        "    model.to(dev)\n",
        "\n",
        "    min_loss = np.Inf\n",
        "    epoch_num=[]\n",
        "    loss_arr=[]\n",
        "\n",
        "    enum=0\n",
        "    for epoch in range(EPOCHS):\n",
        "        train_loss = 0\n",
        "        model.train()\n",
        "\n",
        "        for i in tqdm(range(0, len(trainX), BATCH_SIZE)): \n",
        "            #print(f\"{i}:{i+BATCH_SIZE}\")\n",
        "\n",
        "            batch_X = trainX[i:i+BATCH_SIZE].to(dev)\n",
        "            batch_y = trainY[i:i+BATCH_SIZE].to(dev)\n",
        "            batch_y=batch_y.view(len(batch_y)).type(torch.LongTensor)\n",
        "\n",
        "            # Clear accumulated gradients from previous iteration\n",
        "            # before backpropagating. \n",
        "            model.zero_grad()\n",
        "            batch_X=batch_X.cuda()\n",
        "            batch_y=batch_y.cuda()\n",
        "            #print(batch_X.shape)\n",
        "            outputs = model(batch_X)\n",
        "            outputs.to(dev)\n",
        "\n",
        "            #print(\"result shape: \",outputs.shape,batch_y.shape)\n",
        "\n",
        "            #print(outputs.dtype)\n",
        "            #print(batch_y.dtype)\n",
        "\n",
        "            loss = loss_function(outputs, batch_y)\n",
        "            loss.backward()\n",
        "            optimizer.step()    #update weights\n",
        "\n",
        "            #print(loss.item())\n",
        "            #print(loss.item(),\" - \",len(train_x))\n",
        "            train_loss += loss.item()/len(trainX)\n",
        "        #print(\"train loss: \",train_loss)\n",
        "        if epoch % 5 == 0:\n",
        "            print('Epoch: {}, Train Loss: {:.4f}, Current Min Loss: {:.4f}\\n'.format(   #print training loss at each step\n",
        "                epoch,\n",
        "                train_loss,\n",
        "                min_loss\n",
        "            )) \n",
        "        if train_loss < min_loss:   \n",
        "            min_loss = train_loss\n",
        "        epoch_num.append(enum)\n",
        "        loss_arr.append(train_loss)\n",
        "        enum+=1\n",
        "    \n",
        "    model_test(testX,testY, model, EPOCHS)\n",
        "\n",
        "    return model,epoch_num,loss_arr"
      ]
    },
    {
      "cell_type": "code",
      "source": [
        "EPOCHS = 50\n",
        "BATCH_SIZE = 100"
      ],
      "metadata": {
        "id": "9iz1yxhVDY6b"
      },
      "execution_count": 42,
      "outputs": []
    },
    {
      "cell_type": "code",
      "source": [
        "trained_vanillaCNN, epoch_num,loss_arr = model_train(vanillaCNN, trainX,trainY,testX,testY)"
      ],
      "metadata": {
        "id": "dgC6r5BK_Qkb",
        "colab": {
          "base_uri": "https://localhost:8080/"
        },
        "outputId": "1d4bfb75-5a11-473a-dec3-6ecf406321d8"
      },
      "execution_count": 43,
      "outputs": [
        {
          "output_type": "stream",
          "name": "stderr",
          "text": [
            "100%|██████████| 19/19 [00:02<00:00,  8.99it/s]\n"
          ]
        },
        {
          "output_type": "stream",
          "name": "stdout",
          "text": [
            "Epoch: 0, Train Loss: 0.0031, Current Min Loss: inf\n",
            "\n"
          ]
        },
        {
          "output_type": "stream",
          "name": "stderr",
          "text": [
            "100%|██████████| 19/19 [00:02<00:00,  9.38it/s]\n",
            "100%|██████████| 19/19 [00:02<00:00,  9.33it/s]\n",
            "100%|██████████| 19/19 [00:02<00:00,  9.37it/s]\n",
            "100%|██████████| 19/19 [00:02<00:00,  8.68it/s]\n",
            "100%|██████████| 19/19 [00:02<00:00,  8.53it/s]\n"
          ]
        },
        {
          "output_type": "stream",
          "name": "stdout",
          "text": [
            "Epoch: 5, Train Loss: 0.0020, Current Min Loss: 0.0023\n",
            "\n"
          ]
        },
        {
          "output_type": "stream",
          "name": "stderr",
          "text": [
            "100%|██████████| 19/19 [00:02<00:00,  9.36it/s]\n",
            "100%|██████████| 19/19 [00:02<00:00,  9.35it/s]\n",
            "100%|██████████| 19/19 [00:02<00:00,  9.32it/s]\n",
            "100%|██████████| 19/19 [00:02<00:00,  9.35it/s]\n",
            "100%|██████████| 19/19 [00:02<00:00,  9.34it/s]\n"
          ]
        },
        {
          "output_type": "stream",
          "name": "stdout",
          "text": [
            "Epoch: 10, Train Loss: 0.0016, Current Min Loss: 0.0017\n",
            "\n"
          ]
        },
        {
          "output_type": "stream",
          "name": "stderr",
          "text": [
            "100%|██████████| 19/19 [00:02<00:00,  9.29it/s]\n",
            "100%|██████████| 19/19 [00:02<00:00,  9.32it/s]\n",
            "100%|██████████| 19/19 [00:02<00:00,  9.34it/s]\n",
            "100%|██████████| 19/19 [00:02<00:00,  9.32it/s]\n",
            "100%|██████████| 19/19 [00:02<00:00,  9.23it/s]\n"
          ]
        },
        {
          "output_type": "stream",
          "name": "stdout",
          "text": [
            "Epoch: 15, Train Loss: 0.0013, Current Min Loss: 0.0013\n",
            "\n"
          ]
        },
        {
          "output_type": "stream",
          "name": "stderr",
          "text": [
            "100%|██████████| 19/19 [00:02<00:00,  9.29it/s]\n",
            "100%|██████████| 19/19 [00:02<00:00,  9.28it/s]\n",
            "100%|██████████| 19/19 [00:02<00:00,  9.29it/s]\n",
            "100%|██████████| 19/19 [00:02<00:00,  9.27it/s]\n",
            "100%|██████████| 19/19 [00:02<00:00,  9.27it/s]\n"
          ]
        },
        {
          "output_type": "stream",
          "name": "stdout",
          "text": [
            "Epoch: 20, Train Loss: 0.0010, Current Min Loss: 0.0011\n",
            "\n"
          ]
        },
        {
          "output_type": "stream",
          "name": "stderr",
          "text": [
            "100%|██████████| 19/19 [00:02<00:00,  9.20it/s]\n",
            "100%|██████████| 19/19 [00:02<00:00,  9.20it/s]\n",
            "100%|██████████| 19/19 [00:02<00:00,  9.21it/s]\n",
            "100%|██████████| 19/19 [00:02<00:00,  9.20it/s]\n",
            "100%|██████████| 19/19 [00:02<00:00,  9.17it/s]\n"
          ]
        },
        {
          "output_type": "stream",
          "name": "stdout",
          "text": [
            "Epoch: 25, Train Loss: 0.0009, Current Min Loss: 0.0009\n",
            "\n"
          ]
        },
        {
          "output_type": "stream",
          "name": "stderr",
          "text": [
            "100%|██████████| 19/19 [00:02<00:00,  9.19it/s]\n",
            "100%|██████████| 19/19 [00:02<00:00,  9.16it/s]\n",
            "100%|██████████| 19/19 [00:02<00:00,  9.18it/s]\n",
            "100%|██████████| 19/19 [00:02<00:00,  8.26it/s]\n",
            "100%|██████████| 19/19 [00:02<00:00,  9.23it/s]\n"
          ]
        },
        {
          "output_type": "stream",
          "name": "stdout",
          "text": [
            "Epoch: 30, Train Loss: 0.0007, Current Min Loss: 0.0007\n",
            "\n"
          ]
        },
        {
          "output_type": "stream",
          "name": "stderr",
          "text": [
            "100%|██████████| 19/19 [00:02<00:00,  9.24it/s]\n",
            "100%|██████████| 19/19 [00:02<00:00,  9.23it/s]\n",
            "100%|██████████| 19/19 [00:02<00:00,  9.21it/s]\n",
            "100%|██████████| 19/19 [00:02<00:00,  9.23it/s]\n",
            "100%|██████████| 19/19 [00:02<00:00,  9.22it/s]\n"
          ]
        },
        {
          "output_type": "stream",
          "name": "stdout",
          "text": [
            "Epoch: 35, Train Loss: 0.0006, Current Min Loss: 0.0006\n",
            "\n"
          ]
        },
        {
          "output_type": "stream",
          "name": "stderr",
          "text": [
            "100%|██████████| 19/19 [00:02<00:00,  9.18it/s]\n",
            "100%|██████████| 19/19 [00:02<00:00,  9.24it/s]\n",
            "100%|██████████| 19/19 [00:02<00:00,  9.28it/s]\n",
            "100%|██████████| 19/19 [00:02<00:00,  9.24it/s]\n",
            "100%|██████████| 19/19 [00:02<00:00,  9.23it/s]\n"
          ]
        },
        {
          "output_type": "stream",
          "name": "stdout",
          "text": [
            "Epoch: 40, Train Loss: 0.0005, Current Min Loss: 0.0005\n",
            "\n"
          ]
        },
        {
          "output_type": "stream",
          "name": "stderr",
          "text": [
            "100%|██████████| 19/19 [00:02<00:00,  9.21it/s]\n",
            "100%|██████████| 19/19 [00:02<00:00,  9.20it/s]\n",
            "100%|██████████| 19/19 [00:02<00:00,  9.20it/s]\n",
            "100%|██████████| 19/19 [00:02<00:00,  9.15it/s]\n",
            "100%|██████████| 19/19 [00:02<00:00,  9.19it/s]\n"
          ]
        },
        {
          "output_type": "stream",
          "name": "stdout",
          "text": [
            "Epoch: 45, Train Loss: 0.0004, Current Min Loss: 0.0004\n",
            "\n"
          ]
        },
        {
          "output_type": "stream",
          "name": "stderr",
          "text": [
            "100%|██████████| 19/19 [00:02<00:00,  9.19it/s]\n",
            "100%|██████████| 19/19 [00:02<00:00,  9.21it/s]\n",
            "100%|██████████| 19/19 [00:02<00:00,  9.21it/s]\n",
            "100%|██████████| 19/19 [00:02<00:00,  9.19it/s]\n",
            "100%|██████████| 451/451 [00:00<00:00, 716.44it/s]"
          ]
        },
        {
          "output_type": "stream",
          "name": "stdout",
          "text": [
            "Accuracy:  37.251  % \n"
          ]
        },
        {
          "output_type": "stream",
          "name": "stderr",
          "text": [
            "\n"
          ]
        }
      ]
    },
    {
      "cell_type": "code",
      "source": [
        "plt.plot(epoch_num, loss_arr)\n",
        "plt.title('Vannilla CNN - Train Loss vs Epoch number')\n",
        "plt.xlabel('Epoch number')\n",
        "plt.ylabel('Train Loss')\n",
        "plt.show()"
      ],
      "metadata": {
        "colab": {
          "base_uri": "https://localhost:8080/",
          "height": 295
        },
        "id": "sWle6KL4_6pL",
        "outputId": "c7fd70df-e58a-49c2-c83c-4ba111dc03ca"
      },
      "execution_count": 70,
      "outputs": [
        {
          "output_type": "display_data",
          "data": {
            "text/plain": [
              "<Figure size 432x288 with 1 Axes>"
            ],
            "image/png": "[encoded data removed]"
          },
          "metadata": {
            "needs_background": "light"
          }
        }
      ]
    },
    {
      "cell_type": "markdown",
      "source": [
        "### ResNet18"
      ],
      "metadata": {
        "id": "u-pW75rk8dOb"
      }
    },
    {
      "cell_type": "code",
      "execution_count": 50,
      "metadata": {
        "id": "ytMbm4xZJapc",
        "colab": {
          "base_uri": "https://localhost:8080/"
        },
        "outputId": "9ce8e7f2-8c0e-4fa0-8fc8-62293552314b"
      },
      "outputs": [
        {
          "output_type": "stream",
          "name": "stdout",
          "text": [
            "512\n"
          ]
        }
      ],
      "source": [
        "resNet = models.resnet18(pretrained=True)\n",
        "\n",
        "num_ftrs = resNet.fc.in_features\n",
        "print(num_ftrs)"
      ]
    },
    {
      "cell_type": "code",
      "source": [
        "import gc\n",
        "gc.collect()"
      ],
      "metadata": {
        "id": "KFsOfJSB82q7",
        "colab": {
          "base_uri": "https://localhost:8080/"
        },
        "outputId": "6e306bc8-91e1-457b-9b84-1e943f354720"
      },
      "execution_count": 51,
      "outputs": [
        {
          "output_type": "execute_result",
          "data": {
            "text/plain": [
              "283"
            ]
          },
          "metadata": {},
          "execution_count": 51
        }
      ]
    },
    {
      "cell_type": "code",
      "source": [
        "resNet.fc = nn.Linear(num_ftrs, 11)\n",
        "resNet.to(dev)"
      ],
      "metadata": {
        "id": "7l4AreQ7FsR5",
        "colab": {
          "base_uri": "https://localhost:8080/"
        },
        "outputId": "93e9b13a-14b7-4285-f20c-d2d0f09f95ce"
      },
      "execution_count": 52,
      "outputs": [
        {
          "output_type": "execute_result",
          "data": {
            "text/plain": [
              "ResNet(\n",
              "  (conv1): Conv2d(3, 64, kernel_size=(7, 7), stride=(2, 2), padding=(3, 3), bias=False)\n",
              "  (bn1): BatchNorm2d(64, eps=1e-05, momentum=0.1, affine=True, track_running_stats=True)\n",
              "  (relu): ReLU(inplace=True)\n",
              "  (maxpool): MaxPool2d(kernel_size=3, stride=2, padding=1, dilation=1, ceil_mode=False)\n",
              "  (layer1): Sequential(\n",
              "    (0): BasicBlock(\n",
              "      (conv1): Conv2d(64, 64, kernel_size=(3, 3), stride=(1, 1), padding=(1, 1), bias=False)\n",
              "      (bn1): BatchNorm2d(64, eps=1e-05, momentum=0.1, affine=True, track_running_stats=True)\n",
              "      (relu): ReLU(inplace=True)\n",
              "      (conv2): Conv2d(64, 64, kernel_size=(3, 3), stride=(1, 1), padding=(1, 1), bias=False)\n",
              "      (bn2): BatchNorm2d(64, eps=1e-05, momentum=0.1, affine=True, track_running_stats=True)\n",
              "    )\n",
              "    (1): BasicBlock(\n",
              "      (conv1): Conv2d(64, 64, kernel_size=(3, 3), stride=(1, 1), padding=(1, 1), bias=False)\n",
              "      (bn1): BatchNorm2d(64, eps=1e-05, momentum=0.1, affine=True, track_running_stats=True)\n",
              "      (relu): ReLU(inplace=True)\n",
              "      (conv2): Conv2d(64, 64, kernel_size=(3, 3), stride=(1, 1), padding=(1, 1), bias=False)\n",
              "      (bn2): BatchNorm2d(64, eps=1e-05, momentum=0.1, affine=True, track_running_stats=True)\n",
              "    )\n",
              "  )\n",
              "  (layer2): Sequential(\n",
              "    (0): BasicBlock(\n",
              "      (conv1): Conv2d(64, 128, kernel_size=(3, 3), stride=(2, 2), padding=(1, 1), bias=False)\n",
              "      (bn1): BatchNorm2d(128, eps=1e-05, momentum=0.1, affine=True, track_running_stats=True)\n",
              "      (relu): ReLU(inplace=True)\n",
              "      (conv2): Conv2d(128, 128, kernel_size=(3, 3), stride=(1, 1), padding=(1, 1), bias=False)\n",
              "      (bn2): BatchNorm2d(128, eps=1e-05, momentum=0.1, affine=True, track_running_stats=True)\n",
              "      (downsample): Sequential(\n",
              "        (0): Conv2d(64, 128, kernel_size=(1, 1), stride=(2, 2), bias=False)\n",
              "        (1): BatchNorm2d(128, eps=1e-05, momentum=0.1, affine=True, track_running_stats=True)\n",
              "      )\n",
              "    )\n",
              "    (1): BasicBlock(\n",
              "      (conv1): Conv2d(128, 128, kernel_size=(3, 3), stride=(1, 1), padding=(1, 1), bias=False)\n",
              "      (bn1): BatchNorm2d(128, eps=1e-05, momentum=0.1, affine=True, track_running_stats=True)\n",
              "      (relu): ReLU(inplace=True)\n",
              "      (conv2): Conv2d(128, 128, kernel_size=(3, 3), stride=(1, 1), padding=(1, 1), bias=False)\n",
              "      (bn2): BatchNorm2d(128, eps=1e-05, momentum=0.1, affine=True, track_running_stats=True)\n",
              "    )\n",
              "  )\n",
              "  (layer3): Sequential(\n",
              "    (0): BasicBlock(\n",
              "      (conv1): Conv2d(128, 256, kernel_size=(3, 3), stride=(2, 2), padding=(1, 1), bias=False)\n",
              "      (bn1): BatchNorm2d(256, eps=1e-05, momentum=0.1, affine=True, track_running_stats=True)\n",
              "      (relu): ReLU(inplace=True)\n",
              "      (conv2): Conv2d(256, 256, kernel_size=(3, 3), stride=(1, 1), padding=(1, 1), bias=False)\n",
              "      (bn2): BatchNorm2d(256, eps=1e-05, momentum=0.1, affine=True, track_running_stats=True)\n",
              "      (downsample): Sequential(\n",
              "        (0): Conv2d(128, 256, kernel_size=(1, 1), stride=(2, 2), bias=False)\n",
              "        (1): BatchNorm2d(256, eps=1e-05, momentum=0.1, affine=True, track_running_stats=True)\n",
              "      )\n",
              "    )\n",
              "    (1): BasicBlock(\n",
              "      (conv1): Conv2d(256, 256, kernel_size=(3, 3), stride=(1, 1), padding=(1, 1), bias=False)\n",
              "      (bn1): BatchNorm2d(256, eps=1e-05, momentum=0.1, affine=True, track_running_stats=True)\n",
              "      (relu): ReLU(inplace=True)\n",
              "      (conv2): Conv2d(256, 256, kernel_size=(3, 3), stride=(1, 1), padding=(1, 1), bias=False)\n",
              "      (bn2): BatchNorm2d(256, eps=1e-05, momentum=0.1, affine=True, track_running_stats=True)\n",
              "    )\n",
              "  )\n",
              "  (layer4): Sequential(\n",
              "    (0): BasicBlock(\n",
              "      (conv1): Conv2d(256, 512, kernel_size=(3, 3), stride=(2, 2), padding=(1, 1), bias=False)\n",
              "      (bn1): BatchNorm2d(512, eps=1e-05, momentum=0.1, affine=True, track_running_stats=True)\n",
              "      (relu): ReLU(inplace=True)\n",
              "      (conv2): Conv2d(512, 512, kernel_size=(3, 3), stride=(1, 1), padding=(1, 1), bias=False)\n",
              "      (bn2): BatchNorm2d(512, eps=1e-05, momentum=0.1, affine=True, track_running_stats=True)\n",
              "      (downsample): Sequential(\n",
              "        (0): Conv2d(256, 512, kernel_size=(1, 1), stride=(2, 2), bias=False)\n",
              "        (1): BatchNorm2d(512, eps=1e-05, momentum=0.1, affine=True, track_running_stats=True)\n",
              "      )\n",
              "    )\n",
              "    (1): BasicBlock(\n",
              "      (conv1): Conv2d(512, 512, kernel_size=(3, 3), stride=(1, 1), padding=(1, 1), bias=False)\n",
              "      (bn1): BatchNorm2d(512, eps=1e-05, momentum=0.1, affine=True, track_running_stats=True)\n",
              "      (relu): ReLU(inplace=True)\n",
              "      (conv2): Conv2d(512, 512, kernel_size=(3, 3), stride=(1, 1), padding=(1, 1), bias=False)\n",
              "      (bn2): BatchNorm2d(512, eps=1e-05, momentum=0.1, affine=True, track_running_stats=True)\n",
              "    )\n",
              "  )\n",
              "  (avgpool): AdaptiveAvgPool2d(output_size=(1, 1))\n",
              "  (fc): Linear(in_features=512, out_features=11, bias=True)\n",
              ")"
            ]
          },
          "metadata": {},
          "execution_count": 52
        }
      ]
    },
    {
      "cell_type": "code",
      "execution_count": 53,
      "metadata": {
        "id": "32fZsbvIJapc"
      },
      "outputs": [],
      "source": [
        "\n",
        "\n",
        "optimizer = optim.Adam(resNet.parameters(),lr=0.00001)\n",
        "criterion = nn.CrossEntropyLoss().to(dev) "
      ]
    },
    {
      "cell_type": "code",
      "source": [
        "trained_resNet, epoch_num,loss_arr = model_train(resNet, trainX,trainY,testX,testY)"
      ],
      "metadata": {
        "id": "uBaScTL384yH",
        "colab": {
          "base_uri": "https://localhost:8080/"
        },
        "outputId": "ecc4f083-3b0c-4de9-a5ae-afd956485b40"
      },
      "execution_count": 54,
      "outputs": [
        {
          "output_type": "stream",
          "name": "stderr",
          "text": [
            "100%|██████████| 19/19 [00:10<00:00,  1.76it/s]\n"
          ]
        },
        {
          "output_type": "stream",
          "name": "stdout",
          "text": [
            "Epoch: 0, Train Loss: 0.0266, Current Min Loss: inf\n",
            "\n"
          ]
        },
        {
          "output_type": "stream",
          "name": "stderr",
          "text": [
            "100%|██████████| 19/19 [00:10<00:00,  1.77it/s]\n",
            "100%|██████████| 19/19 [00:10<00:00,  1.76it/s]\n",
            "100%|██████████| 19/19 [00:10<00:00,  1.76it/s]\n",
            "100%|██████████| 19/19 [00:10<00:00,  1.75it/s]\n",
            "100%|██████████| 19/19 [00:10<00:00,  1.75it/s]\n"
          ]
        },
        {
          "output_type": "stream",
          "name": "stdout",
          "text": [
            "Epoch: 5, Train Loss: 0.0229, Current Min Loss: 0.0235\n",
            "\n"
          ]
        },
        {
          "output_type": "stream",
          "name": "stderr",
          "text": [
            "100%|██████████| 19/19 [00:10<00:00,  1.75it/s]\n",
            "100%|██████████| 19/19 [00:10<00:00,  1.74it/s]\n",
            "100%|██████████| 19/19 [00:10<00:00,  1.74it/s]\n",
            "100%|██████████| 19/19 [00:10<00:00,  1.74it/s]\n",
            "100%|██████████| 19/19 [00:10<00:00,  1.74it/s]\n"
          ]
        },
        {
          "output_type": "stream",
          "name": "stdout",
          "text": [
            "Epoch: 10, Train Loss: 0.0206, Current Min Loss: 0.0210\n",
            "\n"
          ]
        },
        {
          "output_type": "stream",
          "name": "stderr",
          "text": [
            "100%|██████████| 19/19 [00:10<00:00,  1.74it/s]\n",
            "100%|██████████| 19/19 [00:10<00:00,  1.74it/s]\n",
            "100%|██████████| 19/19 [00:10<00:00,  1.74it/s]\n",
            "100%|██████████| 19/19 [00:10<00:00,  1.73it/s]\n",
            "100%|██████████| 19/19 [00:10<00:00,  1.73it/s]\n"
          ]
        },
        {
          "output_type": "stream",
          "name": "stdout",
          "text": [
            "Epoch: 15, Train Loss: 0.0186, Current Min Loss: 0.0190\n",
            "\n"
          ]
        },
        {
          "output_type": "stream",
          "name": "stderr",
          "text": [
            "100%|██████████| 19/19 [00:10<00:00,  1.73it/s]\n",
            "100%|██████████| 19/19 [00:10<00:00,  1.73it/s]\n",
            "100%|██████████| 19/19 [00:10<00:00,  1.73it/s]\n",
            "100%|██████████| 19/19 [00:10<00:00,  1.73it/s]\n",
            "100%|██████████| 19/19 [00:10<00:00,  1.73it/s]\n"
          ]
        },
        {
          "output_type": "stream",
          "name": "stdout",
          "text": [
            "Epoch: 20, Train Loss: 0.0170, Current Min Loss: 0.0173\n",
            "\n"
          ]
        },
        {
          "output_type": "stream",
          "name": "stderr",
          "text": [
            "100%|██████████| 19/19 [00:10<00:00,  1.73it/s]\n",
            "100%|██████████| 19/19 [00:10<00:00,  1.73it/s]\n",
            "100%|██████████| 19/19 [00:10<00:00,  1.73it/s]\n",
            "100%|██████████| 19/19 [00:10<00:00,  1.73it/s]\n",
            "100%|██████████| 19/19 [00:10<00:00,  1.73it/s]\n"
          ]
        },
        {
          "output_type": "stream",
          "name": "stdout",
          "text": [
            "Epoch: 25, Train Loss: 0.0155, Current Min Loss: 0.0157\n",
            "\n"
          ]
        },
        {
          "output_type": "stream",
          "name": "stderr",
          "text": [
            "100%|██████████| 19/19 [00:11<00:00,  1.73it/s]\n",
            "100%|██████████| 19/19 [00:11<00:00,  1.73it/s]\n",
            "100%|██████████| 19/19 [00:11<00:00,  1.73it/s]\n",
            "100%|██████████| 19/19 [00:11<00:00,  1.73it/s]\n",
            "100%|██████████| 19/19 [00:11<00:00,  1.73it/s]\n"
          ]
        },
        {
          "output_type": "stream",
          "name": "stdout",
          "text": [
            "Epoch: 30, Train Loss: 0.0142, Current Min Loss: 0.0144\n",
            "\n"
          ]
        },
        {
          "output_type": "stream",
          "name": "stderr",
          "text": [
            "100%|██████████| 19/19 [00:10<00:00,  1.73it/s]\n",
            "100%|██████████| 19/19 [00:11<00:00,  1.73it/s]\n",
            "100%|██████████| 19/19 [00:10<00:00,  1.73it/s]\n",
            "100%|██████████| 19/19 [00:10<00:00,  1.73it/s]\n",
            "100%|██████████| 19/19 [00:10<00:00,  1.73it/s]\n"
          ]
        },
        {
          "output_type": "stream",
          "name": "stdout",
          "text": [
            "Epoch: 35, Train Loss: 0.0130, Current Min Loss: 0.0132\n",
            "\n"
          ]
        },
        {
          "output_type": "stream",
          "name": "stderr",
          "text": [
            "100%|██████████| 19/19 [00:10<00:00,  1.73it/s]\n",
            "100%|██████████| 19/19 [00:10<00:00,  1.73it/s]\n",
            "100%|██████████| 19/19 [00:10<00:00,  1.73it/s]\n",
            "100%|██████████| 19/19 [00:10<00:00,  1.73it/s]\n",
            "100%|██████████| 19/19 [00:10<00:00,  1.73it/s]\n"
          ]
        },
        {
          "output_type": "stream",
          "name": "stdout",
          "text": [
            "Epoch: 40, Train Loss: 0.0119, Current Min Loss: 0.0121\n",
            "\n"
          ]
        },
        {
          "output_type": "stream",
          "name": "stderr",
          "text": [
            "100%|██████████| 19/19 [00:10<00:00,  1.73it/s]\n",
            "100%|██████████| 19/19 [00:10<00:00,  1.73it/s]\n",
            "100%|██████████| 19/19 [00:11<00:00,  1.73it/s]\n",
            "100%|██████████| 19/19 [00:10<00:00,  1.73it/s]\n",
            "100%|██████████| 19/19 [00:10<00:00,  1.73it/s]\n"
          ]
        },
        {
          "output_type": "stream",
          "name": "stdout",
          "text": [
            "Epoch: 45, Train Loss: 0.0109, Current Min Loss: 0.0111\n",
            "\n"
          ]
        },
        {
          "output_type": "stream",
          "name": "stderr",
          "text": [
            "100%|██████████| 19/19 [00:10<00:00,  1.73it/s]\n",
            "100%|██████████| 19/19 [00:10<00:00,  1.73it/s]\n",
            "100%|██████████| 19/19 [00:11<00:00,  1.73it/s]\n",
            "100%|██████████| 19/19 [00:10<00:00,  1.73it/s]\n",
            "100%|██████████| 451/451 [00:01<00:00, 233.89it/s]"
          ]
        },
        {
          "output_type": "stream",
          "name": "stdout",
          "text": [
            "Accuracy:  47.228  % \n"
          ]
        },
        {
          "output_type": "stream",
          "name": "stderr",
          "text": [
            "\n"
          ]
        }
      ]
    },
    {
      "cell_type": "code",
      "source": [
        "plt.plot(epoch_num, loss_arr)\n",
        "plt.title('ResNet18 - Train Loss vs Epoch number')\n",
        "plt.xlabel('Epoch number')\n",
        "plt.ylabel('Train Loss')\n",
        "plt.show()"
      ],
      "metadata": {
        "id": "7vO8LnzuAC0s"
      },
      "execution_count": null,
      "outputs": []
    },
    {
      "cell_type": "markdown",
      "source": [
        "### AlexNet"
      ],
      "metadata": {
        "id": "a6tv0PyQKvfx"
      }
    },
    {
      "cell_type": "code",
      "source": [
        "class AlexNet(nn.Module):\n",
        "    def __init__(self, num_classes=11):\n",
        "        super(AlexNet, self).__init__()\n",
        "        self.features = nn.Sequential(\n",
        "            nn.Conv2d(3, 64, kernel_size=3, stride=2),\n",
        "            nn.ReLU(inplace=True),\n",
        "            nn.MaxPool2d(kernel_size=2),\n",
        "            nn.Conv2d(64, 192, kernel_size=3),\n",
        "            nn.ReLU(inplace=True),\n",
        "            nn.MaxPool2d(kernel_size=2),\n",
        "            nn.Conv2d(192, 384, kernel_size=3),\n",
        "            nn.ReLU(inplace=True),\n",
        "            nn.Conv2d(384, 256, kernel_size=3),\n",
        "            nn.ReLU(inplace=True),\n",
        "            nn.Conv2d(256, 256, kernel_size=3),\n",
        "            nn.ReLU(inplace=True),\n",
        "            nn.MaxPool2d(kernel_size=2),\n",
        "        )\n",
        "        self.classifier = nn.Sequential(\n",
        "            nn.Dropout(),\n",
        "            nn.Linear(256 * 12 * 12, 4096),\n",
        "            nn.ReLU(inplace=True),\n",
        "            nn.Dropout(),\n",
        "            nn.Linear(4096, 4096),\n",
        "            nn.ReLU(inplace=True),\n",
        "            nn.Linear(4096, num_classes),\n",
        "        )\n",
        "\n",
        "    def forward(self, x):\n",
        "        x = self.features(x)\n",
        "        #print(\"conv output shape: \",x.shape)\n",
        "        x = x.reshape(x.size(0), 256 * 12 * 12)\n",
        "        x = F.log_softmax(self.classifier(x),dim=1)\n",
        "        return x"
      ],
      "metadata": {
        "id": "LpZojrnY84hE"
      },
      "execution_count": 56,
      "outputs": []
    },
    {
      "cell_type": "code",
      "source": [
        "alexNet=AlexNet(11)"
      ],
      "metadata": {
        "id": "vLa1zzc5K4dD"
      },
      "execution_count": 57,
      "outputs": []
    },
    {
      "cell_type": "code",
      "source": [
        "alexNet.to(dev)"
      ],
      "metadata": {
        "id": "lboNyDvGK4m3",
        "colab": {
          "base_uri": "https://localhost:8080/"
        },
        "outputId": "2359f34a-2c66-4979-f528-cd785193f434"
      },
      "execution_count": 58,
      "outputs": [
        {
          "output_type": "execute_result",
          "data": {
            "text/plain": [
              "AlexNet(\n",
              "  (features): Sequential(\n",
              "    (0): Conv2d(3, 64, kernel_size=(3, 3), stride=(2, 2))\n",
              "    (1): ReLU(inplace=True)\n",
              "    (2): MaxPool2d(kernel_size=2, stride=2, padding=0, dilation=1, ceil_mode=False)\n",
              "    (3): Conv2d(64, 192, kernel_size=(3, 3), stride=(1, 1))\n",
              "    (4): ReLU(inplace=True)\n",
              "    (5): MaxPool2d(kernel_size=2, stride=2, padding=0, dilation=1, ceil_mode=False)\n",
              "    (6): Conv2d(192, 384, kernel_size=(3, 3), stride=(1, 1))\n",
              "    (7): ReLU(inplace=True)\n",
              "    (8): Conv2d(384, 256, kernel_size=(3, 3), stride=(1, 1))\n",
              "    (9): ReLU(inplace=True)\n",
              "    (10): Conv2d(256, 256, kernel_size=(3, 3), stride=(1, 1))\n",
              "    (11): ReLU(inplace=True)\n",
              "    (12): MaxPool2d(kernel_size=2, stride=2, padding=0, dilation=1, ceil_mode=False)\n",
              "  )\n",
              "  (classifier): Sequential(\n",
              "    (0): Dropout(p=0.5, inplace=False)\n",
              "    (1): Linear(in_features=36864, out_features=4096, bias=True)\n",
              "    (2): ReLU(inplace=True)\n",
              "    (3): Dropout(p=0.5, inplace=False)\n",
              "    (4): Linear(in_features=4096, out_features=4096, bias=True)\n",
              "    (5): ReLU(inplace=True)\n",
              "    (6): Linear(in_features=4096, out_features=11, bias=True)\n",
              "  )\n",
              ")"
            ]
          },
          "metadata": {},
          "execution_count": 58
        }
      ]
    },
    {
      "cell_type": "code",
      "source": [
        "optimizer = optim.Adam(alexNet.parameters(),lr=0.00001)"
      ],
      "metadata": {
        "id": "8xnuEmCOK4wa"
      },
      "execution_count": 60,
      "outputs": []
    },
    {
      "cell_type": "code",
      "source": [
        "print(img.shape)\n",
        "b=alexNet(img)\n",
        "print(\"batch result: \",b.shape)\n",
        "b"
      ],
      "metadata": {
        "id": "tA2EDFQQOpfv",
        "colab": {
          "base_uri": "https://localhost:8080/"
        },
        "outputId": "65c33790-98f9-4496-fae6-c8a047a3e157"
      },
      "execution_count": 59,
      "outputs": [
        {
          "output_type": "stream",
          "name": "stdout",
          "text": [
            "torch.Size([19, 3, 256, 256])\n",
            "batch result:  torch.Size([19, 11])\n"
          ]
        },
        {
          "output_type": "execute_result",
          "data": {
            "text/plain": [
              "tensor([[-2.3375, -2.1408, -2.6038, -1.8938, -2.8720, -2.0961, -3.0014, -2.8152,\n",
              "         -2.7308, -2.1522, -2.3985],\n",
              "        [-2.6709, -1.9226, -2.4690, -2.2298, -2.6213, -2.3915, -2.6389, -2.7923,\n",
              "         -2.2887, -2.4054, -2.2650],\n",
              "        [-3.0174, -1.6858, -2.7930, -1.6392, -3.0758, -2.0017, -2.4238, -2.7318,\n",
              "         -3.0710, -2.8211, -2.6657],\n",
              "        [-2.9445, -2.0643, -2.6830, -1.6262, -2.8924, -1.7033, -2.7314, -2.9446,\n",
              "         -2.6149, -2.9449, -2.5988],\n",
              "        [-2.6930, -1.8640, -2.7632, -2.3510, -2.8262, -2.2975, -2.3576, -2.3095,\n",
              "         -2.2374, -2.9081, -2.2644],\n",
              "        [-2.7302, -2.4507, -2.2059, -2.4719, -2.5122, -1.9316, -2.5760, -2.5980,\n",
              "         -2.2323, -2.5666, -2.3709],\n",
              "        [-2.6537, -1.7955, -2.6045, -2.1934, -3.0186, -1.9020, -3.1040, -2.3998,\n",
              "         -2.2544, -2.8141, -2.5326],\n",
              "        [-2.3084, -2.1010, -2.5853, -2.4989, -2.7828, -1.6915, -3.3167, -2.6202,\n",
              "         -2.4296, -2.4581, -2.3875],\n",
              "        [-2.8014, -1.8306, -2.4322, -2.5602, -3.0229, -2.6435, -3.0318, -2.1444,\n",
              "         -1.8024, -2.5299, -2.4758],\n",
              "        [-2.9638, -2.0006, -2.5635, -1.9397, -3.3665, -1.7114, -3.2914, -2.2215,\n",
              "         -2.4678, -2.8429, -2.4243],\n",
              "        [-2.6362, -1.8219, -2.7847, -2.5108, -2.8858, -1.7485, -2.8600, -2.7261,\n",
              "         -2.1672, -2.8525, -2.3133],\n",
              "        [-2.4522, -1.9071, -2.4150, -2.4439, -2.6279, -2.1921, -2.7902, -2.7236,\n",
              "         -2.4635, -2.5163, -2.1863],\n",
              "        [-2.8067, -1.9155, -2.6731, -2.0585, -2.5512, -2.0235, -2.8840, -2.7514,\n",
              "         -2.4969, -2.6185, -2.2030],\n",
              "        [-2.4594, -1.8404, -3.0194, -2.2359, -2.8973, -1.5699, -3.0324, -2.7711,\n",
              "         -2.4122, -2.6468, -2.7256],\n",
              "        [-2.5007, -1.8379, -2.5055, -2.0789, -3.0475, -1.9634, -2.7219, -2.7833,\n",
              "         -2.5345, -2.5534, -2.5311],\n",
              "        [-2.6024, -2.2672, -2.6098, -2.2081, -2.9148, -2.2085, -2.2641, -2.5777,\n",
              "         -2.2874, -2.7637, -2.0379],\n",
              "        [-2.5001, -1.7988, -2.5777, -2.7385, -3.0457, -1.8936, -2.9531, -2.3898,\n",
              "         -2.3109, -2.6279, -2.3177],\n",
              "        [-2.3591, -2.1938, -2.7246, -2.1014, -2.9179, -1.7795, -3.3711, -2.7953,\n",
              "         -2.3605, -2.3694, -2.3026],\n",
              "        [-2.5399, -1.4562, -3.1794, -2.0696, -3.6759, -1.6118, -3.2185, -2.9325,\n",
              "         -2.5607, -2.8947, -2.6667]], device='cuda:0',\n",
              "       grad_fn=<LogSoftmaxBackward0>)"
            ]
          },
          "metadata": {},
          "execution_count": 59
        }
      ]
    },
    {
      "cell_type": "code",
      "source": [
        "trained_alexNet , epoch_num,loss_arr= model_train(alexNet, trainX,trainY,testX,testY)"
      ],
      "metadata": {
        "id": "YFKYm1PXLMkc",
        "colab": {
          "base_uri": "https://localhost:8080/"
        },
        "outputId": "4235ae27-5a6e-49fa-f074-3392ec9b91f8"
      },
      "execution_count": 61,
      "outputs": [
        {
          "output_type": "stream",
          "name": "stderr",
          "text": [
            "100%|██████████| 19/19 [00:09<00:00,  2.05it/s]\n"
          ]
        },
        {
          "output_type": "stream",
          "name": "stdout",
          "text": [
            "Epoch: 0, Train Loss: 0.0473, Current Min Loss: inf\n",
            "\n"
          ]
        },
        {
          "output_type": "stream",
          "name": "stderr",
          "text": [
            "100%|██████████| 19/19 [00:09<00:00,  2.06it/s]\n",
            "100%|██████████| 19/19 [00:09<00:00,  2.06it/s]\n",
            "100%|██████████| 19/19 [00:09<00:00,  2.05it/s]\n",
            "100%|██████████| 19/19 [00:09<00:00,  2.03it/s]\n",
            "100%|██████████| 19/19 [00:09<00:00,  2.03it/s]\n"
          ]
        },
        {
          "output_type": "stream",
          "name": "stdout",
          "text": [
            "Epoch: 5, Train Loss: 0.0241, Current Min Loss: 0.0246\n",
            "\n"
          ]
        },
        {
          "output_type": "stream",
          "name": "stderr",
          "text": [
            "100%|██████████| 19/19 [00:09<00:00,  2.02it/s]\n",
            "100%|██████████| 19/19 [00:09<00:00,  2.01it/s]\n",
            "100%|██████████| 19/19 [00:09<00:00,  2.01it/s]\n",
            "100%|██████████| 19/19 [00:09<00:00,  2.01it/s]\n",
            "100%|██████████| 19/19 [00:09<00:00,  2.00it/s]\n"
          ]
        },
        {
          "output_type": "stream",
          "name": "stdout",
          "text": [
            "Epoch: 10, Train Loss: 0.0221, Current Min Loss: 0.0225\n",
            "\n"
          ]
        },
        {
          "output_type": "stream",
          "name": "stderr",
          "text": [
            "100%|██████████| 19/19 [00:09<00:00,  1.99it/s]\n",
            "100%|██████████| 19/19 [00:09<00:00,  1.99it/s]\n",
            "100%|██████████| 19/19 [00:09<00:00,  1.99it/s]\n",
            "100%|██████████| 19/19 [00:09<00:00,  1.98it/s]\n",
            "100%|██████████| 19/19 [00:09<00:00,  1.98it/s]\n"
          ]
        },
        {
          "output_type": "stream",
          "name": "stdout",
          "text": [
            "Epoch: 15, Train Loss: 0.0205, Current Min Loss: 0.0216\n",
            "\n"
          ]
        },
        {
          "output_type": "stream",
          "name": "stderr",
          "text": [
            "100%|██████████| 19/19 [00:09<00:00,  1.98it/s]\n",
            "100%|██████████| 19/19 [00:09<00:00,  1.98it/s]\n",
            "100%|██████████| 19/19 [00:09<00:00,  1.99it/s]\n",
            "100%|██████████| 19/19 [00:09<00:00,  1.99it/s]\n",
            "100%|██████████| 19/19 [00:09<00:00,  1.98it/s]\n"
          ]
        },
        {
          "output_type": "stream",
          "name": "stdout",
          "text": [
            "Epoch: 20, Train Loss: 0.0188, Current Min Loss: 0.0190\n",
            "\n"
          ]
        },
        {
          "output_type": "stream",
          "name": "stderr",
          "text": [
            "100%|██████████| 19/19 [00:09<00:00,  1.98it/s]\n",
            "100%|██████████| 19/19 [00:09<00:00,  1.98it/s]\n",
            "100%|██████████| 19/19 [00:09<00:00,  1.98it/s]\n",
            "100%|██████████| 19/19 [00:09<00:00,  1.98it/s]\n",
            "100%|██████████| 19/19 [00:09<00:00,  1.98it/s]\n"
          ]
        },
        {
          "output_type": "stream",
          "name": "stdout",
          "text": [
            "Epoch: 25, Train Loss: 0.0179, Current Min Loss: 0.0174\n",
            "\n"
          ]
        },
        {
          "output_type": "stream",
          "name": "stderr",
          "text": [
            "100%|██████████| 19/19 [00:09<00:00,  1.99it/s]\n",
            "100%|██████████| 19/19 [00:09<00:00,  1.98it/s]\n",
            "100%|██████████| 19/19 [00:09<00:00,  1.98it/s]\n",
            "100%|██████████| 19/19 [00:09<00:00,  1.98it/s]\n",
            "100%|██████████| 19/19 [00:09<00:00,  1.98it/s]\n"
          ]
        },
        {
          "output_type": "stream",
          "name": "stdout",
          "text": [
            "Epoch: 30, Train Loss: 0.0154, Current Min Loss: 0.0155\n",
            "\n"
          ]
        },
        {
          "output_type": "stream",
          "name": "stderr",
          "text": [
            "100%|██████████| 19/19 [00:09<00:00,  1.97it/s]\n",
            "100%|██████████| 19/19 [00:09<00:00,  1.97it/s]\n",
            "100%|██████████| 19/19 [00:09<00:00,  1.97it/s]\n",
            "100%|██████████| 19/19 [00:09<00:00,  1.97it/s]\n",
            "100%|██████████| 19/19 [00:09<00:00,  1.97it/s]\n"
          ]
        },
        {
          "output_type": "stream",
          "name": "stdout",
          "text": [
            "Epoch: 35, Train Loss: 0.0137, Current Min Loss: 0.0135\n",
            "\n"
          ]
        },
        {
          "output_type": "stream",
          "name": "stderr",
          "text": [
            "100%|██████████| 19/19 [00:09<00:00,  1.97it/s]\n",
            "100%|██████████| 19/19 [00:09<00:00,  1.97it/s]\n",
            "100%|██████████| 19/19 [00:09<00:00,  1.97it/s]\n",
            "100%|██████████| 19/19 [00:09<00:00,  1.97it/s]\n",
            "100%|██████████| 19/19 [00:09<00:00,  1.96it/s]\n"
          ]
        },
        {
          "output_type": "stream",
          "name": "stdout",
          "text": [
            "Epoch: 40, Train Loss: 0.0115, Current Min Loss: 0.0115\n",
            "\n"
          ]
        },
        {
          "output_type": "stream",
          "name": "stderr",
          "text": [
            "100%|██████████| 19/19 [00:09<00:00,  1.97it/s]\n",
            "100%|██████████| 19/19 [00:09<00:00,  1.97it/s]\n",
            "100%|██████████| 19/19 [00:09<00:00,  1.97it/s]\n",
            "100%|██████████| 19/19 [00:09<00:00,  1.96it/s]\n",
            "100%|██████████| 19/19 [00:09<00:00,  1.97it/s]\n"
          ]
        },
        {
          "output_type": "stream",
          "name": "stdout",
          "text": [
            "Epoch: 45, Train Loss: 0.0088, Current Min Loss: 0.0088\n",
            "\n"
          ]
        },
        {
          "output_type": "stream",
          "name": "stderr",
          "text": [
            "100%|██████████| 19/19 [00:09<00:00,  1.96it/s]\n",
            "100%|██████████| 19/19 [00:09<00:00,  1.96it/s]\n",
            "100%|██████████| 19/19 [00:09<00:00,  1.96it/s]\n",
            "100%|██████████| 19/19 [00:09<00:00,  1.97it/s]\n",
            "100%|██████████| 451/451 [00:01<00:00, 232.71it/s]"
          ]
        },
        {
          "output_type": "stream",
          "name": "stdout",
          "text": [
            "Accuracy:  49.002  % \n"
          ]
        },
        {
          "output_type": "stream",
          "name": "stderr",
          "text": [
            "\n"
          ]
        }
      ]
    },
    {
      "cell_type": "code",
      "source": [
        "plt.plot(epoch_num, loss_arr)\n",
        "plt.title('AlexNet - Train Loss vs Epoch number')\n",
        "plt.xlabel('Epoch number')\n",
        "plt.ylabel('Train Loss')\n",
        "plt.show()"
      ],
      "metadata": {
        "id": "3Jqqu0GTLi-a"
      },
      "execution_count": null,
      "outputs": []
    },
    {
      "cell_type": "markdown",
      "source": [
        "### Pretrained on ImageNet AlexNet"
      ],
      "metadata": {
        "id": "thJZtjhv6iTB"
      }
    },
    {
      "cell_type": "code",
      "source": [
        "pretrained_AlexNet = torch.hub.load('pytorch/vision:v0.10.0', 'alexnet', pretrained=True)"
      ],
      "metadata": {
        "id": "bLsAP1N1Lizi",
        "colab": {
          "base_uri": "https://localhost:8080/"
        },
        "outputId": "55f3d993-c78a-4348-fff5-6ff657635799"
      },
      "execution_count": 79,
      "outputs": [
        {
          "output_type": "stream",
          "name": "stderr",
          "text": [
            "Using cache found in /root/.cache/torch/hub/pytorch_vision_v0.10.0\n"
          ]
        }
      ]
    },
    {
      "cell_type": "code",
      "source": [
        "#pretrained_AlexNet"
      ],
      "metadata": {
        "id": "KrjblN7d8ejB"
      },
      "execution_count": 95,
      "outputs": []
    },
    {
      "cell_type": "code",
      "source": [
        "num_ftrs = pretrained_AlexNet.classifier[6].in_features\n",
        "num_ftrs"
      ],
      "metadata": {
        "colab": {
          "base_uri": "https://localhost:8080/"
        },
        "id": "8oqc0N6C8egD",
        "outputId": "68143cf8-8a2e-4f69-ca10-7a3e09db81c9"
      },
      "execution_count": 81,
      "outputs": [
        {
          "output_type": "execute_result",
          "data": {
            "text/plain": [
              "4096"
            ]
          },
          "metadata": {},
          "execution_count": 81
        }
      ]
    },
    {
      "cell_type": "code",
      "source": [
        "pretrained_AlexNet.classifier[6]= nn.Linear(num_ftrs, 11)\n",
        "pretrained_AlexNet"
      ],
      "metadata": {
        "colab": {
          "base_uri": "https://localhost:8080/"
        },
        "id": "d2-k6Axe8eaQ",
        "outputId": "e365ef39-d145-466f-c858-c7c902a66349"
      },
      "execution_count": 82,
      "outputs": [
        {
          "output_type": "execute_result",
          "data": {
            "text/plain": [
              "AlexNet(\n",
              "  (features): Sequential(\n",
              "    (0): Conv2d(3, 64, kernel_size=(11, 11), stride=(4, 4), padding=(2, 2))\n",
              "    (1): ReLU(inplace=True)\n",
              "    (2): MaxPool2d(kernel_size=3, stride=2, padding=0, dilation=1, ceil_mode=False)\n",
              "    (3): Conv2d(64, 192, kernel_size=(5, 5), stride=(1, 1), padding=(2, 2))\n",
              "    (4): ReLU(inplace=True)\n",
              "    (5): MaxPool2d(kernel_size=3, stride=2, padding=0, dilation=1, ceil_mode=False)\n",
              "    (6): Conv2d(192, 384, kernel_size=(3, 3), stride=(1, 1), padding=(1, 1))\n",
              "    (7): ReLU(inplace=True)\n",
              "    (8): Conv2d(384, 256, kernel_size=(3, 3), stride=(1, 1), padding=(1, 1))\n",
              "    (9): ReLU(inplace=True)\n",
              "    (10): Conv2d(256, 256, kernel_size=(3, 3), stride=(1, 1), padding=(1, 1))\n",
              "    (11): ReLU(inplace=True)\n",
              "    (12): MaxPool2d(kernel_size=3, stride=2, padding=0, dilation=1, ceil_mode=False)\n",
              "  )\n",
              "  (avgpool): AdaptiveAvgPool2d(output_size=(6, 6))\n",
              "  (classifier): Sequential(\n",
              "    (0): Dropout(p=0.5, inplace=False)\n",
              "    (1): Linear(in_features=9216, out_features=4096, bias=True)\n",
              "    (2): ReLU(inplace=True)\n",
              "    (3): Dropout(p=0.5, inplace=False)\n",
              "    (4): Linear(in_features=4096, out_features=4096, bias=True)\n",
              "    (5): ReLU(inplace=True)\n",
              "    (6): Linear(in_features=4096, out_features=11, bias=True)\n",
              "  )\n",
              ")"
            ]
          },
          "metadata": {},
          "execution_count": 82
        }
      ]
    },
    {
      "cell_type": "code",
      "source": [
        "optimizer = optim.Adam(pretrained_AlexNet.parameters(),lr=0.00001)"
      ],
      "metadata": {
        "id": "7gZ3WTfEBgw0"
      },
      "execution_count": 83,
      "outputs": []
    },
    {
      "cell_type": "code",
      "source": [
        "EPOCHS = 40\n",
        "BATCH_SIZE = 200"
      ],
      "metadata": {
        "id": "MUxg9v_18eQh"
      },
      "execution_count": 84,
      "outputs": []
    },
    {
      "cell_type": "code",
      "source": [
        "retrained_AlexNet, epoch_num,loss_arr = model_train(pretrained_AlexNet, trainX,trainY,testX,testY)"
      ],
      "metadata": {
        "colab": {
          "base_uri": "https://localhost:8080/"
        },
        "id": "Da4jtz8q_VuG",
        "outputId": "36b1bbe4-ad62-449b-b09e-8490e45f8052"
      },
      "execution_count": 85,
      "outputs": [
        {
          "output_type": "stream",
          "name": "stderr",
          "text": [
            "100%|██████████| 10/10 [00:03<00:00,  2.94it/s]\n"
          ]
        },
        {
          "output_type": "stream",
          "name": "stdout",
          "text": [
            "Epoch: 0, Train Loss: 0.1251, Current Min Loss: inf\n",
            "\n"
          ]
        },
        {
          "output_type": "stream",
          "name": "stderr",
          "text": [
            "100%|██████████| 10/10 [00:03<00:00,  3.00it/s]\n",
            "100%|██████████| 10/10 [00:03<00:00,  3.01it/s]\n",
            "100%|██████████| 10/10 [00:03<00:00,  3.00it/s]\n",
            "100%|██████████| 10/10 [00:03<00:00,  2.99it/s]\n",
            "100%|██████████| 10/10 [00:03<00:00,  2.99it/s]\n"
          ]
        },
        {
          "output_type": "stream",
          "name": "stdout",
          "text": [
            "Epoch: 5, Train Loss: 0.0273, Current Min Loss: 0.0328\n",
            "\n"
          ]
        },
        {
          "output_type": "stream",
          "name": "stderr",
          "text": [
            "100%|██████████| 10/10 [00:03<00:00,  2.98it/s]\n",
            "100%|██████████| 10/10 [00:03<00:00,  2.98it/s]\n",
            "100%|██████████| 10/10 [00:03<00:00,  2.99it/s]\n",
            "100%|██████████| 10/10 [00:03<00:00,  2.97it/s]\n",
            "100%|██████████| 10/10 [00:03<00:00,  2.96it/s]\n"
          ]
        },
        {
          "output_type": "stream",
          "name": "stdout",
          "text": [
            "Epoch: 10, Train Loss: 0.0159, Current Min Loss: 0.0176\n",
            "\n"
          ]
        },
        {
          "output_type": "stream",
          "name": "stderr",
          "text": [
            "100%|██████████| 10/10 [00:03<00:00,  2.97it/s]\n",
            "100%|██████████| 10/10 [00:03<00:00,  2.96it/s]\n",
            "100%|██████████| 10/10 [00:03<00:00,  2.96it/s]\n",
            "100%|██████████| 10/10 [00:03<00:00,  2.96it/s]\n",
            "100%|██████████| 10/10 [00:03<00:00,  2.95it/s]\n"
          ]
        },
        {
          "output_type": "stream",
          "name": "stdout",
          "text": [
            "Epoch: 15, Train Loss: 0.0114, Current Min Loss: 0.0122\n",
            "\n"
          ]
        },
        {
          "output_type": "stream",
          "name": "stderr",
          "text": [
            "100%|██████████| 10/10 [00:03<00:00,  2.94it/s]\n",
            "100%|██████████| 10/10 [00:03<00:00,  2.95it/s]\n",
            "100%|██████████| 10/10 [00:03<00:00,  2.91it/s]\n",
            "100%|██████████| 10/10 [00:03<00:00,  2.94it/s]\n",
            "100%|██████████| 10/10 [00:03<00:00,  2.94it/s]\n"
          ]
        },
        {
          "output_type": "stream",
          "name": "stdout",
          "text": [
            "Epoch: 20, Train Loss: 0.0088, Current Min Loss: 0.0097\n",
            "\n"
          ]
        },
        {
          "output_type": "stream",
          "name": "stderr",
          "text": [
            "100%|██████████| 10/10 [00:03<00:00,  2.95it/s]\n",
            "100%|██████████| 10/10 [00:03<00:00,  2.94it/s]\n",
            "100%|██████████| 10/10 [00:03<00:00,  2.93it/s]\n",
            "100%|██████████| 10/10 [00:03<00:00,  2.93it/s]\n",
            "100%|██████████| 10/10 [00:03<00:00,  2.93it/s]\n"
          ]
        },
        {
          "output_type": "stream",
          "name": "stdout",
          "text": [
            "Epoch: 25, Train Loss: 0.0077, Current Min Loss: 0.0075\n",
            "\n"
          ]
        },
        {
          "output_type": "stream",
          "name": "stderr",
          "text": [
            "100%|██████████| 10/10 [00:03<00:00,  2.91it/s]\n",
            "100%|██████████| 10/10 [00:03<00:00,  2.93it/s]\n",
            "100%|██████████| 10/10 [00:03<00:00,  2.93it/s]\n",
            "100%|██████████| 10/10 [00:03<00:00,  2.93it/s]\n",
            "100%|██████████| 10/10 [00:03<00:00,  2.93it/s]\n"
          ]
        },
        {
          "output_type": "stream",
          "name": "stdout",
          "text": [
            "Epoch: 30, Train Loss: 0.0063, Current Min Loss: 0.0064\n",
            "\n"
          ]
        },
        {
          "output_type": "stream",
          "name": "stderr",
          "text": [
            "100%|██████████| 10/10 [00:03<00:00,  2.91it/s]\n",
            "100%|██████████| 10/10 [00:03<00:00,  2.92it/s]\n",
            "100%|██████████| 10/10 [00:03<00:00,  2.91it/s]\n",
            "100%|██████████| 10/10 [00:03<00:00,  2.80it/s]\n",
            "100%|██████████| 10/10 [00:03<00:00,  2.91it/s]\n"
          ]
        },
        {
          "output_type": "stream",
          "name": "stdout",
          "text": [
            "Epoch: 35, Train Loss: 0.0055, Current Min Loss: 0.0055\n",
            "\n"
          ]
        },
        {
          "output_type": "stream",
          "name": "stderr",
          "text": [
            "100%|██████████| 10/10 [00:03<00:00,  2.92it/s]\n",
            "100%|██████████| 10/10 [00:03<00:00,  2.92it/s]\n",
            "100%|██████████| 10/10 [00:03<00:00,  2.90it/s]\n",
            "100%|██████████| 10/10 [00:03<00:00,  2.81it/s]\n",
            "100%|██████████| 451/451 [00:00<00:00, 452.07it/s]"
          ]
        },
        {
          "output_type": "stream",
          "name": "stdout",
          "text": [
            "Accuracy:  53.437  % \n"
          ]
        },
        {
          "output_type": "stream",
          "name": "stderr",
          "text": [
            "\n"
          ]
        }
      ]
    },
    {
      "cell_type": "code",
      "source": [
        "plt.plot(epoch_num, loss_arr)\n",
        "plt.title('pretrained AlexNet on ImageNet - Train Loss vs Epoch number')\n",
        "plt.xlabel('Epoch number')\n",
        "plt.ylabel('Train Loss')\n",
        "plt.show()"
      ],
      "metadata": {
        "colab": {
          "base_uri": "https://localhost:8080/",
          "height": 295
        },
        "id": "xRK31gbo_Vh4",
        "outputId": "1671f5da-99cb-4d26-bb38-8422381a117b"
      },
      "execution_count": 86,
      "outputs": [
        {
          "output_type": "display_data",
          "data": {
            "text/plain": [
              "<Figure size 432x288 with 1 Axes>"
            ],
            "image/png": "[encoded data removed]"
          },
          "metadata": {
            "needs_background": "light"
          }
        }
      ]
    },
    {
      "cell_type": "markdown",
      "source": [
        "### GoogLeNet"
      ],
      "metadata": {
        "id": "EdCQWdbXC3Ph"
      }
    },
    {
      "cell_type": "code",
      "source": [
        "googLeNet=torch.hub.load('pytorch/vision:v0.10.0', 'googlenet', pretrained=True)"
      ],
      "metadata": {
        "colab": {
          "base_uri": "https://localhost:8080/",
          "height": 85,
          "referenced_widgets": [
            "54dfd323b1de4b59ac0a4a32e3dcbbaa",
            "b87e3f192cb8437da16a51f04c6a429f",
            "29e6ab44c1a7434e945ed1f9e6f8406f",
            "1e485c0c8bb6453a8828f76f6d5fe459",
            "3ae1b49db2ac4d0d9f4cc13b65778b45",
            "2e0546ff5bc8409b80eadfb0e03bed11",
            "35758b39e99c4f6da823f6a835611ffe",
            "524674d7d38848099acbc782d4ea7d21",
            "9cc845c5880a4404987c319765d57393",
            "7f11d74f9e1641c885d76973f10071c0",
            "e18b5562a3d14571a35b4ad22d9568ab"
          ]
        },
        "id": "rwkULaRS_Veo",
        "outputId": "bc3c212e-2ee9-49be-e90e-eec340247ac1"
      },
      "execution_count": 88,
      "outputs": [
        {
          "output_type": "stream",
          "name": "stderr",
          "text": [
            "Using cache found in /root/.cache/torch/hub/pytorch_vision_v0.10.0\n",
            "Downloading: \"https://download.pytorch.org/models/googlenet-1378be20.pth\" to /root/.cache/torch/hub/checkpoints/googlenet-1378be20.pth\n"
          ]
        },
        {
          "output_type": "display_data",
          "data": {
            "text/plain": [
              "  0%|          | 0.00/49.7M [00:00<?, ?B/s]"
            ],
            "application/vnd.jupyter.widget-view+json": {
              "version_major": 2,
              "version_minor": 0,
              "model_id": "54dfd323b1de4b59ac0a4a32e3dcbbaa"
            }
          },
          "metadata": {}
        }
      ]
    },
    {
      "cell_type": "code",
      "source": [
        "#googLeNet"
      ],
      "metadata": {
        "id": "q4_YlZ7d_Vaf"
      },
      "execution_count": 94,
      "outputs": []
    },
    {
      "cell_type": "code",
      "source": [
        "num_ftrs = googLeNet.fc.in_features\n",
        "num_ftrs"
      ],
      "metadata": {
        "colab": {
          "base_uri": "https://localhost:8080/"
        },
        "id": "0Ix038r3Dxwb",
        "outputId": "1dada927-7403-4dfc-aced-5c79b92563bb"
      },
      "execution_count": 91,
      "outputs": [
        {
          "output_type": "execute_result",
          "data": {
            "text/plain": [
              "1024"
            ]
          },
          "metadata": {},
          "execution_count": 91
        }
      ]
    },
    {
      "cell_type": "code",
      "source": [
        "googLeNet.fc= nn.Linear(num_ftrs, 11)\n",
        "#googLeNet"
      ],
      "metadata": {
        "id": "YCfNCWbhDxsq"
      },
      "execution_count": 93,
      "outputs": []
    },
    {
      "cell_type": "code",
      "source": [
        "optimizer = optim.Adam(googLeNet.parameters(),lr=0.00001)"
      ],
      "metadata": {
        "id": "ihsb8j4TDxpx"
      },
      "execution_count": 96,
      "outputs": []
    },
    {
      "cell_type": "code",
      "source": [
        "trained_googLeNet, epoch_num,loss_arr = model_train(googLeNet, trainX,trainY,testX,testY)"
      ],
      "metadata": {
        "colab": {
          "base_uri": "https://localhost:8080/",
          "height": 329
        },
        "id": "DXD8KdzaDxne",
        "outputId": "7b650fda-8e0f-405d-ac3f-a5260d87659e"
      },
      "execution_count": 100,
      "outputs": [
        {
          "output_type": "error",
          "ename": "RuntimeError",
          "evalue": "ignored",
          "traceback": [
            "\u001b[0;31m---------------------------------------------------------------------------\u001b[0m",
            "\u001b[0;31mRuntimeError\u001b[0m                              Traceback (most recent call last)",
            "\u001b[0;32m<ipython-input-100-db3dc569515f>\u001b[0m in \u001b[0;36m<module>\u001b[0;34m()\u001b[0m\n\u001b[0;32m----> 1\u001b[0;31m \u001b[0mtrained_googLeNet\u001b[0m\u001b[0;34m,\u001b[0m \u001b[0mepoch_num\u001b[0m\u001b[0;34m,\u001b[0m\u001b[0mloss_arr\u001b[0m \u001b[0;34m=\u001b[0m \u001b[0mmodel_train\u001b[0m\u001b[0;34m(\u001b[0m\u001b[0mgoogLeNet\u001b[0m\u001b[0;34m,\u001b[0m \u001b[0mtrainX\u001b[0m\u001b[0;34m,\u001b[0m\u001b[0mtrainY\u001b[0m\u001b[0;34m,\u001b[0m\u001b[0mtestX\u001b[0m\u001b[0;34m,\u001b[0m\u001b[0mtestY\u001b[0m\u001b[0;34m)\u001b[0m\u001b[0;34m\u001b[0m\u001b[0;34m\u001b[0m\u001b[0m\n\u001b[0m",
            "\u001b[0;32m<ipython-input-41-9637c2190527>\u001b[0m in \u001b[0;36mmodel_train\u001b[0;34m(model, trainX, trainY, testX, testY)\u001b[0m\n\u001b[1;32m      1\u001b[0m \u001b[0;32mdef\u001b[0m \u001b[0mmodel_train\u001b[0m\u001b[0;34m(\u001b[0m\u001b[0mmodel\u001b[0m\u001b[0;34m,\u001b[0m\u001b[0mtrainX\u001b[0m\u001b[0;34m,\u001b[0m\u001b[0mtrainY\u001b[0m\u001b[0;34m,\u001b[0m\u001b[0mtestX\u001b[0m\u001b[0;34m,\u001b[0m\u001b[0mtestY\u001b[0m\u001b[0;34m)\u001b[0m\u001b[0;34m:\u001b[0m\u001b[0;34m\u001b[0m\u001b[0;34m\u001b[0m\u001b[0m\n\u001b[0;32m----> 2\u001b[0;31m     \u001b[0mtrainX\u001b[0m\u001b[0;34m.\u001b[0m\u001b[0mto\u001b[0m\u001b[0;34m(\u001b[0m\u001b[0mdev\u001b[0m\u001b[0;34m)\u001b[0m\u001b[0;34m\u001b[0m\u001b[0;34m\u001b[0m\u001b[0m\n\u001b[0m\u001b[1;32m      3\u001b[0m     \u001b[0mtestX\u001b[0m\u001b[0;34m.\u001b[0m\u001b[0mto\u001b[0m\u001b[0;34m(\u001b[0m\u001b[0mdev\u001b[0m\u001b[0;34m)\u001b[0m\u001b[0;34m\u001b[0m\u001b[0;34m\u001b[0m\u001b[0m\n\u001b[1;32m      4\u001b[0m     \u001b[0mtrainY\u001b[0m\u001b[0;34m.\u001b[0m\u001b[0mto\u001b[0m\u001b[0;34m(\u001b[0m\u001b[0mdev\u001b[0m\u001b[0;34m)\u001b[0m\u001b[0;34m\u001b[0m\u001b[0;34m\u001b[0m\u001b[0m\n\u001b[1;32m      5\u001b[0m     \u001b[0mtestY\u001b[0m\u001b[0;34m.\u001b[0m\u001b[0mto\u001b[0m\u001b[0;34m(\u001b[0m\u001b[0mdev\u001b[0m\u001b[0;34m)\u001b[0m\u001b[0;34m\u001b[0m\u001b[0;34m\u001b[0m\u001b[0m\n",
            "\u001b[0;31mRuntimeError\u001b[0m: CUDA out of memory. Tried to allocate 1.32 GiB (GPU 0; 14.76 GiB total capacity; 13.08 GiB already allocated; 13.75 MiB free; 13.49 GiB reserved in total by PyTorch) If reserved memory is >> allocated memory try setting max_split_size_mb to avoid fragmentation.  See documentation for Memory Management and PYTORCH_CUDA_ALLOC_CONF"
          ]
        }
      ]
    },
    {
      "cell_type": "code",
      "source": [
        ""
      ],
      "metadata": {
        "id": "XZ8q_O9ADxj0"
      },
      "execution_count": null,
      "outputs": []
    },
    {
      "cell_type": "code",
      "source": [
        ""
      ],
      "metadata": {
        "id": "LVyxsfeX8d9i"
      },
      "execution_count": null,
      "outputs": []
    },
    {
      "cell_type": "markdown",
      "metadata": {
        "id": "lyVOjkMfJapc"
      },
      "source": [
        "### Resources\n",
        "\n",
        "- https://competitions.codalab.org/competitions/4081#participate-get-data\n",
        "- \n",
        "\n",
        "\n",
        "- https://blog.keras.io/running-jupyter-notebooks-on-gpu-on-aws-a-starter-guide.html"
      ]
    },
    {
      "cell_type": "markdown",
      "metadata": {
        "id": "eKzG105CJapc"
      },
      "source": [
        "##### "
      ]
    }
  ],
  "metadata": {
    "kernelspec": {
      "display_name": "Python 3",
      "language": "python",
      "name": "python3"
    },
    "language_info": {
      "codemirror_mode": {
        "name": "ipython",
        "version": 3
      },
      "file_extension": ".py",
      "mimetype": "text/x-python",
      "name": "python",
      "nbconvert_exporter": "python",
      "pygments_lexer": "ipython3",
      "version": "3.8.5"
    },
    "colab": {
      "name": "Term project analysis GCP GPU .ipynb",
      "provenance": [],
      "collapsed_sections": [
        "lyVOjkMfJapc"
      ]
    },
    "accelerator": "GPU",
    "widgets": {
      "application/vnd.jupyter.widget-state+json": {
        "54dfd323b1de4b59ac0a4a32e3dcbbaa": {
          "model_module": "@jupyter-widgets/controls",
          "model_name": "HBoxModel",
          "model_module_version": "1.5.0",
          "state": {
            "_dom_classes": [],
            "_model_module": "@jupyter-widgets/controls",
            "_model_module_version": "1.5.0",
            "_model_name": "HBoxModel",
            "_view_count": null,
            "_view_module": "@jupyter-widgets/controls",
            "_view_module_version": "1.5.0",
            "_view_name": "HBoxView",
            "box_style": "",
            "children": [
              "IPY_MODEL_b87e3f192cb8437da16a51f04c6a429f",
              "IPY_MODEL_29e6ab44c1a7434e945ed1f9e6f8406f",
              "IPY_MODEL_1e485c0c8bb6453a8828f76f6d5fe459"
            ],
            "layout": "IPY_MODEL_3ae1b49db2ac4d0d9f4cc13b65778b45"
          }
        },
        "b87e3f192cb8437da16a51f04c6a429f": {
          "model_module": "@jupyter-widgets/controls",
          "model_name": "HTMLModel",
          "model_module_version": "1.5.0",
          "state": {
            "_dom_classes": [],
            "_model_module": "@jupyter-widgets/controls",
            "_model_module_version": "1.5.0",
            "_model_name": "HTMLModel",
            "_view_count": null,
            "_view_module": "@jupyter-widgets/controls",
            "_view_module_version": "1.5.0",
            "_view_name": "HTMLView",
            "description": "",
            "description_tooltip": null,
            "layout": "IPY_MODEL_2e0546ff5bc8409b80eadfb0e03bed11",
            "placeholder": "​",
            "style": "IPY_MODEL_35758b39e99c4f6da823f6a835611ffe",
            "value": "100%"
          }
        },
        "29e6ab44c1a7434e945ed1f9e6f8406f": {
          "model_module": "@jupyter-widgets/controls",
          "model_name": "FloatProgressModel",
          "model_module_version": "1.5.0",
          "state": {
            "_dom_classes": [],
            "_model_module": "@jupyter-widgets/controls",
            "_model_module_version": "1.5.0",
            "_model_name": "FloatProgressModel",
            "_view_count": null,
            "_view_module": "@jupyter-widgets/controls",
            "_view_module_version": "1.5.0",
            "_view_name": "ProgressView",
            "bar_style": "success",
            "description": "",
            "description_tooltip": null,
            "layout": "IPY_MODEL_524674d7d38848099acbc782d4ea7d21",
            "max": 52147035,
            "min": 0,
            "orientation": "horizontal",
            "style": "IPY_MODEL_9cc845c5880a4404987c319765d57393",
            "value": 52147035
          }
        },
        "1e485c0c8bb6453a8828f76f6d5fe459": {
          "model_module": "@jupyter-widgets/controls",
          "model_name": "HTMLModel",
          "model_module_version": "1.5.0",
          "state": {
            "_dom_classes": [],
            "_model_module": "@jupyter-widgets/controls",
            "_model_module_version": "1.5.0",
            "_model_name": "HTMLModel",
            "_view_count": null,
            "_view_module": "@jupyter-widgets/controls",
            "_view_module_version": "1.5.0",
            "_view_name": "HTMLView",
            "description": "",
            "description_tooltip": null,
            "layout": "IPY_MODEL_7f11d74f9e1641c885d76973f10071c0",
            "placeholder": "​",
            "style": "IPY_MODEL_e18b5562a3d14571a35b4ad22d9568ab",
            "value": " 49.7M/49.7M [00:00&lt;00:00, 61.0MB/s]"
          }
        },
        "3ae1b49db2ac4d0d9f4cc13b65778b45": {
          "model_module": "@jupyter-widgets/base",
          "model_name": "LayoutModel",
          "model_module_version": "1.2.0",
          "state": {
            "_model_module": "@jupyter-widgets/base",
            "_model_module_version": "1.2.0",
            "_model_name": "LayoutModel",
            "_view_count": null,
            "_view_module": "@jupyter-widgets/base",
            "_view_module_version": "1.2.0",
            "_view_name": "LayoutView",
            "align_content": null,
            "align_items": null,
            "align_self": null,
            "border": null,
            "bottom": null,
            "display": null,
            "flex": null,
            "flex_flow": null,
            "grid_area": null,
            "grid_auto_columns": null,
            "grid_auto_flow": null,
            "grid_auto_rows": null,
            "grid_column": null,
            "grid_gap": null,
            "grid_row": null,
            "grid_template_areas": null,
            "grid_template_columns": null,
            "grid_template_rows": null,
            "height": null,
            "justify_content": null,
            "justify_items": null,
            "left": null,
            "margin": null,
            "max_height": null,
            "max_width": null,
            "min_height": null,
            "min_width": null,
            "object_fit": null,
            "object_position": null,
            "order": null,
            "overflow": null,
            "overflow_x": null,
            "overflow_y": null,
            "padding": null,
            "right": null,
            "top": null,
            "visibility": null,
            "width": null
          }
        },
        "2e0546ff5bc8409b80eadfb0e03bed11": {
          "model_module": "@jupyter-widgets/base",
          "model_name": "LayoutModel",
          "model_module_version": "1.2.0",
          "state": {
            "_model_module": "@jupyter-widgets/base",
            "_model_module_version": "1.2.0",
            "_model_name": "LayoutModel",
            "_view_count": null,
            "_view_module": "@jupyter-widgets/base",
            "_view_module_version": "1.2.0",
            "_view_name": "LayoutView",
            "align_content": null,
            "align_items": null,
            "align_self": null,
            "border": null,
            "bottom": null,
            "display": null,
            "flex": null,
            "flex_flow": null,
            "grid_area": null,
            "grid_auto_columns": null,
            "grid_auto_flow": null,
            "grid_auto_rows": null,
            "grid_column": null,
            "grid_gap": null,
            "grid_row": null,
            "grid_template_areas": null,
            "grid_template_columns": null,
            "grid_template_rows": null,
            "height": null,
            "justify_content": null,
            "justify_items": null,
            "left": null,
            "margin": null,
            "max_height": null,
            "max_width": null,
            "min_height": null,
            "min_width": null,
            "object_fit": null,
            "object_position": null,
            "order": null,
            "overflow": null,
            "overflow_x": null,
            "overflow_y": null,
            "padding": null,
            "right": null,
            "top": null,
            "visibility": null,
            "width": null
          }
        },
        "35758b39e99c4f6da823f6a835611ffe": {
          "model_module": "@jupyter-widgets/controls",
          "model_name": "DescriptionStyleModel",
          "model_module_version": "1.5.0",
          "state": {
            "_model_module": "@jupyter-widgets/controls",
            "_model_module_version": "1.5.0",
            "_model_name": "DescriptionStyleModel",
            "_view_count": null,
            "_view_module": "@jupyter-widgets/base",
            "_view_module_version": "1.2.0",
            "_view_name": "StyleView",
            "description_width": ""
          }
        },
        "524674d7d38848099acbc782d4ea7d21": {
          "model_module": "@jupyter-widgets/base",
          "model_name": "LayoutModel",
          "model_module_version": "1.2.0",
          "state": {
            "_model_module": "@jupyter-widgets/base",
            "_model_module_version": "1.2.0",
            "_model_name": "LayoutModel",
            "_view_count": null,
            "_view_module": "@jupyter-widgets/base",
            "_view_module_version": "1.2.0",
            "_view_name": "LayoutView",
            "align_content": null,
            "align_items": null,
            "align_self": null,
            "border": null,
            "bottom": null,
            "display": null,
            "flex": null,
            "flex_flow": null,
            "grid_area": null,
            "grid_auto_columns": null,
            "grid_auto_flow": null,
            "grid_auto_rows": null,
            "grid_column": null,
            "grid_gap": null,
            "grid_row": null,
            "grid_template_areas": null,
            "grid_template_columns": null,
            "grid_template_rows": null,
            "height": null,
            "justify_content": null,
            "justify_items": null,
            "left": null,
            "margin": null,
            "max_height": null,
            "max_width": null,
            "min_height": null,
            "min_width": null,
            "object_fit": null,
            "object_position": null,
            "order": null,
            "overflow": null,
            "overflow_x": null,
            "overflow_y": null,
            "padding": null,
            "right": null,
            "top": null,
            "visibility": null,
            "width": null
          }
        },
        "9cc845c5880a4404987c319765d57393": {
          "model_module": "@jupyter-widgets/controls",
          "model_name": "ProgressStyleModel",
          "model_module_version": "1.5.0",
          "state": {
            "_model_module": "@jupyter-widgets/controls",
            "_model_module_version": "1.5.0",
            "_model_name": "ProgressStyleModel",
            "_view_count": null,
            "_view_module": "@jupyter-widgets/base",
            "_view_module_version": "1.2.0",
            "_view_name": "StyleView",
            "bar_color": null,
            "description_width": ""
          }
        },
        "7f11d74f9e1641c885d76973f10071c0": {
          "model_module": "@jupyter-widgets/base",
          "model_name": "LayoutModel",
          "model_module_version": "1.2.0",
          "state": {
            "_model_module": "@jupyter-widgets/base",
            "_model_module_version": "1.2.0",
            "_model_name": "LayoutModel",
            "_view_count": null,
            "_view_module": "@jupyter-widgets/base",
            "_view_module_version": "1.2.0",
            "_view_name": "LayoutView",
            "align_content": null,
            "align_items": null,
            "align_self": null,
            "border": null,
            "bottom": null,
            "display": null,
            "flex": null,
            "flex_flow": null,
            "grid_area": null,
            "grid_auto_columns": null,
            "grid_auto_flow": null,
            "grid_auto_rows": null,
            "grid_column": null,
            "grid_gap": null,
            "grid_row": null,
            "grid_template_areas": null,
            "grid_template_columns": null,
            "grid_template_rows": null,
            "height": null,
            "justify_content": null,
            "justify_items": null,
            "left": null,
            "margin": null,
            "max_height": null,
            "max_width": null,
            "min_height": null,
            "min_width": null,
            "object_fit": null,
            "object_position": null,
            "order": null,
            "overflow": null,
            "overflow_x": null,
            "overflow_y": null,
            "padding": null,
            "right": null,
            "top": null,
            "visibility": null,
            "width": null
          }
        },
        "e18b5562a3d14571a35b4ad22d9568ab": {
          "model_module": "@jupyter-widgets/controls",
          "model_name": "DescriptionStyleModel",
          "model_module_version": "1.5.0",
          "state": {
            "_model_module": "@jupyter-widgets/controls",
            "_model_module_version": "1.5.0",
            "_model_name": "DescriptionStyleModel",
            "_view_count": null,
            "_view_module": "@jupyter-widgets/base",
            "_view_module_version": "1.2.0",
            "_view_name": "StyleView",
            "description_width": ""
          }
        }
      }
    }
  },
  "nbformat": 4,
  "nbformat_minor": 0
}