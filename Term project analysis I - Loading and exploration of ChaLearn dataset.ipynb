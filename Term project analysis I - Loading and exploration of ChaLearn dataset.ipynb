{
 "cells": [
  {
   "cell_type": "markdown",
   "metadata": {},
   "source": [
    "### Mkhanyisi Gamedze\n",
    "#### COSI 165B Deep Learning\n",
    "#### Term Project Analysis\n",
    "#### 3 May 2022\n",
    "\n",
    "\n",
    "\n",
    "DataSet link: https://competitions.codalab.org/competitions/4081#participate-get-data or https://chalearnlap.cvc.uab.cat/dataset/17/description/"
   ]
  },
  {
   "cell_type": "code",
   "execution_count": 65,
   "metadata": {},
   "outputs": [],
   "source": [
    "import os\n",
    "import pandas as pd\n",
    "import numpy as np\n",
    "from PIL import Image\n",
    "from matplotlib import pyplot as plt\n",
    "from scipy import ndimage, misc\n",
    "import imageio\n",
    "import cv2\n",
    "\n",
    "import torch\n",
    "import torch.nn as nn\n",
    "import torch.nn.functional as F\n",
    "import torch.optim as optim\n",
    "from torch.utils.data import TensorDataset, DataLoader\n",
    "\n",
    "from tqdm import tqdm\n",
    "import time\n",
    "import json"
   ]
  },
  {
   "cell_type": "markdown",
   "metadata": {},
   "source": [
    "### Load Data\n",
    "\n",
    "Build labels Dataframe\n",
    "\n",
    "<b>Train Labels</b>"
   ]
  },
  {
   "cell_type": "code",
   "execution_count": 2,
   "metadata": {},
   "outputs": [
    {
     "name": "stdout",
     "output_type": "stream",
     "text": [
      "/Users/mkhanyisi/Desktop/Brandeis/CS /COSI 165B/Term Project\n"
     ]
    },
    {
     "data": {
      "text/plain": [
       "'/Users/mkhanyisi/Desktop/Brandeis/CS /COSI 165B/Term Project/dataset/Train_Labels'"
      ]
     },
     "execution_count": 2,
     "metadata": {},
     "output_type": "execute_result"
    }
   ],
   "source": [
    "root=os.getcwd()\n",
    "print(os.getcwd())\n",
    "path=\"./dataset/Train_Labels\"\n",
    "\n",
    "os.chdir(path)\n",
    "os.getcwd()"
   ]
  },
  {
   "cell_type": "code",
   "execution_count": 3,
   "metadata": {},
   "outputs": [
    {
     "data": {
      "text/plain": [
       "'/Users/mkhanyisi/Desktop/Brandeis/CS /COSI 165B/Term Project/dataset/Train_Labels'"
      ]
     },
     "execution_count": 3,
     "metadata": {},
     "output_type": "execute_result"
    }
   ],
   "source": [
    "os.getcwd()"
   ]
  },
  {
   "cell_type": "code",
   "execution_count": 4,
   "metadata": {},
   "outputs": [],
   "source": [
    "npath=\"../\"\n",
    "def read_text_file(file_path):\n",
    "    with open(file_path, 'r') as f:\n",
    "        return f.read()\n",
    "\n",
    "rows=[]\n",
    "    \n",
    "# iterate through all file\n",
    "for file in os.listdir():\n",
    "    #print(file)\n",
    "    # Check whether file is in text format or not\n",
    "    if file.endswith(\".txt\"):\n",
    "        file_path = os.getcwd()+\"/\"+file\n",
    "        \n",
    "        # call read text file function\n",
    "        txt=read_text_file(file_path)\n",
    "        \n",
    "        txt_rows=txt.split(\"\\n\")\n",
    "        txt_rows.remove('')\n",
    "        \n",
    "        #all_text+=str(file)+\"\\t\"+read_text_file(file_path)\n",
    "        for r in txt_rows:\n",
    "            #print(r)\n",
    "            a=r.split(\"\\t\")\n",
    "            if a[-1]==\"1\":\n",
    "                fn=file[:-4]\n",
    "                fn=fn.replace(\"_train\",\"\")\n",
    "                a.append(fn)\n",
    "                rows.append(a)"
   ]
  },
  {
   "cell_type": "code",
   "execution_count": 5,
   "metadata": {},
   "outputs": [
    {
     "data": {
      "text/plain": [
       "14332"
      ]
     },
     "execution_count": 5,
     "metadata": {},
     "output_type": "execute_result"
    }
   ],
   "source": [
    "len(rows)"
   ]
  },
  {
   "cell_type": "code",
   "execution_count": 6,
   "metadata": {},
   "outputs": [
    {
     "data": {
      "text/plain": [
       "['003925.jpg', '1', 'Dia_de_los_Muertos']"
      ]
     },
     "execution_count": 6,
     "metadata": {},
     "output_type": "execute_result"
    }
   ],
   "source": [
    "rows[4]"
   ]
  },
  {
   "cell_type": "markdown",
   "metadata": {},
   "source": [
    "<b>Validation Labels</b>"
   ]
  },
  {
   "cell_type": "code",
   "execution_count": 7,
   "metadata": {},
   "outputs": [
    {
     "name": "stdout",
     "output_type": "stream",
     "text": [
      "/Users/mkhanyisi/Desktop/Brandeis/CS /COSI 165B/Term Project/dataset/Validation_labels\n"
     ]
    }
   ],
   "source": [
    "os.chdir(root)\n",
    "val_path=\"./dataset/Validation_Labels\"\n",
    "os.chdir(val_path)\n",
    "print(os.getcwd())"
   ]
  },
  {
   "cell_type": "code",
   "execution_count": 8,
   "metadata": {},
   "outputs": [],
   "source": [
    "# iterate through all file\n",
    "for file in os.listdir():\n",
    "    #print(file)\n",
    "    # Check whether file is in text format or not\n",
    "    if file.endswith(\".txt\"):\n",
    "        file_path = os.getcwd()+\"/\"+file\n",
    "        \n",
    "        # call read text file function\n",
    "        txt=read_text_file(file_path)\n",
    "        \n",
    "        txt_rows=txt.split(\"\\n\")\n",
    "        txt_rows.remove('')\n",
    "        \n",
    "        #all_text+=str(file)+\"\\t\"+read_text_file(file_path)\n",
    "        for r in txt_rows:\n",
    "            #print(r)\n",
    "            a=r.split(\"\\t\")\n",
    "            if a[-1]==\"1\":\n",
    "                fn=file[:-4]\n",
    "                fn=fn.replace(\"_val\",\"\")\n",
    "                a.append(fn)\n",
    "                rows.append(a)"
   ]
  },
  {
   "cell_type": "code",
   "execution_count": 9,
   "metadata": {},
   "outputs": [
    {
     "name": "stdout",
     "output_type": "stream",
     "text": [
      "Test and Validation size:  20036\n"
     ]
    }
   ],
   "source": [
    "print(\"Test and Validation size: \",len(rows))"
   ]
  },
  {
   "cell_type": "code",
   "execution_count": 10,
   "metadata": {},
   "outputs": [
    {
     "data": {
      "text/plain": [
       "['007508.jpg', '1', 'Up_Helly_Aa']"
      ]
     },
     "execution_count": 10,
     "metadata": {},
     "output_type": "execute_result"
    }
   ],
   "source": [
    "rows[-1]"
   ]
  },
  {
   "cell_type": "markdown",
   "metadata": {},
   "source": [
    "<b> Concatenate images and labels</b>"
   ]
  },
  {
   "cell_type": "code",
   "execution_count": 71,
   "metadata": {},
   "outputs": [
    {
     "name": "stdout",
     "output_type": "stream",
     "text": [
      "(20036, 3)\n"
     ]
    },
    {
     "data": {
      "text/html": [
       "<div>\n",
       "<style scoped>\n",
       "    .dataframe tbody tr th:only-of-type {\n",
       "        vertical-align: middle;\n",
       "    }\n",
       "\n",
       "    .dataframe tbody tr th {\n",
       "        vertical-align: top;\n",
       "    }\n",
       "\n",
       "    .dataframe thead th {\n",
       "        text-align: right;\n",
       "    }\n",
       "</style>\n",
       "<table border=\"1\" class=\"dataframe\">\n",
       "  <thead>\n",
       "    <tr style=\"text-align: right;\">\n",
       "      <th></th>\n",
       "      <th>Image Name</th>\n",
       "      <th>Label</th>\n",
       "      <th>Category</th>\n",
       "    </tr>\n",
       "  </thead>\n",
       "  <tbody>\n",
       "    <tr>\n",
       "      <th>0</th>\n",
       "      <td>027595.jpg</td>\n",
       "      <td>1</td>\n",
       "      <td>Dia_de_los_Muertos</td>\n",
       "    </tr>\n",
       "    <tr>\n",
       "      <th>1</th>\n",
       "      <td>013963.jpg</td>\n",
       "      <td>1</td>\n",
       "      <td>Dia_de_los_Muertos</td>\n",
       "    </tr>\n",
       "    <tr>\n",
       "      <th>2</th>\n",
       "      <td>013684.jpg</td>\n",
       "      <td>1</td>\n",
       "      <td>Dia_de_los_Muertos</td>\n",
       "    </tr>\n",
       "    <tr>\n",
       "      <th>3</th>\n",
       "      <td>023273.jpg</td>\n",
       "      <td>1</td>\n",
       "      <td>Dia_de_los_Muertos</td>\n",
       "    </tr>\n",
       "    <tr>\n",
       "      <th>4</th>\n",
       "      <td>003925.jpg</td>\n",
       "      <td>1</td>\n",
       "      <td>Dia_de_los_Muertos</td>\n",
       "    </tr>\n",
       "    <tr>\n",
       "      <th>...</th>\n",
       "      <td>...</td>\n",
       "      <td>...</td>\n",
       "      <td>...</td>\n",
       "    </tr>\n",
       "    <tr>\n",
       "      <th>20026</th>\n",
       "      <td>020649.jpg</td>\n",
       "      <td>1</td>\n",
       "      <td>Up_Helly_Aa</td>\n",
       "    </tr>\n",
       "    <tr>\n",
       "      <th>20027</th>\n",
       "      <td>010665.jpg</td>\n",
       "      <td>1</td>\n",
       "      <td>Up_Helly_Aa</td>\n",
       "    </tr>\n",
       "    <tr>\n",
       "      <th>20028</th>\n",
       "      <td>025471.jpg</td>\n",
       "      <td>1</td>\n",
       "      <td>Up_Helly_Aa</td>\n",
       "    </tr>\n",
       "    <tr>\n",
       "      <th>20029</th>\n",
       "      <td>004733.jpg</td>\n",
       "      <td>1</td>\n",
       "      <td>Up_Helly_Aa</td>\n",
       "    </tr>\n",
       "    <tr>\n",
       "      <th>20030</th>\n",
       "      <td>005950.jpg</td>\n",
       "      <td>1</td>\n",
       "      <td>Up_Helly_Aa</td>\n",
       "    </tr>\n",
       "  </tbody>\n",
       "</table>\n",
       "<p>20031 rows × 3 columns</p>\n",
       "</div>"
      ],
      "text/plain": [
       "       Image Name Label            Category\n",
       "0      027595.jpg     1  Dia_de_los_Muertos\n",
       "1      013963.jpg     1  Dia_de_los_Muertos\n",
       "2      013684.jpg     1  Dia_de_los_Muertos\n",
       "3      023273.jpg     1  Dia_de_los_Muertos\n",
       "4      003925.jpg     1  Dia_de_los_Muertos\n",
       "...           ...   ...                 ...\n",
       "20026  020649.jpg     1         Up_Helly_Aa\n",
       "20027  010665.jpg     1         Up_Helly_Aa\n",
       "20028  025471.jpg     1         Up_Helly_Aa\n",
       "20029  004733.jpg     1         Up_Helly_Aa\n",
       "20030  005950.jpg     1         Up_Helly_Aa\n",
       "\n",
       "[20031 rows x 3 columns]"
      ]
     },
     "execution_count": 71,
     "metadata": {},
     "output_type": "execute_result"
    }
   ],
   "source": [
    "labelsDF=pd.DataFrame(rows,columns=[\"Image Name\",\"Label\",\"Category\"])\n",
    "print(labelsDF.shape)\n",
    "labelsDF.head(-5)"
   ]
  },
  {
   "cell_type": "code",
   "execution_count": 12,
   "metadata": {},
   "outputs": [
    {
     "data": {
      "text/plain": [
       "Image Name    object\n",
       "Label          int64\n",
       "Category      object\n",
       "dtype: object"
      ]
     },
     "execution_count": 12,
     "metadata": {},
     "output_type": "execute_result"
    }
   ],
   "source": [
    "labelsDF[\"Label\"] = labelsDF[\"Label\"].astype(str).astype(int)\n",
    "\n",
    "labelsDF.dtypes"
   ]
  },
  {
   "cell_type": "markdown",
   "metadata": {},
   "source": [
    "<b> Encode categories</b>"
   ]
  },
  {
   "cell_type": "code",
   "execution_count": 13,
   "metadata": {},
   "outputs": [],
   "source": [
    "categories=labelsDF[\"Category\"].unique().tolist()\n",
    "#categories"
   ]
  },
  {
   "cell_type": "code",
   "execution_count": 14,
   "metadata": {},
   "outputs": [
    {
     "data": {
      "text/plain": [
       "100"
      ]
     },
     "execution_count": 14,
     "metadata": {},
     "output_type": "execute_result"
    }
   ],
   "source": [
    "encode_vals=[]\n",
    "for i in range(len(categories)):\n",
    "    encode_vals.append(i)\n",
    "\n",
    "len(categories)"
   ]
  },
  {
   "cell_type": "code",
   "execution_count": 15,
   "metadata": {},
   "outputs": [
    {
     "data": {
      "text/plain": [
       "{'Dia_de_los_Muertos': 0,\n",
       " 'Ballon_Fiesta': 1,\n",
       " 'Passover': 2,\n",
       " 'Notting_hill_carnival': 3,\n",
       " 'Non-Class': 4,\n",
       " '4_de_Julio': 5,\n",
       " 'Gion_matsuri': 6,\n",
       " 'Cascamorras': 7,\n",
       " 'Spice_Mas_Carnival': 8,\n",
       " 'Keene_Pumpkin': 9,\n",
       " 'Obon': 10,\n",
       " 'Diwali_Festival_of_Lights': 11,\n",
       " 'Holi_Festival': 12,\n",
       " 'Pingxi_Lantern_Festival': 13,\n",
       " 'Festival_de_la_Marinera': 14,\n",
       " 'Sapporo_Snow_Festival': 15,\n",
       " 'Beltane_Fire': 16,\n",
       " 'Bud_Billiken': 17,\n",
       " 'Asakusa_Samba_Carnival': 18,\n",
       " 'Macys_Thanksgiving': 19,\n",
       " 'Frozen_Dead_Guy_Days': 20,\n",
       " 'La_Tomatina': 21,\n",
       " 'Sandfest': 22,\n",
       " 'Heiva': 23,\n",
       " 'Annual_Buffalo_Roundup': 24,\n",
       " 'Junkanoo': 25,\n",
       " 'Waysak_day': 26,\n",
       " 'Castellers': 27,\n",
       " 'Battle_of_the_Oranges': 28,\n",
       " 'Mardi_Gras': 29,\n",
       " 'Ati-atihan': 30,\n",
       " 'Pushkar_Camel': 31,\n",
       " 'Galungan': 32,\n",
       " 'Renaixement_Tortosa': 33,\n",
       " 'Crop_over': 34,\n",
       " 'Thaipusam': 35,\n",
       " 'Carnaval_de_Oruro': 36,\n",
       " 'Pflasterspektakel': 37,\n",
       " 'Los_Diablos_danzantes': 38,\n",
       " 'Thrissur_Pooram': 39,\n",
       " 'Cheongdo_Bullfighting_Festival': 40,\n",
       " 'Tour_de_France': 41,\n",
       " 'Oktoberfest': 42,\n",
       " 'Epiphany_greece': 43,\n",
       " 'Viking_Festival': 44,\n",
       " 'Tokushima_Awa_Odori_Festival': 45,\n",
       " 'Eid_al-Adha': 46,\n",
       " 'Desfile_de_Silleteros': 47,\n",
       " 'Queens_Day': 48,\n",
       " 'Basel_Fasnacht': 49,\n",
       " 'Carnevale_Di_Viareggio': 50,\n",
       " 'Falles': 51,\n",
       " 'Kaapse_Klopse': 52,\n",
       " 'Buenos_Aires_Tango_Festival': 53,\n",
       " 'Boryeong_Mud': 54,\n",
       " 'Correfocs': 55,\n",
       " 'Krampusnacht': 56,\n",
       " 'Sahara_Festival': 57,\n",
       " 'Aomori_Nebuta': 58,\n",
       " 'Sweden_Medieval_Week': 59,\n",
       " 'Bastille_day': 60,\n",
       " 'Naadam_Festival': 61,\n",
       " 'Eid_al-Fitr_Iraq': 62,\n",
       " 'Diada_de_Sant_Jordi': 63,\n",
       " 'Songkran_Water': 64,\n",
       " 'Tamborrada': 65,\n",
       " 'Tapati_rapa_Nui': 66,\n",
       " 'Maslenitsa': 67,\n",
       " 'Vancouver_Symphony_of_Fire': 68,\n",
       " 'Fiesta_de_la_Candelaria': 69,\n",
       " 'Helsinki_Samba_Carnaval': 70,\n",
       " 'Hajj': 71,\n",
       " 'Highland_Games': 72,\n",
       " 'Chinese_New_Year': 73,\n",
       " 'Carnaval_Dunkerque': 74,\n",
       " 'Carnival_of_Venice': 75,\n",
       " 'Lewes_Bonfire': 76,\n",
       " 'San_Fermin': 77,\n",
       " 'Phi_Ta_Khon': 78,\n",
       " 'Grindelwald_Snow_Festival': 79,\n",
       " 'Onbashira': 80,\n",
       " 'Halloween_Festival_of_the_Dead': 81,\n",
       " 'Quebec_Winter_Carnival': 82,\n",
       " 'Up_Helly_Aa': 83,\n",
       " 'Monkey_Buffet_Festival': 84,\n",
       " 'AfrikaBurn': 85,\n",
       " 'St_Patrick_Day': 86,\n",
       " 'Timkat': 87,\n",
       " 'Midsommar': 88,\n",
       " 'Australia_day': 89,\n",
       " 'Festival_of_the_Sun': 90,\n",
       " 'Desert_Festival_of_Jaisalmer': 91,\n",
       " 'Festa_Della_Sensa': 92,\n",
       " 'Boston_Marathon': 93,\n",
       " 'Carnival_Rio': 94,\n",
       " 'Harbin_Ice_and_Snow_Festival': 95,\n",
       " 'Apokries': 96,\n",
       " 'Rath_Yatra': 97,\n",
       " 'Infiorata_di_Genzano': 98,\n",
       " 'Magh_Mela': 99}"
      ]
     },
     "execution_count": 15,
     "metadata": {},
     "output_type": "execute_result"
    }
   ],
   "source": [
    "encode_map = dict(zip(categories, encode_vals))\n",
    "encode_map"
   ]
  },
  {
   "cell_type": "code",
   "execution_count": 67,
   "metadata": {},
   "outputs": [],
   "source": [
    "with open('event_encoding_map.json', 'w') as fp:\n",
    "    json.dump(encode_map, fp,  indent=4)"
   ]
  },
  {
   "cell_type": "code",
   "execution_count": 73,
   "metadata": {},
   "outputs": [
    {
     "data": {
      "text/html": [
       "<div>\n",
       "<style scoped>\n",
       "    .dataframe tbody tr th:only-of-type {\n",
       "        vertical-align: middle;\n",
       "    }\n",
       "\n",
       "    .dataframe tbody tr th {\n",
       "        vertical-align: top;\n",
       "    }\n",
       "\n",
       "    .dataframe thead th {\n",
       "        text-align: right;\n",
       "    }\n",
       "</style>\n",
       "<table border=\"1\" class=\"dataframe\">\n",
       "  <thead>\n",
       "    <tr style=\"text-align: right;\">\n",
       "      <th></th>\n",
       "      <th>Image Name</th>\n",
       "      <th>Label</th>\n",
       "      <th>Category</th>\n",
       "      <th>Encoding</th>\n",
       "    </tr>\n",
       "  </thead>\n",
       "  <tbody>\n",
       "    <tr>\n",
       "      <th>0</th>\n",
       "      <td>027595.jpg</td>\n",
       "      <td>1</td>\n",
       "      <td>Dia_de_los_Muertos</td>\n",
       "      <td>0</td>\n",
       "    </tr>\n",
       "    <tr>\n",
       "      <th>1</th>\n",
       "      <td>013963.jpg</td>\n",
       "      <td>1</td>\n",
       "      <td>Dia_de_los_Muertos</td>\n",
       "      <td>0</td>\n",
       "    </tr>\n",
       "    <tr>\n",
       "      <th>2</th>\n",
       "      <td>013684.jpg</td>\n",
       "      <td>1</td>\n",
       "      <td>Dia_de_los_Muertos</td>\n",
       "      <td>0</td>\n",
       "    </tr>\n",
       "    <tr>\n",
       "      <th>3</th>\n",
       "      <td>023273.jpg</td>\n",
       "      <td>1</td>\n",
       "      <td>Dia_de_los_Muertos</td>\n",
       "      <td>0</td>\n",
       "    </tr>\n",
       "    <tr>\n",
       "      <th>4</th>\n",
       "      <td>003925.jpg</td>\n",
       "      <td>1</td>\n",
       "      <td>Dia_de_los_Muertos</td>\n",
       "      <td>0</td>\n",
       "    </tr>\n",
       "    <tr>\n",
       "      <th>...</th>\n",
       "      <td>...</td>\n",
       "      <td>...</td>\n",
       "      <td>...</td>\n",
       "      <td>...</td>\n",
       "    </tr>\n",
       "    <tr>\n",
       "      <th>20026</th>\n",
       "      <td>020649.jpg</td>\n",
       "      <td>1</td>\n",
       "      <td>Up_Helly_Aa</td>\n",
       "      <td>83</td>\n",
       "    </tr>\n",
       "    <tr>\n",
       "      <th>20027</th>\n",
       "      <td>010665.jpg</td>\n",
       "      <td>1</td>\n",
       "      <td>Up_Helly_Aa</td>\n",
       "      <td>83</td>\n",
       "    </tr>\n",
       "    <tr>\n",
       "      <th>20028</th>\n",
       "      <td>025471.jpg</td>\n",
       "      <td>1</td>\n",
       "      <td>Up_Helly_Aa</td>\n",
       "      <td>83</td>\n",
       "    </tr>\n",
       "    <tr>\n",
       "      <th>20029</th>\n",
       "      <td>004733.jpg</td>\n",
       "      <td>1</td>\n",
       "      <td>Up_Helly_Aa</td>\n",
       "      <td>83</td>\n",
       "    </tr>\n",
       "    <tr>\n",
       "      <th>20030</th>\n",
       "      <td>005950.jpg</td>\n",
       "      <td>1</td>\n",
       "      <td>Up_Helly_Aa</td>\n",
       "      <td>83</td>\n",
       "    </tr>\n",
       "  </tbody>\n",
       "</table>\n",
       "<p>20031 rows × 4 columns</p>\n",
       "</div>"
      ],
      "text/plain": [
       "       Image Name Label            Category  Encoding\n",
       "0      027595.jpg     1  Dia_de_los_Muertos         0\n",
       "1      013963.jpg     1  Dia_de_los_Muertos         0\n",
       "2      013684.jpg     1  Dia_de_los_Muertos         0\n",
       "3      023273.jpg     1  Dia_de_los_Muertos         0\n",
       "4      003925.jpg     1  Dia_de_los_Muertos         0\n",
       "...           ...   ...                 ...       ...\n",
       "20026  020649.jpg     1         Up_Helly_Aa        83\n",
       "20027  010665.jpg     1         Up_Helly_Aa        83\n",
       "20028  025471.jpg     1         Up_Helly_Aa        83\n",
       "20029  004733.jpg     1         Up_Helly_Aa        83\n",
       "20030  005950.jpg     1         Up_Helly_Aa        83\n",
       "\n",
       "[20031 rows x 4 columns]"
      ]
     },
     "execution_count": 73,
     "metadata": {},
     "output_type": "execute_result"
    }
   ],
   "source": [
    "labelsDF[\"Encoding\"]= labelsDF.apply(lambda row: encode_map[row[\"Category\"]], axis=1)\n",
    "labelsDF.head(-5)"
   ]
  },
  {
   "cell_type": "code",
   "execution_count": 74,
   "metadata": {},
   "outputs": [],
   "source": [
    "labelsDF.to_excel(\"imageLabelEncodings.xlsx\")  "
   ]
  },
  {
   "cell_type": "markdown",
   "metadata": {},
   "source": [
    "<b>Dict map of image and category</b>"
   ]
  },
  {
   "cell_type": "code",
   "execution_count": 16,
   "metadata": {},
   "outputs": [],
   "source": [
    "images_map={}\n",
    "\n",
    "for r in rows:\n",
    "    images_map.update({r[0]:{\"label\":r[-1]}})\n",
    "    #print(r)\n",
    "#print(images_map)"
   ]
  },
  {
   "cell_type": "markdown",
   "metadata": {},
   "source": [
    "<b>Load and resize images</b>"
   ]
  },
  {
   "cell_type": "code",
   "execution_count": 17,
   "metadata": {},
   "outputs": [
    {
     "data": {
      "text/plain": [
       "'/Users/mkhanyisi/Desktop/Brandeis/CS /COSI 165B/Term Project/dataset/TRAIN'"
      ]
     },
     "execution_count": 17,
     "metadata": {},
     "output_type": "execute_result"
    }
   ],
   "source": [
    "os.chdir(root)\n",
    "train_images_path=\"./dataset/TRAIN\"\n",
    "os.chdir(train_images_path)\n",
    "os.getcwd()"
   ]
  },
  {
   "cell_type": "code",
   "execution_count": 18,
   "metadata": {},
   "outputs": [],
   "source": [
    "standardsize = (256,256)\n",
    "images_arr=[]\n",
    "filenames=[]"
   ]
  },
  {
   "cell_type": "code",
   "execution_count": 19,
   "metadata": {},
   "outputs": [],
   "source": [
    "# iterate through all file\n",
    "for file in os.listdir():\n",
    "    #print(file)\n",
    "    # Check whether file is in text format or not\n",
    "    if file.endswith(\".jpg\"):\n",
    "        #im = Image.open(os.getcwd()+\"/\"+file)\n",
    "        #im=im.resize(standardsize )\n",
    "        im = cv2.imread(os.getcwd()+\"/\"+file)\n",
    "        im = cv2.resize(im, dsize=(256,256))\n",
    "        \n",
    "        \n",
    "        I = np.array(im)\n",
    "        #print(I.shape)\n",
    "        try:\n",
    "            I=np.reshape(I,(256,256,3))\n",
    "            filenames.append(file)\n",
    "            images_arr.append(I)\n",
    "            \n",
    "            if file in images_map.keys():\n",
    "                #print(images_map[file])\n",
    "                images_map[file].update({\"image\":I})\n",
    "            else:\n",
    "                print(file,\" not in map\")\n",
    "        except:\n",
    "            print(file)\n",
    "            print(\"image size: \",im.size)\n",
    "            print(\"image array shape: \",I.shape)\n",
    "            plt.imshow(im)\n",
    "            plt.show()"
   ]
  },
  {
   "cell_type": "code",
   "execution_count": 20,
   "metadata": {},
   "outputs": [
    {
     "data": {
      "text/plain": [
       "'/Users/mkhanyisi/Desktop/Brandeis/CS /COSI 165B/Term Project/dataset/VAL'"
      ]
     },
     "execution_count": 20,
     "metadata": {},
     "output_type": "execute_result"
    }
   ],
   "source": [
    "os.chdir(root)\n",
    "train_images_path=\"./dataset/VAL\"\n",
    "os.chdir(train_images_path)\n",
    "os.getcwd()"
   ]
  },
  {
   "cell_type": "code",
   "execution_count": 21,
   "metadata": {},
   "outputs": [],
   "source": [
    "# iterate through all file\n",
    "for file in os.listdir():\n",
    "    #print(file)\n",
    "    # Check whether file is in text format or not\n",
    "    if file.endswith(\".jpg\"):\n",
    "        #im = Image.open(os.getcwd()+\"/\"+file)\n",
    "        #im=im.resize(standardsize )\n",
    "        im = cv2.imread(os.getcwd()+\"/\"+file)\n",
    "        im = cv2.resize(im, dsize=(256,256))\n",
    "        \n",
    "        \n",
    "        I = np.array(im)\n",
    "        #print(I.shape)\n",
    "        try:\n",
    "            I=np.reshape(I,(256,256,3))\n",
    "            filenames.append(file)\n",
    "            images_arr.append(I)\n",
    "            \n",
    "            if file in images_map.keys():\n",
    "                #print(images_map[file])\n",
    "                images_map[file].update({\"image\":I})\n",
    "            else:\n",
    "                print(file,\" not in map\")\n",
    "        except:\n",
    "            print(file)\n",
    "            print(\"image size: \",im.size)\n",
    "            print(\"image array shape: \",I.shape)\n",
    "            plt.imshow(im)\n",
    "            plt.show()\n",
    "        "
   ]
  },
  {
   "cell_type": "code",
   "execution_count": 22,
   "metadata": {},
   "outputs": [
    {
     "name": "stdout",
     "output_type": "stream",
     "text": [
      "(20036, 256, 256, 3)\n"
     ]
    }
   ],
   "source": [
    "all_images=np.array(images_arr)\n",
    "print(all_images.shape)"
   ]
  },
  {
   "cell_type": "code",
   "execution_count": 23,
   "metadata": {},
   "outputs": [
    {
     "data": {
      "text/plain": [
       "20036"
      ]
     },
     "execution_count": 23,
     "metadata": {},
     "output_type": "execute_result"
    }
   ],
   "source": [
    "len(images_map)"
   ]
  },
  {
   "cell_type": "code",
   "execution_count": 24,
   "metadata": {},
   "outputs": [
    {
     "name": "stdout",
     "output_type": "stream",
     "text": [
      "(2, 2)\n",
      "(2, 2, 3)\n"
     ]
    }
   ],
   "source": [
    "img = np.array([[1, 2], [3, 4]])\n",
    "print(img.shape)\n",
    "stacked_img = np.stack((img,)*3, axis=-1)\n",
    "print(stacked_img.shape)"
   ]
  },
  {
   "cell_type": "code",
   "execution_count": 25,
   "metadata": {},
   "outputs": [
    {
     "data": {
      "text/plain": [
       "20036"
      ]
     },
     "execution_count": 25,
     "metadata": {},
     "output_type": "execute_result"
    }
   ],
   "source": [
    "len(filenames)"
   ]
  },
  {
   "cell_type": "markdown",
   "metadata": {},
   "source": [
    "#### Build Numpy array with categories\n",
    "\n",
    "Encode categories"
   ]
  },
  {
   "cell_type": "code",
   "execution_count": 26,
   "metadata": {},
   "outputs": [],
   "source": [
    "# full dataset\n",
    "dataX=[]\n",
    "dataY=[]\n",
    "\n",
    "for k in images_map.keys():\n",
    "    dataX.append(images_map[k][\"image\"])\n",
    "    dataY.append([encode_map[images_map[k][\"label\"]]]) # encode category value to dataset\n",
    "    "
   ]
  },
  {
   "cell_type": "code",
   "execution_count": 27,
   "metadata": {},
   "outputs": [
    {
     "name": "stdout",
     "output_type": "stream",
     "text": [
      "(20036, 256, 256, 3)\n"
     ]
    }
   ],
   "source": [
    "fulldataX=np.array(dataX)\n",
    "print(fulldataX.shape)"
   ]
  },
  {
   "cell_type": "code",
   "execution_count": 28,
   "metadata": {},
   "outputs": [
    {
     "name": "stdout",
     "output_type": "stream",
     "text": [
      "[ 0  0  0 ... 83 83 83]\n"
     ]
    }
   ],
   "source": [
    "fulldataY=np.array(dataY)\n",
    "fulldataY=fulldataY.T\n",
    "print(fulldataY[0])"
   ]
  },
  {
   "cell_type": "markdown",
   "metadata": {},
   "source": [
    "<b>Test Transform</b>"
   ]
  },
  {
   "cell_type": "code",
   "execution_count": 75,
   "metadata": {},
   "outputs": [
    {
     "name": "stdout",
     "output_type": "stream",
     "text": [
      "(20036, 256, 256, 3)\n",
      "(256, 256, 3)\n"
     ]
    },
    {
     "data": {
      "image/png": "[encoded data removed]",
      "text/plain": [
       "<Figure size 432x288 with 1 Axes>"
      ]
     },
     "metadata": {
      "needs_background": "light"
     },
     "output_type": "display_data"
    }
   ],
   "source": [
    "print(fulldataX.shape)\n",
    "print(fulldataX[1].shape)\n",
    "plt.imshow(fulldataX[1])\n",
    "\n",
    "plt.show()"
   ]
  },
  {
   "cell_type": "code",
   "execution_count": 30,
   "metadata": {},
   "outputs": [
    {
     "data": {
      "text/plain": [
       "(1, 20036)"
      ]
     },
     "execution_count": 30,
     "metadata": {},
     "output_type": "execute_result"
    }
   ],
   "source": [
    "fulldataY.shape"
   ]
  },
  {
   "cell_type": "markdown",
   "metadata": {},
   "source": [
    "### Save full data to numpy array"
   ]
  },
  {
   "cell_type": "code",
   "execution_count": 53,
   "metadata": {},
   "outputs": [
    {
     "name": "stdout",
     "output_type": "stream",
     "text": [
      "/Users/mkhanyisi/Desktop/Brandeis/CS /COSI 165B/Term Project\n",
      "/Users/mkhanyisi/Desktop/Brandeis/CS /COSI 165B/Term Project/dataset/VAL\n"
     ]
    },
    {
     "data": {
      "text/plain": [
       "'/Users/mkhanyisi/Desktop/Brandeis/CS /COSI 165B/Term Project'"
      ]
     },
     "execution_count": 53,
     "metadata": {},
     "output_type": "execute_result"
    }
   ],
   "source": [
    "print(root)\n",
    "print(os.getcwd())\n",
    "path=\"./dataset/Train_Labels\"\n",
    "\n",
    "os.chdir(root)\n",
    "os.getcwd()"
   ]
  },
  {
   "cell_type": "code",
   "execution_count": 54,
   "metadata": {},
   "outputs": [],
   "source": [
    "np.save('fulldataX.npy', fulldataX)"
   ]
  },
  {
   "cell_type": "code",
   "execution_count": 56,
   "metadata": {},
   "outputs": [
    {
     "data": {
      "text/plain": [
       "(20036, 256, 256, 3)"
      ]
     },
     "execution_count": 56,
     "metadata": {},
     "output_type": "execute_result"
    }
   ],
   "source": [
    "savedDataX=np.load('fulldataX.npy')\n",
    "savedDataX.shape"
   ]
  },
  {
   "cell_type": "code",
   "execution_count": 57,
   "metadata": {},
   "outputs": [],
   "source": [
    "np.save('fulldataY.npy', fulldataY)"
   ]
  },
  {
   "cell_type": "code",
   "execution_count": 62,
   "metadata": {},
   "outputs": [
    {
     "data": {
      "text/plain": [
       "(1, 20036)"
      ]
     },
     "execution_count": 62,
     "metadata": {},
     "output_type": "execute_result"
    }
   ],
   "source": [
    "savedDataY=np.load('fulldataY.npy')\n",
    "savedDataY.shape"
   ]
  },
  {
   "cell_type": "code",
   "execution_count": null,
   "metadata": {},
   "outputs": [],
   "source": []
  },
  {
   "cell_type": "markdown",
   "metadata": {},
   "source": [
    "#### To Tensor"
   ]
  },
  {
   "cell_type": "code",
   "execution_count": 63,
   "metadata": {},
   "outputs": [
    {
     "data": {
      "text/plain": [
       "(torch.Size([20036, 256, 256, 3]), torch.Size([20036, 1]))"
      ]
     },
     "execution_count": 63,
     "metadata": {},
     "output_type": "execute_result"
    }
   ],
   "source": [
    "tensordataX = torch.FloatTensor(fulldataX)\n",
    "\n",
    "tensordataY = torch.FloatTensor(fulldataY.astype(int).T)\n",
    "\n",
    "\n",
    "tensordataX.shape, tensordataY.shape"
   ]
  },
  {
   "cell_type": "markdown",
   "metadata": {},
   "source": [
    "<b>Permute Images so input channel is color for convolution</b>"
   ]
  },
  {
   "cell_type": "code",
   "execution_count": null,
   "metadata": {},
   "outputs": [],
   "source": []
  },
  {
   "cell_type": "code",
   "execution_count": 32,
   "metadata": {},
   "outputs": [
    {
     "data": {
      "text/plain": [
       "torch.Size([20036, 3, 256, 256])"
      ]
     },
     "execution_count": 32,
     "metadata": {},
     "output_type": "execute_result"
    }
   ],
   "source": [
    "tensordataX=tensordataX.permute(0,3,1,2)\n",
    "tensordataX.shape"
   ]
  },
  {
   "cell_type": "markdown",
   "metadata": {},
   "source": [
    "### Train-Test split (80 : 20)"
   ]
  },
  {
   "cell_type": "code",
   "execution_count": 33,
   "metadata": {},
   "outputs": [
    {
     "data": {
      "text/plain": [
       "(torch.Size([16028, 3, 256, 256]),\n",
       " torch.Size([16028, 1]),\n",
       " torch.Size([4008, 3, 256, 256]),\n",
       " torch.Size([4008, 1]))"
      ]
     },
     "execution_count": 33,
     "metadata": {},
     "output_type": "execute_result"
    }
   ],
   "source": [
    "p=int(0.8*(tensordataX.shape[0]))\n",
    "\n",
    "trainX=tensordataX[:p]\n",
    "testX=tensordataX[p:]\n",
    "trainY=tensordataY[:p]\n",
    "testY=tensordataY[p:]\n",
    "\n",
    "trainX.shape, trainY.shape, testX.shape, testY.shape"
   ]
  },
  {
   "cell_type": "markdown",
   "metadata": {},
   "source": [
    "### Vanilla CNN model"
   ]
  },
  {
   "cell_type": "code",
   "execution_count": 34,
   "metadata": {},
   "outputs": [],
   "source": [
    "# CNN model\n",
    "class Net(nn.Module):\n",
    "\n",
    "    def __init__(self):\n",
    "        super().__init__()\n",
    "        \n",
    "        # define convolution layers\n",
    "        \"\"\"\n",
    "        self.conv1 = nn.Conv2d(3, 96, kernel_size=(7,7), stride=2)\n",
    "        self.conv2 = nn.Conv2d(96, 512, kernel_size=(3,3), stride=1)\n",
    "        \"\"\"\n",
    "        self.conv1 = nn.Conv2d(3, 6, kernel_size=(5,5), stride=1)\n",
    "        self.conv2 = nn.Conv2d(6, 12, kernel_size=(5,5), stride=1)\n",
    "        \n",
    "        # figure out output conv flat length\n",
    "        x = torch.randn(1,3,256,256)\n",
    "        self._to_linear = None\n",
    "        self.convs(x)\n",
    "        \n",
    "        # fully connected layers\n",
    "        self.fc1 = nn.Linear(self._to_linear, 600)\n",
    "        self.fc2 = nn.Linear(600,256)\n",
    "        self.fc3 = nn.Linear(256, 100)\n",
    "        self.softmax = nn.Softmax(dim=1)\n",
    "\n",
    "        \n",
    "    def convs(self, x):\n",
    "        # max pooling over 2x2 both Conv layers\n",
    "        x=self.conv1(x)\n",
    "        x=F.relu(x)\n",
    "        x =F.max_pool2d(x, (2, 2))\n",
    "        \n",
    "        x = F.max_pool2d(F.relu(self.conv2(x)), (2, 2))\n",
    "        \n",
    "        \n",
    "        #print(x.shape)\n",
    "        # first pass, figure flat length\n",
    "        if self._to_linear is None:\n",
    "            print(\"x[0] : \",x[0].shape)\n",
    "            self._to_linear = x[0].shape[0]*x[0].shape[1]*x[0].shape[2]\n",
    "        return x\n",
    "    \n",
    "    def forward(self, x):\n",
    "        x = self.convs(x) # first two convolutional layers\n",
    "        x = x.view(-1, self._to_linear) # flatten x\n",
    "        x = F.relu(self.fc1(x))\n",
    "        x = F.relu(self.fc2(x))\n",
    "        x = F.sigmoid(self.fc3(x)) # Sigmoidal activation for output layer since two class problem\n",
    "        #x=F.log_softmax(x, dim=1)\n",
    "        \n",
    "        #x=self.softmax(self.fc3(x))\n",
    "        #print(\"x:\",x.shape)\n",
    "        #print(\"x:\",x)\n",
    "        return x"
   ]
  },
  {
   "cell_type": "code",
   "execution_count": 35,
   "metadata": {},
   "outputs": [
    {
     "name": "stdout",
     "output_type": "stream",
     "text": [
      "x[0] :  torch.Size([12, 61, 61])\n"
     ]
    }
   ],
   "source": [
    "vanillaCNN=Net()"
   ]
  },
  {
   "cell_type": "code",
   "execution_count": 36,
   "metadata": {},
   "outputs": [
    {
     "name": "stdout",
     "output_type": "stream",
     "text": [
      "image shape:  torch.Size([19, 3, 256, 256])\n",
      "reshaped img:  torch.Size([19, 3, 256, 256])\n",
      "v shape:  torch.Size([1, 3, 256, 256])\n",
      "squezzed img:  torch.Size([19, 3, 256, 256])\n",
      "rand tensor shape:  torch.Size([10, 3, 256, 256])\n"
     ]
    },
    {
     "name": "stderr",
     "output_type": "stream",
     "text": [
      "/opt/anaconda3/lib/python3.8/site-packages/torch/nn/functional.py:1806: UserWarning: nn.functional.sigmoid is deprecated. Use torch.sigmoid instead.\n",
      "  warnings.warn(\"nn.functional.sigmoid is deprecated. Use torch.sigmoid instead.\")\n"
     ]
    },
    {
     "name": "stdout",
     "output_type": "stream",
     "text": [
      "output:  tensor([[0.4976, 0.5227, 0.5250, 0.4974, 0.4664, 0.5120, 0.5057, 0.5113, 0.5037,\n",
      "         0.5115, 0.5058, 0.5088, 0.5149, 0.4840, 0.5176, 0.5207, 0.5092, 0.5117,\n",
      "         0.4912, 0.5055, 0.4998, 0.5037, 0.4630, 0.4819, 0.5275, 0.5067, 0.5109,\n",
      "         0.4868, 0.4872, 0.5079, 0.5012, 0.5144, 0.5036, 0.5157, 0.5128, 0.5079,\n",
      "         0.4966, 0.4872, 0.4829, 0.4736, 0.5141, 0.5113, 0.5291, 0.5077, 0.4802,\n",
      "         0.4687, 0.5253, 0.5065, 0.4854, 0.5084, 0.4977, 0.4976, 0.4928, 0.5036,\n",
      "         0.4957, 0.4837, 0.4973, 0.4826, 0.5103, 0.4967, 0.5101, 0.5139, 0.4769,\n",
      "         0.5093, 0.4880, 0.4829, 0.4988, 0.4924, 0.4819, 0.5041, 0.4883, 0.4758,\n",
      "         0.4846, 0.4815, 0.4988, 0.5058, 0.5042, 0.4870, 0.4924, 0.5124, 0.4756,\n",
      "         0.4973, 0.4743, 0.5098, 0.5039, 0.4742, 0.5015, 0.5186, 0.5289, 0.4762,\n",
      "         0.4749, 0.4701, 0.4902, 0.4978, 0.4965, 0.4915, 0.4858, 0.5317, 0.5164,\n",
      "         0.5059]], grad_fn=<SigmoidBackward0>)\n",
      "rand img output:  torch.Size([10, 100])\n"
     ]
    }
   ],
   "source": [
    "#transform = torchvision.transforms.ToTensor()\n",
    "img=trainX[:19]\n",
    "print(\"image shape: \",img.shape)\n",
    "print(\"reshaped img: \",img.view(-1,3,256,256).shape)\n",
    "\n",
    "v=torch.randn(1,3,256,256)\n",
    "print(\"v shape: \",v.shape)\n",
    "r=vanillaCNN.forward(v)\n",
    "simg=torch.squeeze(img.view(-1,3,256,256))\n",
    "print(\"squezzed img: \",simg.shape)\n",
    "\n",
    "\n",
    "im= torch.rand(10, 3, 256,256)\n",
    "print(\"rand tensor shape: \",im.shape)\n",
    "c=vanillaCNN.forward(im)\n",
    "\n",
    "print(\"output: \",r)\n",
    "print(\"rand img output: \",c.shape)"
   ]
  },
  {
   "cell_type": "code",
   "execution_count": 37,
   "metadata": {},
   "outputs": [
    {
     "name": "stdout",
     "output_type": "stream",
     "text": [
      "batch result:  torch.Size([19, 100])\n"
     ]
    }
   ],
   "source": [
    "b=vanillaCNN.forward(img)\n",
    "print(\"batch result: \",b.shape)"
   ]
  },
  {
   "cell_type": "code",
   "execution_count": 38,
   "metadata": {},
   "outputs": [
    {
     "name": "stdout",
     "output_type": "stream",
     "text": [
      "CNN Model:\n",
      " Net(\n",
      "  (conv1): Conv2d(3, 6, kernel_size=(5, 5), stride=(1, 1))\n",
      "  (conv2): Conv2d(6, 12, kernel_size=(5, 5), stride=(1, 1))\n",
      "  (fc1): Linear(in_features=44652, out_features=600, bias=True)\n",
      "  (fc2): Linear(in_features=600, out_features=256, bias=True)\n",
      "  (fc3): Linear(in_features=256, out_features=100, bias=True)\n",
      "  (softmax): Softmax(dim=1)\n",
      ")\n"
     ]
    }
   ],
   "source": [
    "print(\"CNN Model:\\n\",vanillaCNN)"
   ]
  },
  {
   "cell_type": "markdown",
   "metadata": {},
   "source": [
    "#### Train model"
   ]
  },
  {
   "cell_type": "code",
   "execution_count": 39,
   "metadata": {},
   "outputs": [
    {
     "name": "stdout",
     "output_type": "stream",
     "text": [
      "Using device \"cpu\" for training\n"
     ]
    }
   ],
   "source": [
    "dev = torch.device('cuda' if torch.cuda.is_available() else 'cpu')\n",
    "print('Using device \"%s\" for training' % dev)"
   ]
  },
  {
   "cell_type": "code",
   "execution_count": 40,
   "metadata": {},
   "outputs": [],
   "source": [
    "EPOCHS = 10\n",
    "BATCH_SIZE = 256"
   ]
  },
  {
   "cell_type": "code",
   "execution_count": 41,
   "metadata": {},
   "outputs": [
    {
     "name": "stderr",
     "output_type": "stream",
     "text": [
      "100%|██████████| 63/63 [05:30<00:00,  5.25s/it]\n",
      "  0%|          | 0/63 [00:00<?, ?it/s]"
     ]
    },
    {
     "name": "stdout",
     "output_type": "stream",
     "text": [
      "Epoch: 0, Train Loss: 0.0187, Current Min Loss: inf\n",
      "\n",
      "0.018668150482315772\n"
     ]
    },
    {
     "name": "stderr",
     "output_type": "stream",
     "text": [
      "100%|██████████| 63/63 [06:03<00:00,  5.78s/it]\n",
      "  0%|          | 0/63 [00:00<?, ?it/s]"
     ]
    },
    {
     "name": "stdout",
     "output_type": "stream",
     "text": [
      "0.018514306163859247\n"
     ]
    },
    {
     "name": "stderr",
     "output_type": "stream",
     "text": [
      "100%|██████████| 63/63 [05:32<00:00,  5.28s/it]\n",
      "  0%|          | 0/63 [00:00<?, ?it/s]"
     ]
    },
    {
     "name": "stdout",
     "output_type": "stream",
     "text": [
      "0.018484064653266657\n"
     ]
    },
    {
     "name": "stderr",
     "output_type": "stream",
     "text": [
      "100%|██████████| 63/63 [05:31<00:00,  5.27s/it]\n",
      "  0%|          | 0/63 [00:00<?, ?it/s]"
     ]
    },
    {
     "name": "stdout",
     "output_type": "stream",
     "text": [
      "0.018474394182686444\n"
     ]
    },
    {
     "name": "stderr",
     "output_type": "stream",
     "text": [
      "100%|██████████| 63/63 [06:01<00:00,  5.74s/it]\n",
      "  0%|          | 0/63 [00:00<?, ?it/s]"
     ]
    },
    {
     "name": "stdout",
     "output_type": "stream",
     "text": [
      "0.018474343265117422\n"
     ]
    },
    {
     "name": "stderr",
     "output_type": "stream",
     "text": [
      "100%|██████████| 63/63 [05:38<00:00,  5.37s/it]\n",
      "  0%|          | 0/63 [00:00<?, ?it/s]"
     ]
    },
    {
     "name": "stdout",
     "output_type": "stream",
     "text": [
      "Epoch: 5, Train Loss: 0.0185, Current Min Loss: 0.0185\n",
      "\n",
      "0.018492764685259275\n"
     ]
    },
    {
     "name": "stderr",
     "output_type": "stream",
     "text": [
      "100%|██████████| 63/63 [05:47<00:00,  5.51s/it]\n",
      "  0%|          | 0/63 [00:00<?, ?it/s]"
     ]
    },
    {
     "name": "stdout",
     "output_type": "stream",
     "text": [
      "0.018513284227572577\n"
     ]
    },
    {
     "name": "stderr",
     "output_type": "stream",
     "text": [
      "100%|██████████| 63/63 [06:10<00:00,  5.87s/it]\n",
      "  0%|          | 0/63 [00:00<?, ?it/s]"
     ]
    },
    {
     "name": "stdout",
     "output_type": "stream",
     "text": [
      "0.018503967026447996\n"
     ]
    },
    {
     "name": "stderr",
     "output_type": "stream",
     "text": [
      "100%|██████████| 63/63 [05:43<00:00,  5.46s/it]\n",
      "  0%|          | 0/63 [00:00<?, ?it/s]"
     ]
    },
    {
     "name": "stdout",
     "output_type": "stream",
     "text": [
      "0.018503539455719416\n"
     ]
    },
    {
     "name": "stderr",
     "output_type": "stream",
     "text": [
      "100%|██████████| 63/63 [06:02<00:00,  5.75s/it]"
     ]
    },
    {
     "name": "stdout",
     "output_type": "stream",
     "text": [
      "0.01850297726506689\n"
     ]
    },
    {
     "name": "stderr",
     "output_type": "stream",
     "text": [
      "\n"
     ]
    }
   ],
   "source": [
    "min_loss = np.Inf #lowest loss will be the loaded model\n",
    "\n",
    "loss_function = nn.CrossEntropyLoss().to(dev) \n",
    "\n",
    "optimizer = optim.Adam(vanillaCNN.parameters(),lr=0.0001)\n",
    "\n",
    "epoch_num=[]\n",
    "loss_arr=[]\n",
    "\n",
    "enum=0\n",
    "for epoch in range(EPOCHS):\n",
    "    train_loss = 0\n",
    "    vanillaCNN.train()\n",
    "    for i in tqdm(range(0, len(trainX), BATCH_SIZE)): \n",
    "        #print(f\"{i}:{i+BATCH_SIZE}\")\n",
    "        \n",
    "        batch_X = trainX[i:i+BATCH_SIZE].to(dev)\n",
    "        batch_y = trainY[i:i+BATCH_SIZE].to(dev)\n",
    "        batch_y=batch_y.view(len(batch_y)).type(torch.LongTensor)\n",
    "        \n",
    "        vanillaCNN.zero_grad()\n",
    "        #print(batch_X.shape)\n",
    "        outputs = vanillaCNN(batch_X)\n",
    "        \n",
    "        #print(\"result shape: \",outputs.shape,batch_y.shape)\n",
    "        \n",
    "        #print(outputs.dtype)\n",
    "        #print(batch_y.dtype)\n",
    "        #print(outputs.shape,\" <=> \",batch_y.shape)\n",
    "        \n",
    "        loss = loss_function(outputs, batch_y)\n",
    "        loss.backward()\n",
    "        optimizer.step()    #update weights\n",
    "        \n",
    "        #print(loss.item())\n",
    "        #print(loss.item(),\" - \",len(train_x))\n",
    "        train_loss += loss.item()/len(trainX)\n",
    "    #print(\"train loss: \",train_loss)\n",
    "    if epoch % 5 == 0:\n",
    "        print('Epoch: {}, Train Loss: {:.4f}, Current Min Loss: {:.4f}\\n'.format(   #print training loss at each step\n",
    "            epoch,\n",
    "            train_loss,\n",
    "            min_loss\n",
    "        )) \n",
    "    if train_loss < min_loss:   \n",
    "        min_loss = train_loss\n",
    "    print(train_loss)\n",
    "    epoch_num.append(enum)\n",
    "    loss_arr.append(train_loss)\n",
    "    enum+=1"
   ]
  },
  {
   "cell_type": "code",
   "execution_count": 42,
   "metadata": {},
   "outputs": [
    {
     "data": {
      "image/png": "[encoded data removed]",
      "text/plain": [
       "<Figure size 432x288 with 1 Axes>"
      ]
     },
     "metadata": {
      "needs_background": "light"
     },
     "output_type": "display_data"
    }
   ],
   "source": [
    "plt.plot(epoch_num, loss_arr)\n",
    "plt.title('Vannilla CNN - Train Loss vs Epoch number')\n",
    "plt.xlabel('Epoch number')\n",
    "plt.ylabel('Train Loss')\n",
    "plt.show()"
   ]
  },
  {
   "cell_type": "markdown",
   "metadata": {},
   "source": [
    "#### Test"
   ]
  },
  {
   "cell_type": "code",
   "execution_count": 43,
   "metadata": {},
   "outputs": [],
   "source": [
    "#def test(model,test_x,test_y):\n",
    "def model_test(test_x,test_y, model, epoch_num=EPOCHS):\n",
    "    model.train(False)\n",
    "    correct = 0\n",
    "    total = 0\n",
    "\n",
    "    #print(test_y)\n",
    "    with torch.no_grad():\n",
    "        for i in tqdm(range(len(test_x))):\n",
    "            real_class = test_y[i].to(dev)\n",
    "            images=test_x[i].view(-1,3,64,64).to(dev)\n",
    "            net_out = model(images) # returns a list, \n",
    "\n",
    "            predicted_class = torch.argmax(net_out,dim=1)\n",
    "            #print(net_out,\" =>\",predicted_class,\" : \",real_class)\n",
    "            if predicted_class == real_class:\n",
    "                correct += 1\n",
    "                #print(net_out,\" =>\",predicted_class,\" : \",real_class)\n",
    "            total += 1\n",
    "    print(\"Accuracy: \", round((correct/total)*100, 3),\" % \")"
   ]
  },
  {
   "cell_type": "code",
   "execution_count": 44,
   "metadata": {},
   "outputs": [
    {
     "name": "stderr",
     "output_type": "stream",
     "text": [
      "100%|██████████| 4008/4008 [01:01<00:00, 65.52it/s]"
     ]
    },
    {
     "name": "stdout",
     "output_type": "stream",
     "text": [
      "Initial Model Accuracy:  1.198  % \n"
     ]
    },
    {
     "name": "stderr",
     "output_type": "stream",
     "text": [
      "\n"
     ]
    }
   ],
   "source": [
    "vanillaCNN.train(False)\n",
    "correct = 0\n",
    "total = 0\n",
    "\n",
    "#print(test_y)\n",
    "\n",
    "with torch.no_grad():\n",
    "    for i in tqdm(range(len(testX))):\n",
    "        real_class = testY[i].to(dev)\n",
    "        images=testX[i].view(-1,3,256,256).to(dev)\n",
    "        net_out = vanillaCNN(images) # returns a list, \n",
    "        \n",
    "        predicted_class = torch.argmax(net_out,dim=1)\n",
    "        #print(net_out,\" =>\",predicted_class,\" : \",real_class)\n",
    "        #print(predicted_class.shape,\" : \",real_class.shape)\n",
    "        if predicted_class == real_class:\n",
    "            correct += 1\n",
    "            #print(net_out,\" =>\",predicted_class,\" : \",real_class)\n",
    "        total += 1\n",
    "print(\"Initial Model Accuracy: \", round((correct/total)*100, 3),\" % \")"
   ]
  },
  {
   "cell_type": "code",
   "execution_count": null,
   "metadata": {},
   "outputs": [],
   "source": []
  },
  {
   "cell_type": "code",
   "execution_count": null,
   "metadata": {},
   "outputs": [],
   "source": []
  },
  {
   "cell_type": "code",
   "execution_count": null,
   "metadata": {},
   "outputs": [],
   "source": []
  },
  {
   "cell_type": "markdown",
   "metadata": {},
   "source": [
    "### Resources\n",
    "\n",
    "- https://competitions.codalab.org/competitions/4081#participate-get-data\n",
    "- \n",
    "\n",
    "\n",
    "- https://blog.keras.io/running-jupyter-notebooks-on-gpu-on-aws-a-starter-guide.html"
   ]
  },
  {
   "cell_type": "markdown",
   "metadata": {},
   "source": [
    "##### "
   ]
  }
 ],
 "metadata": {
  "kernelspec": {
   "display_name": "Python 3",
   "language": "python",
   "name": "python3"
  },
  "language_info": {
   "codemirror_mode": {
    "name": "ipython",
    "version": 3
   },
   "file_extension": ".py",
   "mimetype": "text/x-python",
   "name": "python",
   "nbconvert_exporter": "python",
   "pygments_lexer": "ipython3",
   "version": "3.8.5"
  }
 },
 "nbformat": 4,
 "nbformat_minor": 4
}
